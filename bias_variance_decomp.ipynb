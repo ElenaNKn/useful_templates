{
 "cells": [
  {
   "cell_type": "code",
   "execution_count": null,
   "metadata": {
    "id": "iHEOMpwPeUpR"
   },
   "outputs": [],
   "source": [
    "!pip install mlxtend --upgrade"
   ]
  },
  {
   "cell_type": "markdown",
   "metadata": {
    "id": "LtXZLXa-axra"
   },
   "source": [
    "### Гиперпараметры\n",
    "* `estimator` - семейство моделей\n",
    "* `X_train, y_train` - обучающие данные   **!!!!!! Функция умеет работать только с np.array, НЕ PANDAS. Поэтому предварительно берем .values**\n",
    "* `X_test, y_test` - тестовые данные      **!!!!!! Функция умеет работать только с np.array, НЕ PANDAS. Поэтому предварительно берем .values**\n",
    "* `loss` - функция потерь ('mse' для регрессии, '0-1_loss' (доля ошибок модели) для классификации)\n",
    "* `num_rounds=200` - число случайных подвыборок из `X_train` для обучения модели"
   ]
  },
  {
   "cell_type": "markdown",
   "metadata": {
    "id": "8XdrlWzvbvq-"
   },
   "source": [
    "### Возвращаемые значения\n",
    "\n",
    "* `avg_expected_loss` - ошибка на тестовых данных\n",
    "* `avg_expected_bias` - смещение\n",
    "* `avg_expected_variance` - разброс"
   ]
  },
  {
   "cell_type": "code",
   "execution_count": null,
   "metadata": {
    "id": "3PpHLFd2ZXu3"
   },
   "outputs": [],
   "source": [
    "from mlxtend.evaluate import bias_variance_decomp\n",
    "\n",
    "X_train = Xtrain.values\n",
    "y_train = ytrain.values\n",
    "X_test = Xtest.values\n",
    "y_test = ytest.values"
   ]
  },
  {
   "cell_type": "code",
   "execution_count": null,
   "metadata": {
    "id": "diFVb_hF3kgx"
   },
   "outputs": [],
   "source": [
    "avg_mse, avg_bias, avg_var = bias_variance_decomp(LinearRegression(), X_train, y_train,\n",
    "                                                  X_test, y_test, loss = 'mse',\n",
    "                                                  random_seed=np.random.seed(RANDOM_STATE))"
   ]
  },
  {
   "cell_type": "code",
   "execution_count": null,
   "metadata": {
    "colab": {
     "base_uri": "https://localhost:8080/"
    },
    "id": "6CcMdeDydgnJ",
    "outputId": "f7fab4a1-7cca-41df-8d0b-8375ad953f24"
   },
   "outputs": [],
   "source": [
    "print('Loss:', avg_mse)\n",
    "print('Bias:', avg_bias)\n",
    "print('Variance:', avg_var)"
   ]
  },
  {
   "attachments": {
    "8e31ed70-dd41-42e8-9a8b-9d2660d6f8a0.png": {
     "image/png": "[encoded data removed]"
    }
   },
   "cell_type": "markdown",
   "metadata": {},
   "source": [
    "Допустим вывод такой\n",
    "\n",
    "![image.png](attachment:8e31ed70-dd41-42e8-9a8b-9d2660d6f8a0.png)\n",
    "\n",
    "Видим, что в данном случае смещение большое, а разброс маленький. Такое поведение характерно для динейных моделей: они не сильно подстраиваются плод одучающие данные поэтому разброс маленький, но им сложно точно предсказать целевую переменную (смещение большое)\n",
    "\n",
    "Итого:\n",
    "смещение (bias) показывает, насколько точно предсказывает целевую переменную\n",
    "разброс (variance) показывает, сильно ли переобучается модель, насколько сильно она подстроилась под обучающую выборку"
   ]
  },
  {
   "cell_type": "code",
   "execution_count": null,
   "metadata": {},
   "outputs": [],
   "source": []
  }
 ],
 "metadata": {
  "colab": {
   "provenance": []
  },
  "kernelspec": {
   "display_name": "Python 3 (ipykernel)",
   "language": "python",
   "name": "python3"
  },
  "language_info": {
   "codemirror_mode": {
    "name": "ipython",
    "version": 3
   },
   "file_extension": ".py",
   "mimetype": "text/x-python",
   "name": "python",
   "nbconvert_exporter": "python",
   "pygments_lexer": "ipython3",
   "version": "3.10.11"
  }
 },
 "nbformat": 4,
 "nbformat_minor": 4
}
