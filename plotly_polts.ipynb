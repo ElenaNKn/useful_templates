{
 "cells": [
  {
   "cell_type": "markdown",
   "id": "21dc51ae-d83b-4bf4-997b-18876d3cdde4",
   "metadata": {},
   "source": [
    "### Динамический график с совмещенным бегунком и двумя осями"
   ]
  },
  {
   "cell_type": "code",
   "execution_count": null,
   "id": "75eb05ad-c7fa-45a5-993d-7e5bd469ac0f",
   "metadata": {},
   "outputs": [],
   "source": [
    "import plotly\n",
    "import plotly.graph_objs as go\n",
    "import plotly expres as px\n",
    "from plotly.subplots import make_subplots"
   ]
  },
  {
   "cell_type": "code",
   "execution_count": null,
   "id": "08d94b70-0073-4b7f-84d5-e0337ea0bc78",
   "metadata": {},
   "outputs": [],
   "source": [
    "# обображение 2-й оси у\n",
    "fig = make_subplots(spec=[[{\"secondary_y\":True}]])\n",
    "\n",
    "# добавляем 1-й график\n",
    "fig.add_trace(go.Scatter(x=arr1, y=arr2, mode=\"lines+markers+text\", text=arr2, texttemplate='<br>%{y}<br>', \\\n",
    "                         textposition=\"top center\", name=\"NAME Of PLOT\", hovertemplate='<br>%{y}<br>'), secondary_y=False)\n",
    "\n",
    "# добавляем 2-й график\n",
    "fig.add_trace(go.Scatter(x=arr3, y=arr4, mode=\"lines+markers+text\", text=arr2, texttemplate='<br>%{y}<br>', \\\n",
    "                         textposition=\"top center\", name=\"NAME Of PLOT\", hovertemplate='<br>%{y}<br>'), secondary_y=True)\n",
    "# легенда, бегунок\n",
    "fig.update_layout(legend_orientation='v', legend=dict(x=0.5, y=0.25, xanchor='center', yanchor='bottom'), \\\n",
    "                 hovermode='x unified', margin=dict(l=10, r=10, t=30, b=0), title_text=\"NAME_FIGURE\", title=dict(x=0.5, xanchor='center'))\n",
    "\n",
    "# параметры левой оси у\n",
    "fig.update_yaxis(title_text='NAME_AXIS', range=[a1, a2], color='color_of_numbers', title_font_color='color_of_axis_name', secondary_y=False)\n",
    "\n",
    "# параметры правой оси у\n",
    "fig.update_yaxis(title_text='NAME_AXIS', range=[a1, a2], color='color_of_numbers', title_font_color='color_of_axis_name', secondary_y=True)\n",
    "\n",
    "Fig.show()"
   ]
  },
  {
   "cell_type": "markdown",
   "id": "21501a15-ecba-46ba-bd02-380294bfba61",
   "metadata": {},
   "source": [
    "### Последовательные графики на базе датафреймов с данными в виде нескольких линий (группировка по одной из колонок датафрейма)"
   ]
  },
  {
   "cell_type": "code",
   "execution_count": null,
   "id": "07e7b3ef-d5e5-46aa-b3ee-f2f61dbf653c",
   "metadata": {},
   "outputs": [],
   "source": [
    "import plotly.express as px"
   ]
  },
  {
   "cell_type": "code",
   "execution_count": null,
   "id": "7b44dee6-bebe-44f0-aad2-33fbdd0a31f5",
   "metadata": {},
   "outputs": [],
   "source": [
    "fig1 = px.line(df, x='column_name1_of_df', y='column_name2_of_df', color='column_name_categorical_of_df', \\\n",
    "              title='Title_of_plot', width=700, height=700)\n",
    "fig1.update_yaxes(title='Name_of_axes_y', range=[0, 1])\n",
    "fig1.update_xaxes(title='Name_of_axes_x')\n",
    "fig1.show()\n",
    "\n",
    "fig2 = px.line(df2, x='column_name1_of_df2', y='column_name2_of_df2', color='column_name_categorical_of_df2', \\\n",
    "              title='Title_of_plot', width=700, height=700)\n",
    "fig2.update_yaxes(title='Name_of_axes_y', range=[0, 1])\n",
    "fig2.update_xaxes(title='Name_of_axes_x')\n",
    "fig2.show()"
   ]
  },
  {
   "cell_type": "markdown",
   "id": "617ee5a5-3784-4806-81e7-7e6781ca54e8",
   "metadata": {},
   "source": [
    "### Гистограмма с заданием howertemplate"
   ]
  },
  {
   "cell_type": "code",
   "execution_count": null,
   "id": "34dbf58c-fc71-48da-99e1-7916f098269e",
   "metadata": {},
   "outputs": [],
   "source": [
    "import plotly.express as px\n",
    "\n",
    "fig1 = px.histogram(dataframe, title='<b>Название графика</b>')\n",
    "fig1.update_yaxes(title='Название оси у')\n",
    "fig1.update_xaxes(title='Название оси х')\n",
    "fig1.update_traces(hovertemplate='Переменная х: %{x} с <br>Переменная у: %{y}'+\"<extra></extra>\")\n",
    "fig1.update_layout(showlegend=False)\n",
    "fig1.show()"
   ]
  },
  {
   "cell_type": "markdown",
   "id": "87b43d2b-5907-4969-8985-72364fdde28b",
   "metadata": {},
   "source": [
    "### Pie plot"
   ]
  },
  {
   "cell_type": "code",
   "execution_count": null,
   "id": "1d4ffd08-c074-497d-b492-50c4a3c97789",
   "metadata": {},
   "outputs": [],
   "source": [
    "values = [value1, value2]\n",
    "names = ['жен', 'муж']\n",
    "fig = px.pie(values=values, names=names, title='<b>My title</b>')\n",
    "fig.update_traces(hovertemplate='Пол: %{label} <br>Количество: %{value}<br>Процент от общего: %{percent}',\n",
    "                  textinfo='value+percent')\n",
    "fig.show()"
   ]
  },
  {
   "cell_type": "markdown",
   "id": "733905f5-e118-494a-afc5-4398ab50b697",
   "metadata": {},
   "source": [
    "### 2 гистограммы, прозрачность=0,5, обе начинаются от нижней оси (через plotly_express)\r\n",
    "df: id, year, gender"
   ]
  },
  {
   "cell_type": "code",
   "execution_count": null,
   "id": "99ac5fc5-6dd7-43de-b8eb-455dcd2b176b",
   "metadata": {},
   "outputs": [],
   "source": [
    "import plotly.express as px\n",
    "\n",
    "fig = px.histogram(df, x=df.year, color=df.gender,\n",
    "                    title='<b>My title</b>',\n",
    "                    nbins=40, text_auto=False, hover_data=df.columns)\n",
    "fig.update_yaxes(title='Y axis')\n",
    "fig.update_xaxes(title='X axis', range=[0, 100])\n",
    "fig.update_traces(hovertemplate='Age: %{x} years <br>Count: %{y}')\n",
    "fig.update_layout(barmode='overlay', legend_title=\"Gender\")\n",
    "fig.update_traces(opacity=0.5) # прозрачность\n",
    "fig.show()\n"
   ]
  },
  {
   "cell_type": "markdown",
   "id": "6d3973f9-c54d-4aee-ba65-99e87dec6de5",
   "metadata": {},
   "source": [
    "### 2 полупрозрачных столбчатых диаграммы (через graph_objects)"
   ]
  },
  {
   "cell_type": "code",
   "execution_count": null,
   "id": "2c7ae059-750a-4164-a38d-1289a3e0a126",
   "metadata": {},
   "outputs": [],
   "source": [
    "import plotly.express as px\n",
    "import plotly.graph_objects as go\n",
    "\n",
    "fig = go.Figure(data=[go.Bar(\n",
    "    name = 'name of 1st barplot',\n",
    "    x = df['Age group'],\n",
    "    y = df.col1,\n",
    "    hovertemplate='<br>Age group: %{x} <br>Percentage: %{text}%<br><extra></extra>',\n",
    "    text=# расчет доли,\n",
    "    texttemplate = \"%{text}%\"\n",
    "   ),\n",
    "    go.Bar(\n",
    "    name = 'name of 2ndbarplot',\n",
    "    x = df['Age group'],\n",
    "    y = df.col2,\n",
    "    hovertemplate='<br>Age group: %{x} <br>Percentage: %{text}%<br><extra></extra>',\n",
    "    text=# расчет доли,\n",
    "    texttemplate = \"%{text}%\"\n",
    "   )\n",
    "])\n",
    "\n",
    "fig.update_traces(textposition='inside', opacity=0.5, textangle=0)\n",
    "fig.update_layout(barmode='overlay', legend_title=\"Legend title\", uniformtext_minsize=16, uniformtext_mode='hide',\n",
    "                 title_text='<b>Common plot name</b>')\n",
    "fig.show()"
   ]
  },
  {
   "cell_type": "code",
   "execution_count": null,
   "id": "921e4799-fb6f-44f7-a8d4-93bd1ec0da6f",
   "metadata": {},
   "outputs": [],
   "source": []
  }
 ],
 "metadata": {
  "kernelspec": {
   "display_name": "Python 3 (ipykernel)",
   "language": "python",
   "name": "python3"
  },
  "language_info": {
   "codemirror_mode": {
    "name": "ipython",
    "version": 3
   },
   "file_extension": ".py",
   "mimetype": "text/x-python",
   "name": "python",
   "nbconvert_exporter": "python",
   "pygments_lexer": "ipython3",
   "version": "3.10.11"
  }
 },
 "nbformat": 4,
 "nbformat_minor": 5
}
