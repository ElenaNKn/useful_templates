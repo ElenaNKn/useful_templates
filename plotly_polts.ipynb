{
 "cells": [
  {
   "cell_type": "markdown",
   "id": "21dc51ae-d83b-4bf4-997b-18876d3cdde4",
   "metadata": {},
   "source": [
    "### Динамический график с совмещенным бегунком и двумя осями"
   ]
  },
  {
   "cell_type": "code",
   "execution_count": null,
   "id": "75eb05ad-c7fa-45a5-993d-7e5bd469ac0f",
   "metadata": {},
   "outputs": [],
   "source": [
    "import plotly\n",
    "import plotly.graph_objs as go\n",
    "import plotly expres as px\n",
    "from plotly.subplots import make_subplots"
   ]
  },
  {
   "cell_type": "code",
   "execution_count": null,
   "id": "08d94b70-0073-4b7f-84d5-e0337ea0bc78",
   "metadata": {},
   "outputs": [],
   "source": [
    "# обображение 2-й оси у\n",
    "fig = make_subplots(spec=[[{\"secondary_y\":True}]])\n",
    "\n",
    "# добавляем 1-й график\n",
    "fig.add_trace(go.Scatter(x=arr1, y=arr2, mode=\"lines+markers+text\", text=arr2, texttemplate='<br>%{y}<br>', \\\n",
    "                         textposition=\"top center\", name=\"NAME Of PLOT\", hovertemplate='<br>%{y}<br>'), secondary_y=False)\n",
    "\n",
    "# добавляем 2-й график\n",
    "fig.add_trace(go.Scatter(x=arr3, y=arr4, mode=\"lines+markers+text\", text=arr2, texttemplate='<br>%{y}<br>', \\\n",
    "                         textposition=\"top center\", name=\"NAME Of PLOT\", hovertemplate='<br>%{y}<br>'), secondary_y=True)\n",
    "# легенда, бегунок\n",
    "fig.update_layout(legend_orientation='v', legend=dict(x=0.5, y=0.25, xanchor='center', yanchor='bottom'), \\\n",
    "                 hovermode='x unified', margin=dict(l=10, r=10, t=30, b=0), title_text=\"NAME_FIGURE\", title=dict(x=0.5, xanchor='center'))\n",
    "\n",
    "# параметры левой оси у\n",
    "fig.update_yaxis(title_text='NAME_AXIS', range=[a1, a2], color='color_of_numbers', title_font_color='color_of_axis_name', secondary_y=False)\n",
    "\n",
    "# параметры правой оси у\n",
    "fig.update_yaxis(title_text='NAME_AXIS', range=[a1, a2], color='color_of_numbers', title_font_color='color_of_axis_name', secondary_y=True)\n",
    "\n",
    "Fig.show()"
   ]
  },
  {
   "cell_type": "markdown",
   "id": "21501a15-ecba-46ba-bd02-380294bfba61",
   "metadata": {},
   "source": [
    "### Последовательные графики на базе датафреймов с данными в виде нескольких линий (группировка по одной из колонок датафрейма)"
   ]
  },
  {
   "cell_type": "code",
   "execution_count": null,
   "id": "07e7b3ef-d5e5-46aa-b3ee-f2f61dbf653c",
   "metadata": {},
   "outputs": [],
   "source": [
    "import plotly.express as px"
   ]
  },
  {
   "cell_type": "code",
   "execution_count": null,
   "id": "7b44dee6-bebe-44f0-aad2-33fbdd0a31f5",
   "metadata": {},
   "outputs": [],
   "source": [
    "fig1 = px.line(df, x='column_name1_of_df', y='column_name2_of_df', color='column_name_categorical_of_df', \\\n",
    "              title='Title_of_plot', width=700, height=700)\n",
    "fig1.update_yaxes(title='Name_of_axes_y', range=[0, 1])\n",
    "fig1.update_xaxes(title='Name_of_axes_x')\n",
    "fig1.show()\n",
    "\n",
    "fig2 = px.line(df2, x='column_name1_of_df2', y='column_name2_of_df2', color='column_name_categorical_of_df2', \\\n",
    "              title='Title_of_plot', width=700, height=700)\n",
    "fig2.update_yaxes(title='Name_of_axes_y', range=[0, 1])\n",
    "fig2.update_xaxes(title='Name_of_axes_x')\n",
    "fig2.show()"
   ]
  }
 ],
 "metadata": {
  "kernelspec": {
   "display_name": "Python 3 (ipykernel)",
   "language": "python",
   "name": "python3"
  },
  "language_info": {
   "codemirror_mode": {
    "name": "ipython",
    "version": 3
   },
   "file_extension": ".py",
   "mimetype": "text/x-python",
   "name": "python",
   "nbconvert_exporter": "python",
   "pygments_lexer": "ipython3",
   "version": "3.10.11"
  }
 },
 "nbformat": 4,
 "nbformat_minor": 5
}
