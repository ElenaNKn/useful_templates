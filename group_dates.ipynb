{
 "cells": [
  {
   "cell_type": "markdown",
   "id": "f5c78238-4548-42ad-a6e0-305a593d5f25",
   "metadata": {},
   "source": [
    "### Group dates"
   ]
  },
  {
   "cell_type": "markdown",
   "id": "7b161a79-a556-43fc-ac71-671b7760aa2b",
   "metadata": {},
   "source": [
    "pandas: есть таблица\n",
    "\n",
    "year - quantity\n",
    "\n",
    "Задаем категории 5-летних периодов и группируем quantity"
   ]
  },
  {
   "cell_type": "code",
   "execution_count": null,
   "id": "280703fe-a49b-4f5a-8be8-446a1ef7c2fd",
   "metadata": {},
   "outputs": [],
   "source": [
    "# формирование категорий\n",
    "age_groups = [\"{0} - {1}\".format(i, i + 4) for i in range(0, 99, 5)]\n",
    "cats = pd.Categorical(values=age_groups, categories=age_groups, ordered=True)\n",
    "cats.categories\n",
    "# создаем колонку с отнесением каждой записи к категории\n",
    "df[\"Age group\"] = pd.cut(df.year, range(0, 105, 5), right=False, labels=cats)\n",
    "\n",
    "res = df.groupby(by='Age group', as_index=False)[['quantity']].sum()"
   ]
  }
 ],
 "metadata": {
  "kernelspec": {
   "display_name": "Python 3 (ipykernel)",
   "language": "python",
   "name": "python3"
  },
  "language_info": {
   "codemirror_mode": {
    "name": "ipython",
    "version": 3
   },
   "file_extension": ".py",
   "mimetype": "text/x-python",
   "name": "python",
   "nbconvert_exporter": "python",
   "pygments_lexer": "ipython3",
   "version": "3.10.11"
  }
 },
 "nbformat": 4,
 "nbformat_minor": 5
}
