{
 "cells": [
  {
   "cell_type": "markdown",
   "metadata": {
    "id": "FtRSA6FevXlO"
   },
   "source": [
    "# Логистическая регрессия. Практика"
   ]
  },
  {
   "cell_type": "markdown",
   "metadata": {
    "id": "Q7ytv2GMjpGZ"
   },
   "source": [
    "В этом задании вам предлагается спрогнозировать, купит клиент велосипед или нет, обучив логистическую регрессию."
   ]
  },
  {
   "cell_type": "code",
   "execution_count": 1,
   "metadata": {
    "id": "aPDB2wP8jndz"
   },
   "outputs": [],
   "source": [
    "# подключим библиотеки\n",
    "import matplotlib.pyplot as plt\n",
    "import numpy as np\n",
    "import pandas as pd\n",
    "\n",
    "import warnings\n",
    "warnings.filterwarnings(\"ignore\")"
   ]
  },
  {
   "cell_type": "code",
   "execution_count": 2,
   "metadata": {
    "id": "7Zw7RmtAjn8O"
   },
   "outputs": [],
   "source": [
    "# считаем данные\n",
    "data = pd.read_csv('https://raw.githubusercontent.com/evgpat/edu_stepik_practical_ml/main/datasets/bike_buyers_clean.csv')"
   ]
  },
  {
   "cell_type": "code",
   "execution_count": 3,
   "metadata": {
    "id": "3QbRGWqJjxOv"
   },
   "outputs": [
    {
     "data": {
      "text/html": [
       "<div>\n",
       "<style scoped>\n",
       "    .dataframe tbody tr th:only-of-type {\n",
       "        vertical-align: middle;\n",
       "    }\n",
       "\n",
       "    .dataframe tbody tr th {\n",
       "        vertical-align: top;\n",
       "    }\n",
       "\n",
       "    .dataframe thead th {\n",
       "        text-align: right;\n",
       "    }\n",
       "</style>\n",
       "<table border=\"1\" class=\"dataframe\">\n",
       "  <thead>\n",
       "    <tr style=\"text-align: right;\">\n",
       "      <th></th>\n",
       "      <th>ID</th>\n",
       "      <th>Marital Status</th>\n",
       "      <th>Gender</th>\n",
       "      <th>Income</th>\n",
       "      <th>Children</th>\n",
       "      <th>Education</th>\n",
       "      <th>Occupation</th>\n",
       "      <th>Home Owner</th>\n",
       "      <th>Cars</th>\n",
       "      <th>Commute Distance</th>\n",
       "      <th>Region</th>\n",
       "      <th>Age</th>\n",
       "      <th>Purchased Bike</th>\n",
       "    </tr>\n",
       "  </thead>\n",
       "  <tbody>\n",
       "    <tr>\n",
       "      <th>0</th>\n",
       "      <td>12496</td>\n",
       "      <td>Married</td>\n",
       "      <td>Female</td>\n",
       "      <td>40000</td>\n",
       "      <td>1</td>\n",
       "      <td>Bachelors</td>\n",
       "      <td>Skilled Manual</td>\n",
       "      <td>Yes</td>\n",
       "      <td>0</td>\n",
       "      <td>0-1 Miles</td>\n",
       "      <td>Europe</td>\n",
       "      <td>42</td>\n",
       "      <td>No</td>\n",
       "    </tr>\n",
       "    <tr>\n",
       "      <th>1</th>\n",
       "      <td>24107</td>\n",
       "      <td>Married</td>\n",
       "      <td>Male</td>\n",
       "      <td>30000</td>\n",
       "      <td>3</td>\n",
       "      <td>Partial College</td>\n",
       "      <td>Clerical</td>\n",
       "      <td>Yes</td>\n",
       "      <td>1</td>\n",
       "      <td>0-1 Miles</td>\n",
       "      <td>Europe</td>\n",
       "      <td>43</td>\n",
       "      <td>No</td>\n",
       "    </tr>\n",
       "    <tr>\n",
       "      <th>2</th>\n",
       "      <td>14177</td>\n",
       "      <td>Married</td>\n",
       "      <td>Male</td>\n",
       "      <td>80000</td>\n",
       "      <td>5</td>\n",
       "      <td>Partial College</td>\n",
       "      <td>Professional</td>\n",
       "      <td>No</td>\n",
       "      <td>2</td>\n",
       "      <td>2-5 Miles</td>\n",
       "      <td>Europe</td>\n",
       "      <td>60</td>\n",
       "      <td>No</td>\n",
       "    </tr>\n",
       "    <tr>\n",
       "      <th>3</th>\n",
       "      <td>24381</td>\n",
       "      <td>Single</td>\n",
       "      <td>Male</td>\n",
       "      <td>70000</td>\n",
       "      <td>0</td>\n",
       "      <td>Bachelors</td>\n",
       "      <td>Professional</td>\n",
       "      <td>Yes</td>\n",
       "      <td>1</td>\n",
       "      <td>5-10 Miles</td>\n",
       "      <td>Pacific</td>\n",
       "      <td>41</td>\n",
       "      <td>Yes</td>\n",
       "    </tr>\n",
       "    <tr>\n",
       "      <th>4</th>\n",
       "      <td>25597</td>\n",
       "      <td>Single</td>\n",
       "      <td>Male</td>\n",
       "      <td>30000</td>\n",
       "      <td>0</td>\n",
       "      <td>Bachelors</td>\n",
       "      <td>Clerical</td>\n",
       "      <td>No</td>\n",
       "      <td>0</td>\n",
       "      <td>0-1 Miles</td>\n",
       "      <td>Europe</td>\n",
       "      <td>36</td>\n",
       "      <td>Yes</td>\n",
       "    </tr>\n",
       "  </tbody>\n",
       "</table>\n",
       "</div>"
      ],
      "text/plain": [
       "      ID Marital Status  Gender  Income  Children        Education  \\\n",
       "0  12496        Married  Female   40000         1        Bachelors   \n",
       "1  24107        Married    Male   30000         3  Partial College   \n",
       "2  14177        Married    Male   80000         5  Partial College   \n",
       "3  24381         Single    Male   70000         0        Bachelors   \n",
       "4  25597         Single    Male   30000         0        Bachelors   \n",
       "\n",
       "       Occupation Home Owner  Cars Commute Distance   Region  Age  \\\n",
       "0  Skilled Manual        Yes     0        0-1 Miles   Europe   42   \n",
       "1        Clerical        Yes     1        0-1 Miles   Europe   43   \n",
       "2    Professional         No     2        2-5 Miles   Europe   60   \n",
       "3    Professional        Yes     1       5-10 Miles  Pacific   41   \n",
       "4        Clerical         No     0        0-1 Miles   Europe   36   \n",
       "\n",
       "  Purchased Bike  \n",
       "0             No  \n",
       "1             No  \n",
       "2             No  \n",
       "3            Yes  \n",
       "4            Yes  "
      ]
     },
     "execution_count": 3,
     "metadata": {},
     "output_type": "execute_result"
    }
   ],
   "source": [
    "# выводим первые 5 строк датафрейма\n",
    "data.head(5)"
   ]
  },
  {
   "cell_type": "code",
   "execution_count": 4,
   "metadata": {
    "id": "UZz-ce-QnzaU"
   },
   "outputs": [
    {
     "data": {
      "text/plain": [
       "(1000, 13)"
      ]
     },
     "execution_count": 4,
     "metadata": {},
     "output_type": "execute_result"
    }
   ],
   "source": [
    "# смотрим размер датафрейма\n",
    "data.shape"
   ]
  },
  {
   "cell_type": "markdown",
   "metadata": {
    "id": "HbnaQJxw2mHQ"
   },
   "source": [
    "Выведите статистики по категориальным признакам, чтобы посмотреть, сколько категорий в каждом категориальном (нечисловом) признаке.\n",
    "\n",
    "Для этого можно воспользоваться методом `describe` из библиотеки pandas со значением параметра `include = 'object'`."
   ]
  },
  {
   "cell_type": "markdown",
   "metadata": {
    "id": "j1hhZ95gGt-w"
   },
   "source": [
    "**Вопрос:** в каком категориальном признаке встречаются три различных значения?"
   ]
  },
  {
   "cell_type": "code",
   "execution_count": 5,
   "metadata": {
    "id": "_yYv_Ma18A9A"
   },
   "outputs": [
    {
     "data": {
      "text/html": [
       "<div>\n",
       "<style scoped>\n",
       "    .dataframe tbody tr th:only-of-type {\n",
       "        vertical-align: middle;\n",
       "    }\n",
       "\n",
       "    .dataframe tbody tr th {\n",
       "        vertical-align: top;\n",
       "    }\n",
       "\n",
       "    .dataframe thead th {\n",
       "        text-align: right;\n",
       "    }\n",
       "</style>\n",
       "<table border=\"1\" class=\"dataframe\">\n",
       "  <thead>\n",
       "    <tr style=\"text-align: right;\">\n",
       "      <th></th>\n",
       "      <th>Marital Status</th>\n",
       "      <th>Gender</th>\n",
       "      <th>Education</th>\n",
       "      <th>Occupation</th>\n",
       "      <th>Home Owner</th>\n",
       "      <th>Commute Distance</th>\n",
       "      <th>Region</th>\n",
       "      <th>Purchased Bike</th>\n",
       "    </tr>\n",
       "  </thead>\n",
       "  <tbody>\n",
       "    <tr>\n",
       "      <th>count</th>\n",
       "      <td>1000</td>\n",
       "      <td>1000</td>\n",
       "      <td>1000</td>\n",
       "      <td>1000</td>\n",
       "      <td>1000</td>\n",
       "      <td>1000</td>\n",
       "      <td>1000</td>\n",
       "      <td>1000</td>\n",
       "    </tr>\n",
       "    <tr>\n",
       "      <th>unique</th>\n",
       "      <td>2</td>\n",
       "      <td>2</td>\n",
       "      <td>5</td>\n",
       "      <td>5</td>\n",
       "      <td>2</td>\n",
       "      <td>5</td>\n",
       "      <td>3</td>\n",
       "      <td>2</td>\n",
       "    </tr>\n",
       "    <tr>\n",
       "      <th>top</th>\n",
       "      <td>Married</td>\n",
       "      <td>Male</td>\n",
       "      <td>Bachelors</td>\n",
       "      <td>Professional</td>\n",
       "      <td>Yes</td>\n",
       "      <td>0-1 Miles</td>\n",
       "      <td>North America</td>\n",
       "      <td>No</td>\n",
       "    </tr>\n",
       "    <tr>\n",
       "      <th>freq</th>\n",
       "      <td>539</td>\n",
       "      <td>509</td>\n",
       "      <td>306</td>\n",
       "      <td>276</td>\n",
       "      <td>685</td>\n",
       "      <td>366</td>\n",
       "      <td>508</td>\n",
       "      <td>519</td>\n",
       "    </tr>\n",
       "  </tbody>\n",
       "</table>\n",
       "</div>"
      ],
      "text/plain": [
       "       Marital Status Gender  Education    Occupation Home Owner  \\\n",
       "count            1000   1000       1000          1000       1000   \n",
       "unique              2      2          5             5          2   \n",
       "top           Married   Male  Bachelors  Professional        Yes   \n",
       "freq              539    509        306           276        685   \n",
       "\n",
       "       Commute Distance         Region Purchased Bike  \n",
       "count              1000           1000           1000  \n",
       "unique                5              3              2  \n",
       "top           0-1 Miles  North America             No  \n",
       "freq                366            508            519  "
      ]
     },
     "execution_count": 5,
     "metadata": {},
     "output_type": "execute_result"
    }
   ],
   "source": [
    "data.describe(include='object')"
   ]
  },
  {
   "cell_type": "markdown",
   "metadata": {
    "id": "R2MMCJkr8U5U"
   },
   "source": [
    "Закодируйте все категориальные столбцы с двумя категориями следующим образом:  \n",
    "самая часто встречающаяся категория превращается в 1, другая в 0."
   ]
  },
  {
   "cell_type": "code",
   "execution_count": 6,
   "metadata": {
    "id": "QzIOrBnA8eJa"
   },
   "outputs": [],
   "source": [
    "# ваш код здесь\n",
    "data['Marital Status'] = (data['Marital Status'] == 'Married').astype(int)\n",
    "data['Gender'] = (data['Gender'] == 'Male').astype(int)\n",
    "data['Home Owner'] = (data['Home Owner'] == 'Yes').astype(int)\n",
    "data['Purchased Bike'] = (data['Purchased Bike'] == 'No').astype(int)"
   ]
  },
  {
   "cell_type": "markdown",
   "metadata": {
    "id": "qdDV_Cys9PAs"
   },
   "source": [
    "Удалите остальные категориальные столбцы.\n",
    "\n",
    "**Вопрос:** сколько категориальных столбцов вы удалили?"
   ]
  },
  {
   "cell_type": "code",
   "execution_count": 7,
   "metadata": {
    "id": "N2sYdyjw9R6I"
   },
   "outputs": [],
   "source": [
    "# ваш код здесь\n",
    "del data['Education']\n",
    "del data['Occupation']\n",
    "del data['Commute Distance']\n",
    "del data['Region']"
   ]
  },
  {
   "cell_type": "markdown",
   "metadata": {
    "id": "0hjsUxpx9cAq"
   },
   "source": [
    "Удалите столбец `ID`, так как он по сути нечисловой."
   ]
  },
  {
   "cell_type": "code",
   "execution_count": 8,
   "metadata": {
    "id": "tbqbqjuE9gKV"
   },
   "outputs": [],
   "source": [
    "# ваш код здесь\n",
    "del data['ID']"
   ]
  },
  {
   "cell_type": "markdown",
   "metadata": {
    "id": "4QjeoiTJ9j1u"
   },
   "source": [
    "Сформируйте матрицу объект-признак `X` и вектор `y` с целевой переменной.  \n",
    "Целевая переменная - это последний столбец, `Purchased Bike`."
   ]
  },
  {
   "cell_type": "code",
   "execution_count": 9,
   "metadata": {
    "id": "jYY7sZbu9_wM"
   },
   "outputs": [],
   "source": [
    "# ваш код здесь\n",
    "y = data['Purchased Bike']\n",
    "X = data.drop('Purchased Bike', axis=1)"
   ]
  },
  {
   "cell_type": "markdown",
   "metadata": {
    "id": "Cwxl-CUX-452"
   },
   "source": [
    "Разбейте данные на тренировочную и тестовую часть (`Xtrain`, `Xtest`, `ytrain`, `ytest`), в тест отправьте 30% данных.  \n",
    "Зафиксируйте `random_state = 42`."
   ]
  },
  {
   "cell_type": "code",
   "execution_count": 10,
   "metadata": {
    "id": "fquWQf8e--Zn"
   },
   "outputs": [],
   "source": [
    "from sklearn.model_selection import train_test_split\n",
    "\n",
    "Xtrain, Xtest, ytrain, ytest = train_test_split(X, y, test_size=0.3, random_state=42)"
   ]
  },
  {
   "cell_type": "markdown",
   "metadata": {
    "id": "6-Ki4tjHG6pt"
   },
   "source": [
    "**Вопрос:** сколько объектов в матрице `Xtrain`?"
   ]
  },
  {
   "cell_type": "code",
   "execution_count": 11,
   "metadata": {
    "id": "XFIuu2b9G92Q"
   },
   "outputs": [
    {
     "data": {
      "text/plain": [
       "700"
      ]
     },
     "execution_count": 11,
     "metadata": {},
     "output_type": "execute_result"
    }
   ],
   "source": [
    "# ваш код здесь\n",
    "Xtrain.shape[0]"
   ]
  },
  {
   "cell_type": "markdown",
   "metadata": {
    "id": "ZBdAk3RM-FQ4"
   },
   "source": [
    "Почти всё готово для обучения модели!\n",
    "\n",
    "Осталось отмасштабировать матрицу `X`, так как линейные модели чувствительны к масштабу данных.\n",
    "\n",
    "*  Обучите на тренировочной матрице (`Xtrain`) `MinMaxScaler` из библиотеки `sklearn.preprocessing`\n",
    "*  Примените масштабирование и к `Xtrain`, и к `Xtest`\n",
    "*  Переведите полученные после масштабирования `np.array` обратно в pandas `dataframe`.\n",
    "\n",
    "Полученные масштабированные матрицы назовите, как и раньше, `Xtrain` и `Xtest`."
   ]
  },
  {
   "cell_type": "code",
   "execution_count": 12,
   "metadata": {
    "id": "sxwLdpAK-oJp"
   },
   "outputs": [],
   "source": [
    "from sklearn.preprocessing import MinMaxScaler\n",
    "\n",
    "# ваш код здесь\n",
    "scaler = MinMaxScaler()\n",
    "Xtrain = pd.DataFrame(scaler.fit_transform(Xtrain), columns=Xtrain.columns, index=Xtrain.index)\n",
    "Xtest = pd.DataFrame(scaler.transform(Xtest), columns=Xtest.columns, index=Xtest.index)"
   ]
  },
  {
   "cell_type": "markdown",
   "metadata": {
    "id": "9g3cyUKPqgqu"
   },
   "source": [
    "Теперь обучите логистическую регрессию на тренировочных данных"
   ]
  },
  {
   "cell_type": "code",
   "execution_count": 13,
   "metadata": {
    "id": "efySFKgej1_1"
   },
   "outputs": [
    {
     "data": {
      "text/html": [
       "<style>#sk-container-id-1 {color: black;}#sk-container-id-1 pre{padding: 0;}#sk-container-id-1 div.sk-toggleable {background-color: white;}#sk-container-id-1 label.sk-toggleable__label {cursor: pointer;display: block;width: 100%;margin-bottom: 0;padding: 0.3em;box-sizing: border-box;text-align: center;}#sk-container-id-1 label.sk-toggleable__label-arrow:before {content: \"▸\";float: left;margin-right: 0.25em;color: #696969;}#sk-container-id-1 label.sk-toggleable__label-arrow:hover:before {color: black;}#sk-container-id-1 div.sk-estimator:hover label.sk-toggleable__label-arrow:before {color: black;}#sk-container-id-1 div.sk-toggleable__content {max-height: 0;max-width: 0;overflow: hidden;text-align: left;background-color: #f0f8ff;}#sk-container-id-1 div.sk-toggleable__content pre {margin: 0.2em;color: black;border-radius: 0.25em;background-color: #f0f8ff;}#sk-container-id-1 input.sk-toggleable__control:checked~div.sk-toggleable__content {max-height: 200px;max-width: 100%;overflow: auto;}#sk-container-id-1 input.sk-toggleable__control:checked~label.sk-toggleable__label-arrow:before {content: \"▾\";}#sk-container-id-1 div.sk-estimator input.sk-toggleable__control:checked~label.sk-toggleable__label {background-color: #d4ebff;}#sk-container-id-1 div.sk-label input.sk-toggleable__control:checked~label.sk-toggleable__label {background-color: #d4ebff;}#sk-container-id-1 input.sk-hidden--visually {border: 0;clip: rect(1px 1px 1px 1px);clip: rect(1px, 1px, 1px, 1px);height: 1px;margin: -1px;overflow: hidden;padding: 0;position: absolute;width: 1px;}#sk-container-id-1 div.sk-estimator {font-family: monospace;background-color: #f0f8ff;border: 1px dotted black;border-radius: 0.25em;box-sizing: border-box;margin-bottom: 0.5em;}#sk-container-id-1 div.sk-estimator:hover {background-color: #d4ebff;}#sk-container-id-1 div.sk-parallel-item::after {content: \"\";width: 100%;border-bottom: 1px solid gray;flex-grow: 1;}#sk-container-id-1 div.sk-label:hover label.sk-toggleable__label {background-color: #d4ebff;}#sk-container-id-1 div.sk-serial::before {content: \"\";position: absolute;border-left: 1px solid gray;box-sizing: border-box;top: 0;bottom: 0;left: 50%;z-index: 0;}#sk-container-id-1 div.sk-serial {display: flex;flex-direction: column;align-items: center;background-color: white;padding-right: 0.2em;padding-left: 0.2em;position: relative;}#sk-container-id-1 div.sk-item {position: relative;z-index: 1;}#sk-container-id-1 div.sk-parallel {display: flex;align-items: stretch;justify-content: center;background-color: white;position: relative;}#sk-container-id-1 div.sk-item::before, #sk-container-id-1 div.sk-parallel-item::before {content: \"\";position: absolute;border-left: 1px solid gray;box-sizing: border-box;top: 0;bottom: 0;left: 50%;z-index: -1;}#sk-container-id-1 div.sk-parallel-item {display: flex;flex-direction: column;z-index: 1;position: relative;background-color: white;}#sk-container-id-1 div.sk-parallel-item:first-child::after {align-self: flex-end;width: 50%;}#sk-container-id-1 div.sk-parallel-item:last-child::after {align-self: flex-start;width: 50%;}#sk-container-id-1 div.sk-parallel-item:only-child::after {width: 0;}#sk-container-id-1 div.sk-dashed-wrapped {border: 1px dashed gray;margin: 0 0.4em 0.5em 0.4em;box-sizing: border-box;padding-bottom: 0.4em;background-color: white;}#sk-container-id-1 div.sk-label label {font-family: monospace;font-weight: bold;display: inline-block;line-height: 1.2em;}#sk-container-id-1 div.sk-label-container {text-align: center;}#sk-container-id-1 div.sk-container {/* jupyter's `normalize.less` sets `[hidden] { display: none; }` but bootstrap.min.css set `[hidden] { display: none !important; }` so we also need the `!important` here to be able to override the default hidden behavior on the sphinx rendered scikit-learn.org. See: https://github.com/scikit-learn/scikit-learn/issues/21755 */display: inline-block !important;position: relative;}#sk-container-id-1 div.sk-text-repr-fallback {display: none;}</style><div id=\"sk-container-id-1\" class=\"sk-top-container\"><div class=\"sk-text-repr-fallback\"><pre>LogisticRegression()</pre><b>In a Jupyter environment, please rerun this cell to show the HTML representation or trust the notebook. <br />On GitHub, the HTML representation is unable to render, please try loading this page with nbviewer.org.</b></div><div class=\"sk-container\" hidden><div class=\"sk-item\"><div class=\"sk-estimator sk-toggleable\"><input class=\"sk-toggleable__control sk-hidden--visually\" id=\"sk-estimator-id-1\" type=\"checkbox\" checked><label for=\"sk-estimator-id-1\" class=\"sk-toggleable__label sk-toggleable__label-arrow\">LogisticRegression</label><div class=\"sk-toggleable__content\"><pre>LogisticRegression()</pre></div></div></div></div></div>"
      ],
      "text/plain": [
       "LogisticRegression()"
      ]
     },
     "execution_count": 13,
     "metadata": {},
     "output_type": "execute_result"
    }
   ],
   "source": [
    "from sklearn.linear_model import LogisticRegression\n",
    "\n",
    "# ваш код здесь\n",
    "model = LogisticRegression()\n",
    "model.fit(Xtrain, ytrain)"
   ]
  },
  {
   "cell_type": "markdown",
   "metadata": {
    "id": "a5nWN5OV_eTO"
   },
   "source": [
    "Сделайте предсказания на тренировочных и на тестовых данных."
   ]
  },
  {
   "cell_type": "code",
   "execution_count": 14,
   "metadata": {
    "id": "QzR_npzTj5OC"
   },
   "outputs": [],
   "source": [
    "# ваш код здесь\n",
    "prediction_train = model.predict(Xtrain)\n",
    "\n",
    "prediction_test = model.predict(Xtest)"
   ]
  },
  {
   "cell_type": "markdown",
   "metadata": {
    "id": "ZFOiK8N5_oh_"
   },
   "source": [
    "Оцените значение accuracy на трейне и на тесте."
   ]
  },
  {
   "cell_type": "code",
   "execution_count": 15,
   "metadata": {
    "id": "H5wafqpe_tZI"
   },
   "outputs": [
    {
     "name": "stdout",
     "output_type": "stream",
     "text": [
      "Accuracy on train = 0.634 \n",
      "Accuracy on test = 0.58\n"
     ]
    }
   ],
   "source": [
    "from sklearn.metrics import accuracy_score\n",
    "\n",
    "# ваш код здесь\n",
    "accuracy_train = accuracy_score(ytrain, prediction_train)\n",
    "\n",
    "accuracy_test = accuracy_score(ytest, prediction_test)\n",
    "\n",
    "print(f\"Accuracy on train = {round(accuracy_train,3)} \\nAccuracy on test = {round(accuracy_test, 3)}\")"
   ]
  },
  {
   "cell_type": "markdown",
   "metadata": {
    "id": "hapdxPhK_zvc"
   },
   "source": [
    "Качество модели получилось невысоким, зато модель не переобучена."
   ]
  },
  {
   "cell_type": "markdown",
   "metadata": {
    "id": "pEQfWP8h_4hm"
   },
   "source": [
    "Попробуем добавить новых признаков в модель, используя [PolynomialFeatures](https://scikit-learn.org/stable/modules/generated/sklearn.preprocessing.PolynomialFeatures.html).\n",
    "\n",
    "Создайте полиномиальные признаки degree = 2.\n",
    "\n",
    "Как обычно:\n",
    "*  `fit` делайте на тренировочных данных\n",
    "*  `transform` и на тренировочных, и на тестовых данных. Затем верните результат к формату pandas `dataframe`.\n",
    "\n",
    "Полученные матрицы назовите, как и раньше, `Xtrain` и `Xtest`."
   ]
  },
  {
   "cell_type": "markdown",
   "metadata": {},
   "source": [
    "Добавим полиномиальные признаки второй степени:\n",
    "\n",
    "$$1, x_1, x_2 \\to 1, x_1, x_2, x_1^2, x_2^2, x_1x_2.$$"
   ]
  },
  {
   "cell_type": "code",
   "execution_count": 16,
   "metadata": {},
   "outputs": [
    {
     "data": {
      "text/plain": [
       "7"
      ]
     },
     "execution_count": 16,
     "metadata": {},
     "output_type": "execute_result"
    }
   ],
   "source": [
    "# количество признаков в исходном датафрейме\n",
    "Xtrain.shape[1]"
   ]
  },
  {
   "cell_type": "code",
   "execution_count": 17,
   "metadata": {
    "id": "MzT-Tl5wANZk"
   },
   "outputs": [],
   "source": [
    "from sklearn.preprocessing import PolynomialFeatures\n",
    "\n",
    "# ваш код здесь\n",
    "pf = PolynomialFeatures(degree = 2)\n",
    "\n",
    "pf.fit(Xtrain)\n",
    "\n",
    "Xtrain = pd.DataFrame(pf.transform(Xtrain), index=Xtrain.index)\n",
    "\n",
    "Xtest = pd.DataFrame(pf.transform(Xtest), index=Xtest.index)"
   ]
  },
  {
   "cell_type": "code",
   "execution_count": 18,
   "metadata": {},
   "outputs": [
    {
     "data": {
      "text/plain": [
       "36"
      ]
     },
     "execution_count": 18,
     "metadata": {},
     "output_type": "execute_result"
    }
   ],
   "source": [
    "Xtrain.shape[1]"
   ]
  },
  {
   "cell_type": "markdown",
   "metadata": {
    "id": "ZzlQMf9LHPhE"
   },
   "source": [
    "**Вопрос:** на сколько признаков стало больше при добавлении полиномиальных признаков второй степени?"
   ]
  },
  {
   "cell_type": "markdown",
   "metadata": {
    "id": "CjGzWJQZA8hM"
   },
   "source": [
    "Заново обучите логистическую регрессию, уже на расширенной матрице признаков, и сделайте предсказания на трейне и тесте, а затем оцените качество (*accuracy*)."
   ]
  },
  {
   "cell_type": "code",
   "execution_count": 19,
   "metadata": {
    "id": "2-HDOPblBEGv"
   },
   "outputs": [
    {
     "name": "stdout",
     "output_type": "stream",
     "text": [
      "Accuracy on train = 0.687 \n",
      "Accuracy on test = 0.623\n"
     ]
    }
   ],
   "source": [
    "# ваш код здесь\n",
    "model2 = LogisticRegression()\n",
    "model2.fit(Xtrain, ytrain)\n",
    "\n",
    "prediction2_train = model2.predict(Xtrain)\n",
    "prediction2_test = model2.predict(Xtest)\n",
    "\n",
    "accuracy2_train = accuracy_score(ytrain, prediction2_train)\n",
    "accuracy2_test = accuracy_score(ytest, prediction2_test)\n",
    "print(f\"Accuracy on train = {round(accuracy2_train,3)} \\nAccuracy on test = {round(accuracy2_test, 3)}\")"
   ]
  },
  {
   "cell_type": "markdown",
   "metadata": {
    "id": "QwmRr1GjBSzj"
   },
   "source": [
    "**Вопрос:** на сколько повысилось качество модели на тестовых данных?  \n",
    "Ответ округлите до сотых."
   ]
  },
  {
   "cell_type": "code",
   "execution_count": 20,
   "metadata": {},
   "outputs": [
    {
     "data": {
      "text/plain": [
       "0.04"
      ]
     },
     "execution_count": 20,
     "metadata": {},
     "output_type": "execute_result"
    }
   ],
   "source": [
    "round(accuracy2_test - accuracy_test, 2)"
   ]
  },
  {
   "cell_type": "markdown",
   "metadata": {
    "id": "N4zMaBDVBeNp"
   },
   "source": [
    "Появились новые требования от заказчика!\n",
    "\n",
    "Заказчик просит, чтобы:\n",
    "*  доля найденных моделью потенциальных покупателей была максимальной\n",
    "*  accuracy при этом была не ниже, чем 0.6 (отклонения *accuracy* на тестовых данных на $\\pm 0.05$ допустимы)."
   ]
  },
  {
   "cell_type": "markdown",
   "metadata": {
    "id": "wI0dQoHdFH84"
   },
   "source": [
    "Сначала посмотрите, какие значения *recall* и *accuracy* имеют предсказния модели на тесте с классами, предсказанными по умолчанию (методом `predict`)."
   ]
  },
  {
   "cell_type": "code",
   "execution_count": 21,
   "metadata": {
    "id": "IsnATTD1FQi7"
   },
   "outputs": [
    {
     "name": "stdout",
     "output_type": "stream",
     "text": [
      "Recall = 0.696 \n",
      "Accuracy = 0.623\n"
     ]
    }
   ],
   "source": [
    "# ваш код здесь\n",
    "from sklearn.metrics import recall_score\n",
    "\n",
    "recall_2 = recall_score(ytest, prediction2_test)\n",
    "print(f\"Recall = {round(recall_2,3)} \\nAccuracy = {round(accuracy2_test, 3)}\")"
   ]
  },
  {
   "cell_type": "markdown",
   "metadata": {
    "id": "wJPY-nREFFo2"
   },
   "source": [
    "Подберём порог для перевода вероятностей в классы, чтобы оптимизировать требуемые метрики!\n",
    "\n",
    "Разобъем тренировочные данные на трейн и валидацию, чтобы по валидационной части подбирать порог."
   ]
  },
  {
   "cell_type": "code",
   "execution_count": 22,
   "metadata": {
    "id": "p5xH5iBcB4bp"
   },
   "outputs": [
    {
     "data": {
      "text/plain": [
       "((490, 36), (210, 36))"
      ]
     },
     "execution_count": 22,
     "metadata": {},
     "output_type": "execute_result"
    }
   ],
   "source": [
    "XtrainS, Xval, ytrainS, yval = train_test_split(Xtrain, ytrain, test_size=0.3, random_state=42)\n",
    "\n",
    "XtrainS.shape, Xval.shape"
   ]
  },
  {
   "cell_type": "markdown",
   "metadata": {
    "id": "Qlws70k8CZkb"
   },
   "source": [
    "* Обучите модель на тренировочных данных.\n",
    "* Предскажите вероятности положительного класса на валидационных данных\n",
    "\n",
    "В цикле для каждого значения порога:\n",
    "*  переведите вероятности в классы\n",
    "*  вычислите полноту (на валидационных данных)\n",
    "\n",
    "Выведите на экран:\n",
    "\n",
    "1) значение порога, дающее максимальный *recall*, при условии, что *accuracy* $\\geq$ 0.6.\n",
    "\n",
    "2) значение *recall* при этом пороге\n",
    "\n",
    "3) значение *accuracy* для этого порога\n",
    "\n",
    "\n",
    "Ищите порог на отрезке от 0 до 1 с шагом 0.01."
   ]
  },
  {
   "cell_type": "code",
   "execution_count": 23,
   "metadata": {
    "id": "uh-F1HvvB_74"
   },
   "outputs": [
    {
     "name": "stdout",
     "output_type": "stream",
     "text": [
      "0.42 0.8518518518518519 0.6142857142857143\n"
     ]
    }
   ],
   "source": [
    "from sklearn.metrics import recall_score\n",
    "\n",
    "RecMax = -1\n",
    "BestThr = -1\n",
    "BestAcc = -1\n",
    "\n",
    "model3 = LogisticRegression()\n",
    "model3.fit(XtrainS, ytrainS)\n",
    "predict_pos = model3.predict_proba(Xval)[:, 1]\n",
    "\n",
    "for thr in np.arange(0, 1, 0.01):\n",
    "    # ваш код здесь\n",
    "    prediction3 = (predict_pos > thr).astype(int)\n",
    "    recall_cur = recall_score(yval, prediction3)\n",
    "    acc_cur = accuracy_score(yval, prediction3)\n",
    "    if recall_cur >= RecMax and acc_cur >= 0.6:\n",
    "        BestThr = thr\n",
    "        RecMax = recall_cur\n",
    "        BestAcc = acc_cur\n",
    "\n",
    "print (BestThr, RecMax, BestAcc)"
   ]
  },
  {
   "cell_type": "markdown",
   "metadata": {
    "id": "bV7RBPJRDsUG"
   },
   "source": [
    "Теперь заново обучите модель на исходных тренировочных данных (`Xtrain`, `ytrain`), предскажите вероятности на тесте и переведите их в классы по найденному порогу."
   ]
  },
  {
   "cell_type": "code",
   "execution_count": 26,
   "metadata": {
    "id": "g51hSqzxDrF7"
   },
   "outputs": [
    {
     "name": "stdout",
     "output_type": "stream",
     "text": [
      "0.8\n"
     ]
    }
   ],
   "source": [
    "# ваш код здесь\n",
    "model_tot = LogisticRegression()\n",
    "model_tot.fit(Xtrain, ytrain)\n",
    "predict_pr = model_tot.predict_proba(Xtest)[:, 1]\n",
    "prediction_tot = (predict_pr > 0.42).astype(int)\n",
    "recall_tot = recall_score(ytest, prediction_tot)\n",
    "print(round(recall_tot, 1))"
   ]
  },
  {
   "cell_type": "code",
   "execution_count": 28,
   "metadata": {},
   "outputs": [
    {
     "name": "stdout",
     "output_type": "stream",
     "text": [
      "0.57\n"
     ]
    }
   ],
   "source": [
    "accuracy_tot = accuracy_score(ytest, prediction_tot)\n",
    "print(round(accuracy_tot, 2))"
   ]
  },
  {
   "cell_type": "markdown",
   "metadata": {
    "id": "c8W-zTuUHaNl"
   },
   "source": [
    "**Вопрос:** какое значение *recall* получилось на тестовых данных после подбора порога?  \n",
    "Ответ округлите до десятых."
   ]
  },
  {
   "cell_type": "markdown",
   "metadata": {
    "id": "hnJuS9MxFxCh"
   },
   "source": [
    "При помощи подбора порога удалось сильно увеличить значение *recall*!  \n",
    "Однако, как видно, на тесте не удалось сохранить условие $accuracy \\geq 0.6$ (но в допустимые рамки уложились!)\n",
    "\n",
    "Это свидетельство небольшого переобучения модели. Однако в сухом остатке имеет значительное увеличение полноты, что является приоритетом для заказчика."
   ]
  }
 ],
 "metadata": {
  "colab": {
   "provenance": []
  },
  "kernelspec": {
   "display_name": "Python 3 (ipykernel)",
   "language": "python",
   "name": "python3"
  },
  "language_info": {
   "codemirror_mode": {
    "name": "ipython",
    "version": 3
   },
   "file_extension": ".py",
   "mimetype": "text/x-python",
   "name": "python",
   "nbconvert_exporter": "python",
   "pygments_lexer": "ipython3",
   "version": "3.10.9"
  }
 },
 "nbformat": 4,
 "nbformat_minor": 4
}
