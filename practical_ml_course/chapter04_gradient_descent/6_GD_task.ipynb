{
 "cells": [
  {
   "cell_type": "markdown",
   "metadata": {
    "id": "2rIeJvNmzPJy"
   },
   "source": [
    "# Градиентный спуск. Практика"
   ]
  },
  {
   "cell_type": "markdown",
   "metadata": {
    "id": "krXvdp0bzfJK"
   },
   "source": [
    "## Импорт библиотек, установка константных значений"
   ]
  },
  {
   "cell_type": "code",
   "execution_count": 1,
   "metadata": {
    "id": "X6AuQbUpziB8"
   },
   "outputs": [],
   "source": [
    "import pandas as pd\n",
    "import numpy as np\n",
    "\n",
    "from sklearn.datasets import make_regression, fetch_california_housing\n",
    "from sklearn.metrics import r2_score\n",
    "from sklearn.model_selection import train_test_split"
   ]
  },
  {
   "cell_type": "code",
   "execution_count": 2,
   "metadata": {
    "id": "47ZRimlw6TEp"
   },
   "outputs": [],
   "source": [
    "RANDOM_STATE = 123\n",
    "TRAIN_SIZE = 0.75\n",
    "\n",
    "np.random.RandomState(RANDOM_STATE);\n",
    "np.random.seed(RANDOM_STATE);"
   ]
  },
  {
   "cell_type": "markdown",
   "metadata": {
    "id": "Taoqwoj1zS4U"
   },
   "source": [
    "## Задание 1"
   ]
  },
  {
   "cell_type": "markdown",
   "metadata": {
    "id": "lm6_Ln0GoliG"
   },
   "source": [
    "\n",
    "Напишите функцию, вычисляющую значение весов в линейной регрессии по точной (аналитически найденной) формуле:\n",
    "\n",
    "$$w = (X^TX)^{-1}X^Ty$$\n",
    "\n",
    "Комментарий: для поиска решения в векторном виде сначала необходимо добавить единичный столбец к матрице $X$.\n",
    "Это сделано в коде."
   ]
  },
  {
   "cell_type": "code",
   "execution_count": 3,
   "metadata": {
    "id": "ZrVvpU9miOga"
   },
   "outputs": [],
   "source": [
    "def ols_solution(X, y):\n",
    "    X = np.hstack((np.ones((X.shape[0], 1)), X))\n",
    "    # your code here\n",
    "    w = (np.linalg.inv(X.T @ X)) @ (X.T) @ y\n",
    "    return w"
   ]
  },
  {
   "cell_type": "markdown",
   "metadata": {
    "id": "AMBKhU7Zhaev"
   },
   "source": [
    "Заполните функцию для предсказания модели по формуле\n",
    "$$a(X)=Xw$$"
   ]
  },
  {
   "cell_type": "code",
   "execution_count": 4,
   "metadata": {
    "id": "CI63O1eUhmyx"
   },
   "outputs": [],
   "source": [
    "def prediction(X, w):\n",
    "    X = np.hstack((np.ones((X.shape[0], 1)), X))\n",
    "    # your code here\n",
    "    res = X @ w\n",
    "    return res"
   ]
  },
  {
   "cell_type": "markdown",
   "metadata": {
    "id": "OaPciXsEmznh"
   },
   "source": [
    "Продублируем функцию для вычисления значения MSE из урока"
   ]
  },
  {
   "cell_type": "code",
   "execution_count": 5,
   "metadata": {
    "id": "PqzBobT-m28D"
   },
   "outputs": [],
   "source": [
    "def compute_cost(X, y, theta):\n",
    "    m = len(y)\n",
    "    cost = (1./m) * (np.linalg.norm(X @ theta - y) ** 2)\n",
    "\n",
    "    return cost"
   ]
  },
  {
   "cell_type": "markdown",
   "metadata": {
    "id": "l1EApEeW1OyU"
   },
   "source": [
    "## Задание 2"
   ]
  },
  {
   "cell_type": "markdown",
   "metadata": {
    "id": "JXbV8Luk4-TE"
   },
   "source": [
    "### Задание 2.1"
   ]
  },
  {
   "cell_type": "markdown",
   "metadata": {
    "id": "VFANmcnV5DWz"
   },
   "source": [
    "Скопируйте метод градиентного спуска из семинара в этот ноутбук.\n"
   ]
  },
  {
   "cell_type": "code",
   "execution_count": 6,
   "metadata": {
    "id": "VB9oE8Sg1WG9"
   },
   "outputs": [],
   "source": [
    "def gradient_descent(X, y, learning_rate, iterations):\n",
    "\n",
    "    X = np.hstack((np.ones((X.shape[0], 1)), X)) # добавляем к Х столбец из 1\n",
    "    params = np.random.rand(X.shape[1])\n",
    "\n",
    "    m = X.shape[0]\n",
    "\n",
    "    cost_track = np.zeros((iterations,1))\n",
    "\n",
    "    for i in range(iterations):\n",
    "        params = params - 2./m * learning_rate * (X.T @ ((X @ params) - y))\n",
    "        cost_track[i] = compute_cost(X, y, params)\n",
    "\n",
    "    return cost_track, params"
   ]
  },
  {
   "cell_type": "markdown",
   "metadata": {
    "id": "X_3A_UGWztbY"
   },
   "source": [
    "### Задание 2.2 (бонус для отважных)"
   ]
  },
  {
   "cell_type": "markdown",
   "metadata": {
    "id": "GMujXdy75Lb2"
   },
   "source": [
    "Если чувствуете в себе силы, попробуйте написать SGD сами."
   ]
  },
  {
   "cell_type": "markdown",
   "metadata": {
    "id": "_shCsTQ1pVcU"
   },
   "source": [
    "Модифицируйте метод градиентного спуска из урока так, чтобы это теперь был метод стохастического градиентного спуска:\n",
    "\n",
    "* на каждой итерации выбирайте один случайный индекс `ind` при помощи библиотеки `numpy.random`\n",
    "\n",
    "* градиент на каждой итерации градиентного спуска считайте не как сумму градиентов по всем объектам, а только по одному объекту с индексом `ind`\n",
    "\n",
    "* на каждой итерации вычисляйте значение функции потерь и сохраняйте в список `loss`, который верните вместе с результатом работы функции"
   ]
  },
  {
   "cell_type": "code",
   "execution_count": 7,
   "metadata": {
    "id": "fTZWxz1zpb9R"
   },
   "outputs": [],
   "source": [
    "def stochastic_gradient_descent(X, y, learning_rate, iterations):\n",
    "    X = np.hstack((np.ones((X.shape[0], 1)), X)) # добавляем к Х столбец из 1\n",
    "    params = np.random.rand(X.shape[1])\n",
    "\n",
    "    m = X.shape[0]\n",
    "\n",
    "    cost_track = np.zeros((iterations,1))\n",
    "\n",
    "    for i in range(iterations):\n",
    "        ind = np.random.randint(0, m)\n",
    "        params = params - 2. * learning_rate * (X[ind].T * ((X[ind] @ params) - y[ind]))\n",
    "        cost_track[i] = compute_cost(X, y, params)\n",
    "\n",
    "    return cost_track, params"
   ]
  },
  {
   "cell_type": "markdown",
   "metadata": {
    "id": "ss8jAfZVz6bz"
   },
   "source": [
    "## Задание 3"
   ]
  },
  {
   "cell_type": "markdown",
   "metadata": {
    "id": "WnRlUa9Npi9o"
   },
   "source": [
    "- Обучите линейную регрессию тремя методами (по точной формуле, с помощью GD и с помощью SGD) на данных для задачи регрессии (см. код ниже). Для GD и самостоятельно написанного SGD используйте `learning_rate = 0.01, iterations = 10000`.\n",
    "\n",
    "- С помощью каждого метода сделайте предсказание (на всех данных), вычислите качество предсказания r2 (`from sklearn.metrics import r2_score`). Для получения предсказания можете использовать функцию `predict` из урока.\n"
   ]
  },
  {
   "cell_type": "code",
   "execution_count": 8,
   "metadata": {
    "id": "xSrUvQtcUHSA"
   },
   "outputs": [],
   "source": [
    "np.random.seed(RANDOM_STATE)\n",
    "\n",
    "X, y, _ = make_regression(n_samples=100000, # число объектов\n",
    "                          n_features=10, # число признаков\n",
    "                          n_informative=8, # число информативных признаков\n",
    "                          noise=100, # уровень шума в данных\n",
    "                          coef=True, # значение True используется при генерации данных\n",
    "                          random_state=RANDOM_STATE)\n",
    "\n",
    "X = pd.DataFrame(data=X, columns=np.arange(0, X.shape[1]))\n",
    "X[10] = X[6] + X[7] + np.random.random()*0.01"
   ]
  },
  {
   "cell_type": "code",
   "execution_count": 9,
   "metadata": {
    "id": "5cVilZVsmAys"
   },
   "outputs": [
    {
     "name": "stdout",
     "output_type": "stream",
     "text": [
      "CPU times: total: 31.2 ms\n",
      "Wall time: 41.8 ms\n"
     ]
    },
    {
     "data": {
      "text/plain": [
       "0.7523570904019572"
      ]
     },
     "execution_count": 9,
     "metadata": {},
     "output_type": "execute_result"
    }
   ],
   "source": [
    "%%time\n",
    "# your code for OLS here\n",
    "from sklearn.metrics import r2_score\n",
    "\n",
    "w1 = ols_solution(X, y)\n",
    "pred1 = prediction(X, w1)\n",
    "r2_1 = r2_score(y, pred1)\n",
    "r2_1"
   ]
  },
  {
   "cell_type": "code",
   "execution_count": 10,
   "metadata": {
    "id": "O_MDhoXs5tkd"
   },
   "outputs": [
    {
     "name": "stdout",
     "output_type": "stream",
     "text": [
      "CPU times: total: 1min\n",
      "Wall time: 23.1 s\n"
     ]
    },
    {
     "data": {
      "text/plain": [
       "0.7554626185750483"
      ]
     },
     "execution_count": 10,
     "metadata": {},
     "output_type": "execute_result"
    }
   ],
   "source": [
    "%%time\n",
    "# your code for GD here\n",
    "cost2, w2 = gradient_descent(X, y, learning_rate=0.01, iterations=10000)\n",
    "pred2 = prediction(X, w2)\n",
    "r2_2 = r2_score(y, pred2)\n",
    "r2_2"
   ]
  },
  {
   "cell_type": "code",
   "execution_count": 11,
   "metadata": {
    "id": "6yLEdtQOmCYL"
   },
   "outputs": [
    {
     "name": "stdout",
     "output_type": "stream",
     "text": [
      "CPU times: total: 23.3 s\n",
      "Wall time: 8.68 s\n"
     ]
    },
    {
     "data": {
      "text/plain": [
       "0.7136171239219944"
      ]
     },
     "execution_count": 11,
     "metadata": {},
     "output_type": "execute_result"
    }
   ],
   "source": [
    "%%time\n",
    "# your code for SGD here\n",
    "cost3, w3 = stochastic_gradient_descent(X, y, learning_rate=0.01, iterations=10000)\n",
    "pred = prediction(X, w3)\n",
    "r2_3 = r2_score(y, pred)\n",
    "r2_3"
   ]
  },
  {
   "cell_type": "markdown",
   "metadata": {
    "id": "q5-LlK5X0Hdj"
   },
   "source": [
    "**Вопросы по заданию**\n",
    "\n",
    "1) все ли методы справились с нахождением минимума?\n",
    "\n",
    "2) сравните время работы методов (используйте magic command [`%%time`](https://ipython.readthedocs.io/en/stable/interactive/magics.html)): замеряйте время работы соответствующей написанной вами функции. Какой метод сработал быстрее всего?\n",
    "\n",
    "3) для методов GD и SGD нарисуйте графики (для каждого свой) зависимости ошибки (loss) от номера итерации. Какой метод сходится быстрее? Выведите на экран значение r2 для наилучшей из моделей.\n",
    "\n",
    "4) какой метод успешнее всего справился с задачей? (т.е. r2 наибольший)."
   ]
  },
  {
   "cell_type": "code",
   "execution_count": 12,
   "metadata": {
    "id": "f1SE0-oUtVlO"
   },
   "outputs": [
    {
     "data": {
      "image/png": "[encoded data removed]",
      "text/plain": [
       "<Figure size 640x480 with 1 Axes>"
      ]
     },
     "metadata": {},
     "output_type": "display_data"
    }
   ],
   "source": [
    "from matplotlib import pyplot as plt\n",
    "\n",
    "iteration = range(0, 10000)\n",
    "plt.plot(iteration, cost2, '-', c='red')\n",
    "plt.title('Gradient descent')\n",
    "plt.show()"
   ]
  },
  {
   "cell_type": "code",
   "execution_count": 13,
   "metadata": {},
   "outputs": [
    {
     "data": {
      "image/png": "[encoded data removed]",
      "text/plain": [
       "<Figure size 640x480 with 1 Axes>"
      ]
     },
     "metadata": {},
     "output_type": "display_data"
    }
   ],
   "source": [
    "from matplotlib import pyplot as plt\n",
    "\n",
    "iteration = range(0, 10000)\n",
    "plt.plot(iteration, cost3, '-', c='red')\n",
    "plt.title('Stohastic gradient descent')\n",
    "plt.show()"
   ]
  },
  {
   "cell_type": "markdown",
   "metadata": {
    "id": "7Lne3c3I1swS"
   },
   "source": [
    "## Тестирование моделей на реальных данных\n",
    "\n",
    "В реальных задачах никто не пишет методы с нуля, если они уже реализованы в python. Самостоятельная реализация методов полезна для получения навыков программирования и более глубокого понимания алгоритмов.\n",
    "\n",
    "Давайте применим уже готовые методы из `sklearn` для решения задачи регрессии."
   ]
  },
  {
   "cell_type": "code",
   "execution_count": 14,
   "metadata": {
    "id": "qUhkRgYm1usp"
   },
   "outputs": [],
   "source": [
    "data = fetch_california_housing(as_frame=True)\n",
    "\n",
    "X = data.data\n",
    "y = data.target"
   ]
  },
  {
   "cell_type": "markdown",
   "metadata": {
    "id": "BlsxS_mb18A8"
   },
   "source": [
    "Разобъем данные на трейн и тест"
   ]
  },
  {
   "cell_type": "code",
   "execution_count": 15,
   "metadata": {
    "id": "tKKC-nWE13ek"
   },
   "outputs": [],
   "source": [
    "X_train, X_test, y_train, y_test = train_test_split(\n",
    "    X,\n",
    "    y,\n",
    "    train_size=TRAIN_SIZE,\n",
    "    random_state=RANDOM_STATE\n",
    "    )"
   ]
  },
  {
   "cell_type": "markdown",
   "metadata": {
    "id": "1nxiq6Uq2K47"
   },
   "source": [
    "Для решения этой задачи попробуйте следующие модели:\n",
    "\n",
    "* `LinearRegression` из `sklearn`\n",
    "* `SGDRegressor` из `sklearn`\n",
    "\n",
    "Обучите модели на тренировочных данных с параметрами по умолчанию и сделайте предсказание на тесте.\n",
    "Вычислите значение $R^2$."
   ]
  },
  {
   "cell_type": "code",
   "execution_count": 16,
   "metadata": {
    "id": "PdoNyLJy165x"
   },
   "outputs": [
    {
     "data": {
      "text/plain": [
       "0.6078944086580235"
      ]
     },
     "execution_count": 16,
     "metadata": {},
     "output_type": "execute_result"
    }
   ],
   "source": [
    "from sklearn.linear_model import LinearRegression\n",
    "\n",
    "model1 = LinearRegression()\n",
    "model1.fit(X_train, y_train)\n",
    "pred_m1 = model1.predict(X_test)\n",
    "\n",
    "rm1 = r2_score(y_test, pred_m1)\n",
    "rm1"
   ]
  },
  {
   "cell_type": "code",
   "execution_count": 17,
   "metadata": {},
   "outputs": [
    {
     "data": {
      "text/plain": [
       "-6.21257012446029e+30"
      ]
     },
     "execution_count": 17,
     "metadata": {},
     "output_type": "execute_result"
    }
   ],
   "source": [
    "from sklearn.linear_model import SGDRegressor\n",
    "\n",
    "model2 = SGDRegressor()\n",
    "model2.fit(X_train, y_train)\n",
    "pred_m2 = model2.predict(X_test)\n",
    "\n",
    "rm2 = r2_score(y_test, pred_m2)\n",
    "rm2"
   ]
  },
  {
   "cell_type": "code",
   "execution_count": null,
   "metadata": {},
   "outputs": [],
   "source": []
  }
 ],
 "metadata": {
  "colab": {
   "provenance": []
  },
  "kernelspec": {
   "display_name": "Python 3 (ipykernel)",
   "language": "python",
   "name": "python3"
  },
  "language_info": {
   "codemirror_mode": {
    "name": "ipython",
    "version": 3
   },
   "file_extension": ".py",
   "mimetype": "text/x-python",
   "name": "python",
   "nbconvert_exporter": "python",
   "pygments_lexer": "ipython3",
   "version": "3.10.11"
  }
 },
 "nbformat": 4,
 "nbformat_minor": 4
}
