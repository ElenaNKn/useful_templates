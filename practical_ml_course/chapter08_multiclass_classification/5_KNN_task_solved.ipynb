{
 "cells": [
  {
   "cell_type": "markdown",
   "metadata": {
    "id": "AkS7Lxm8nTLB"
   },
   "source": [
    "# Метрические алгоритмы. Практика"
   ]
  },
  {
   "cell_type": "markdown",
   "metadata": {
    "id": "3jgxaKLXynLQ"
   },
   "source": [
    "В этом домашнем задании вы будете решать задачу классификации бутылок вина по различным характеристикам."
   ]
  },
  {
   "cell_type": "markdown",
   "metadata": {
    "id": "ow7CdXlWyrfI"
   },
   "source": [
    "## Импорт библиотек, установка константных значений"
   ]
  },
  {
   "cell_type": "code",
   "execution_count": 60,
   "metadata": {
    "id": "shgV5ZT-oLG2"
   },
   "outputs": [],
   "source": [
    "import pandas as pd\n",
    "import numpy as np"
   ]
  },
  {
   "cell_type": "code",
   "execution_count": 61,
   "metadata": {
    "id": "85Rgp6ivyvZq"
   },
   "outputs": [],
   "source": [
    "RANDOM_STATE = 42\n",
    "TRAIN_SIZE = 0.75"
   ]
  },
  {
   "cell_type": "code",
   "execution_count": 62,
   "metadata": {
    "id": "QGpwI1GxyySs"
   },
   "outputs": [],
   "source": [
    "rng = np.random.default_rng(RANDOM_STATE)"
   ]
  },
  {
   "cell_type": "markdown",
   "metadata": {
    "id": "uOk2Swygyxho"
   },
   "source": [
    "## Загрузка данных"
   ]
  },
  {
   "cell_type": "code",
   "execution_count": 63,
   "metadata": {
    "id": "_8RhxtHwwzTG"
   },
   "outputs": [],
   "source": [
    "from sklearn.datasets import load_wine\n",
    "\n",
    "data = load_wine(as_frame=True)\n",
    "\n",
    "X = data.data\n",
    "y = data.target"
   ]
  },
  {
   "cell_type": "markdown",
   "metadata": {
    "id": "KvNTy4_yzOwY"
   },
   "source": [
    "## Задание 1"
   ]
  },
  {
   "cell_type": "markdown",
   "metadata": {
    "id": "PNKeCjtEncob"
   },
   "source": [
    "Посмотрите на количество классов и количество объектов каждого класса в датасете."
   ]
  },
  {
   "cell_type": "markdown",
   "metadata": {
    "id": "1O1xV6KWzW8e"
   },
   "source": [
    "**Вопрос**:  \n",
    "Сколько классов в задаче?"
   ]
  },
  {
   "cell_type": "code",
   "execution_count": 64,
   "metadata": {
    "id": "vnIXJMT9nh78"
   },
   "outputs": [
    {
     "data": {
      "text/plain": [
       "target\n",
       "1    71\n",
       "0    59\n",
       "2    48\n",
       "Name: count, dtype: int64"
      ]
     },
     "execution_count": 64,
     "metadata": {},
     "output_type": "execute_result"
    }
   ],
   "source": [
    "# ваш код здесь\n",
    "y.value_counts()"
   ]
  },
  {
   "cell_type": "markdown",
   "metadata": {
    "id": "jk9RqS69z6af"
   },
   "source": [
    "## Задание 2"
   ]
  },
  {
   "cell_type": "markdown",
   "metadata": {
    "id": "S8dnUB81nkG0"
   },
   "source": [
    "Мы имеем дело с многоклассовой классификацией. Кроме того, классы не очень хорошо сбалансированы, поэтому для оценки качества модели метрика *accuracy* не подойдет."
   ]
  },
  {
   "cell_type": "markdown",
   "metadata": {
    "id": "qM6ZTfphyL8W"
   },
   "source": [
    "Разбейте данные на тренировочную и тестовую части:  \n",
    "тестовая часть - 25% от всех данных, зафиксируйте `random_state = RANDOM_STATE`."
   ]
  },
  {
   "cell_type": "code",
   "execution_count": 65,
   "metadata": {
    "id": "f16RkGUaxUh4"
   },
   "outputs": [],
   "source": [
    "from sklearn.model_selection import train_test_split\n",
    "\n",
    "X_train, X_test, y_train, y_test = train_test_split(X, y, test_size=0.25, random_state = RANDOM_STATE)    # ваш код здесь"
   ]
  },
  {
   "cell_type": "markdown",
   "metadata": {
    "id": "bX6Vv4dryREe"
   },
   "source": [
    "**Вопрос:**\n",
    "\n",
    "Все ли признаки в данных одного масштаба?  \n",
    "Проверьте это, выведя основные числовые характеристики матрицы `X_train` методом `describe` из библиотеки `pandas`.\n",
    "\n",
    "По полученной таблице числовых характеристик определите, какой признак измеряется в сотнях?  \n",
    "(если вариантов несколько, выберите признак с наибольшим средним значением)."
   ]
  },
  {
   "cell_type": "code",
   "execution_count": 66,
   "metadata": {
    "id": "VTOG8ggByUSZ"
   },
   "outputs": [
    {
     "data": {
      "text/html": [
       "<div>\n",
       "<style scoped>\n",
       "    .dataframe tbody tr th:only-of-type {\n",
       "        vertical-align: middle;\n",
       "    }\n",
       "\n",
       "    .dataframe tbody tr th {\n",
       "        vertical-align: top;\n",
       "    }\n",
       "\n",
       "    .dataframe thead th {\n",
       "        text-align: right;\n",
       "    }\n",
       "</style>\n",
       "<table border=\"1\" class=\"dataframe\">\n",
       "  <thead>\n",
       "    <tr style=\"text-align: right;\">\n",
       "      <th></th>\n",
       "      <th>count</th>\n",
       "      <th>mean</th>\n",
       "      <th>std</th>\n",
       "      <th>min</th>\n",
       "      <th>25%</th>\n",
       "      <th>50%</th>\n",
       "      <th>75%</th>\n",
       "      <th>max</th>\n",
       "    </tr>\n",
       "  </thead>\n",
       "  <tbody>\n",
       "    <tr>\n",
       "      <th>alcohol</th>\n",
       "      <td>133.0</td>\n",
       "      <td>12.972857</td>\n",
       "      <td>0.829993</td>\n",
       "      <td>11.03</td>\n",
       "      <td>12.29</td>\n",
       "      <td>12.99</td>\n",
       "      <td>13.69</td>\n",
       "      <td>14.83</td>\n",
       "    </tr>\n",
       "    <tr>\n",
       "      <th>malic_acid</th>\n",
       "      <td>133.0</td>\n",
       "      <td>2.386842</td>\n",
       "      <td>1.098905</td>\n",
       "      <td>0.89</td>\n",
       "      <td>1.64</td>\n",
       "      <td>1.90</td>\n",
       "      <td>3.17</td>\n",
       "      <td>5.80</td>\n",
       "    </tr>\n",
       "    <tr>\n",
       "      <th>ash</th>\n",
       "      <td>133.0</td>\n",
       "      <td>2.362180</td>\n",
       "      <td>0.280606</td>\n",
       "      <td>1.36</td>\n",
       "      <td>2.21</td>\n",
       "      <td>2.36</td>\n",
       "      <td>2.54</td>\n",
       "      <td>3.23</td>\n",
       "    </tr>\n",
       "    <tr>\n",
       "      <th>alcalinity_of_ash</th>\n",
       "      <td>133.0</td>\n",
       "      <td>19.433835</td>\n",
       "      <td>3.467312</td>\n",
       "      <td>10.60</td>\n",
       "      <td>17.20</td>\n",
       "      <td>19.40</td>\n",
       "      <td>21.50</td>\n",
       "      <td>30.00</td>\n",
       "    </tr>\n",
       "    <tr>\n",
       "      <th>magnesium</th>\n",
       "      <td>133.0</td>\n",
       "      <td>100.759398</td>\n",
       "      <td>14.999571</td>\n",
       "      <td>70.00</td>\n",
       "      <td>88.00</td>\n",
       "      <td>98.00</td>\n",
       "      <td>108.00</td>\n",
       "      <td>162.00</td>\n",
       "    </tr>\n",
       "    <tr>\n",
       "      <th>total_phenols</th>\n",
       "      <td>133.0</td>\n",
       "      <td>2.277068</td>\n",
       "      <td>0.645696</td>\n",
       "      <td>0.98</td>\n",
       "      <td>1.70</td>\n",
       "      <td>2.23</td>\n",
       "      <td>2.80</td>\n",
       "      <td>3.88</td>\n",
       "    </tr>\n",
       "    <tr>\n",
       "      <th>flavanoids</th>\n",
       "      <td>133.0</td>\n",
       "      <td>2.021203</td>\n",
       "      <td>1.005537</td>\n",
       "      <td>0.34</td>\n",
       "      <td>1.20</td>\n",
       "      <td>2.14</td>\n",
       "      <td>2.88</td>\n",
       "      <td>5.08</td>\n",
       "    </tr>\n",
       "    <tr>\n",
       "      <th>nonflavanoid_phenols</th>\n",
       "      <td>133.0</td>\n",
       "      <td>0.363534</td>\n",
       "      <td>0.126923</td>\n",
       "      <td>0.13</td>\n",
       "      <td>0.26</td>\n",
       "      <td>0.34</td>\n",
       "      <td>0.45</td>\n",
       "      <td>0.66</td>\n",
       "    </tr>\n",
       "    <tr>\n",
       "      <th>proanthocyanins</th>\n",
       "      <td>133.0</td>\n",
       "      <td>1.608647</td>\n",
       "      <td>0.576964</td>\n",
       "      <td>0.42</td>\n",
       "      <td>1.25</td>\n",
       "      <td>1.56</td>\n",
       "      <td>1.96</td>\n",
       "      <td>3.58</td>\n",
       "    </tr>\n",
       "    <tr>\n",
       "      <th>color_intensity</th>\n",
       "      <td>133.0</td>\n",
       "      <td>5.017594</td>\n",
       "      <td>2.202516</td>\n",
       "      <td>1.74</td>\n",
       "      <td>3.25</td>\n",
       "      <td>4.80</td>\n",
       "      <td>6.13</td>\n",
       "      <td>10.80</td>\n",
       "    </tr>\n",
       "    <tr>\n",
       "      <th>hue</th>\n",
       "      <td>133.0</td>\n",
       "      <td>0.959444</td>\n",
       "      <td>0.234545</td>\n",
       "      <td>0.48</td>\n",
       "      <td>0.78</td>\n",
       "      <td>0.97</td>\n",
       "      <td>1.12</td>\n",
       "      <td>1.71</td>\n",
       "    </tr>\n",
       "    <tr>\n",
       "      <th>od280/od315_of_diluted_wines</th>\n",
       "      <td>133.0</td>\n",
       "      <td>2.610000</td>\n",
       "      <td>0.729961</td>\n",
       "      <td>1.27</td>\n",
       "      <td>1.83</td>\n",
       "      <td>2.81</td>\n",
       "      <td>3.20</td>\n",
       "      <td>4.00</td>\n",
       "    </tr>\n",
       "    <tr>\n",
       "      <th>proline</th>\n",
       "      <td>133.0</td>\n",
       "      <td>742.992481</td>\n",
       "      <td>306.867593</td>\n",
       "      <td>278.00</td>\n",
       "      <td>500.00</td>\n",
       "      <td>675.00</td>\n",
       "      <td>970.00</td>\n",
       "      <td>1547.00</td>\n",
       "    </tr>\n",
       "  </tbody>\n",
       "</table>\n",
       "</div>"
      ],
      "text/plain": [
       "                              count        mean         std     min     25%  \\\n",
       "alcohol                       133.0   12.972857    0.829993   11.03   12.29   \n",
       "malic_acid                    133.0    2.386842    1.098905    0.89    1.64   \n",
       "ash                           133.0    2.362180    0.280606    1.36    2.21   \n",
       "alcalinity_of_ash             133.0   19.433835    3.467312   10.60   17.20   \n",
       "magnesium                     133.0  100.759398   14.999571   70.00   88.00   \n",
       "total_phenols                 133.0    2.277068    0.645696    0.98    1.70   \n",
       "flavanoids                    133.0    2.021203    1.005537    0.34    1.20   \n",
       "nonflavanoid_phenols          133.0    0.363534    0.126923    0.13    0.26   \n",
       "proanthocyanins               133.0    1.608647    0.576964    0.42    1.25   \n",
       "color_intensity               133.0    5.017594    2.202516    1.74    3.25   \n",
       "hue                           133.0    0.959444    0.234545    0.48    0.78   \n",
       "od280/od315_of_diluted_wines  133.0    2.610000    0.729961    1.27    1.83   \n",
       "proline                       133.0  742.992481  306.867593  278.00  500.00   \n",
       "\n",
       "                                 50%     75%      max  \n",
       "alcohol                        12.99   13.69    14.83  \n",
       "malic_acid                      1.90    3.17     5.80  \n",
       "ash                             2.36    2.54     3.23  \n",
       "alcalinity_of_ash              19.40   21.50    30.00  \n",
       "magnesium                      98.00  108.00   162.00  \n",
       "total_phenols                   2.23    2.80     3.88  \n",
       "flavanoids                      2.14    2.88     5.08  \n",
       "nonflavanoid_phenols            0.34    0.45     0.66  \n",
       "proanthocyanins                 1.56    1.96     3.58  \n",
       "color_intensity                 4.80    6.13    10.80  \n",
       "hue                             0.97    1.12     1.71  \n",
       "od280/od315_of_diluted_wines    2.81    3.20     4.00  \n",
       "proline                       675.00  970.00  1547.00  "
      ]
     },
     "execution_count": 66,
     "metadata": {},
     "output_type": "execute_result"
    }
   ],
   "source": [
    "# ваш код здесь\n",
    "X_train.describe().T"
   ]
  },
  {
   "cell_type": "markdown",
   "metadata": {
    "id": "6VANARbT0Vu5"
   },
   "source": [
    "## Задание 3"
   ]
  },
  {
   "cell_type": "markdown",
   "metadata": {
    "id": "e1dfCiISo_GH"
   },
   "source": [
    "KNN требует того, чтобы все признаки были одного масштаба, поэтому масштабируйте данные при помощи `StandardScaler`.\n",
    "\n",
    "Напоминаем, что обучать метод нужно только по тренировочным данным, а применять и к трейну, и к тесту.\n",
    "\n",
    "После применения `StandardScaler` преобразуйте `X_train` и `X_test` к типу `pd.DataFrame`, названия новых объектов оставьте `X_train` и `X_test`."
   ]
  },
  {
   "cell_type": "code",
   "execution_count": 67,
   "metadata": {
    "id": "IMWxZOLMpLg_"
   },
   "outputs": [],
   "source": [
    "from sklearn.preprocessing import StandardScaler\n",
    "\n",
    "# ваш код здесь\\\n",
    "scaler = StandardScaler()\n",
    "X_train = pd.DataFrame(scaler.fit_transform(X_train), columns=X_train.columns, index=X_train.index)\n",
    "X_test = pd.DataFrame(scaler.transform(X_test), columns=X_test.columns, index=X_test.index)"
   ]
  },
  {
   "cell_type": "markdown",
   "metadata": {
    "id": "wfjxuX1hyOpd"
   },
   "source": [
    "Обучите KNN с параметрами по умолчанию на тренировочных данных и сделайте предсказание на тесте."
   ]
  },
  {
   "cell_type": "code",
   "execution_count": 68,
   "metadata": {
    "id": "VeyYEAO2yQhL"
   },
   "outputs": [
    {
     "data": {
      "text/html": [
       "<style>#sk-container-id-2 {color: black;}#sk-container-id-2 pre{padding: 0;}#sk-container-id-2 div.sk-toggleable {background-color: white;}#sk-container-id-2 label.sk-toggleable__label {cursor: pointer;display: block;width: 100%;margin-bottom: 0;padding: 0.3em;box-sizing: border-box;text-align: center;}#sk-container-id-2 label.sk-toggleable__label-arrow:before {content: \"▸\";float: left;margin-right: 0.25em;color: #696969;}#sk-container-id-2 label.sk-toggleable__label-arrow:hover:before {color: black;}#sk-container-id-2 div.sk-estimator:hover label.sk-toggleable__label-arrow:before {color: black;}#sk-container-id-2 div.sk-toggleable__content {max-height: 0;max-width: 0;overflow: hidden;text-align: left;background-color: #f0f8ff;}#sk-container-id-2 div.sk-toggleable__content pre {margin: 0.2em;color: black;border-radius: 0.25em;background-color: #f0f8ff;}#sk-container-id-2 input.sk-toggleable__control:checked~div.sk-toggleable__content {max-height: 200px;max-width: 100%;overflow: auto;}#sk-container-id-2 input.sk-toggleable__control:checked~label.sk-toggleable__label-arrow:before {content: \"▾\";}#sk-container-id-2 div.sk-estimator input.sk-toggleable__control:checked~label.sk-toggleable__label {background-color: #d4ebff;}#sk-container-id-2 div.sk-label input.sk-toggleable__control:checked~label.sk-toggleable__label {background-color: #d4ebff;}#sk-container-id-2 input.sk-hidden--visually {border: 0;clip: rect(1px 1px 1px 1px);clip: rect(1px, 1px, 1px, 1px);height: 1px;margin: -1px;overflow: hidden;padding: 0;position: absolute;width: 1px;}#sk-container-id-2 div.sk-estimator {font-family: monospace;background-color: #f0f8ff;border: 1px dotted black;border-radius: 0.25em;box-sizing: border-box;margin-bottom: 0.5em;}#sk-container-id-2 div.sk-estimator:hover {background-color: #d4ebff;}#sk-container-id-2 div.sk-parallel-item::after {content: \"\";width: 100%;border-bottom: 1px solid gray;flex-grow: 1;}#sk-container-id-2 div.sk-label:hover label.sk-toggleable__label {background-color: #d4ebff;}#sk-container-id-2 div.sk-serial::before {content: \"\";position: absolute;border-left: 1px solid gray;box-sizing: border-box;top: 0;bottom: 0;left: 50%;z-index: 0;}#sk-container-id-2 div.sk-serial {display: flex;flex-direction: column;align-items: center;background-color: white;padding-right: 0.2em;padding-left: 0.2em;position: relative;}#sk-container-id-2 div.sk-item {position: relative;z-index: 1;}#sk-container-id-2 div.sk-parallel {display: flex;align-items: stretch;justify-content: center;background-color: white;position: relative;}#sk-container-id-2 div.sk-item::before, #sk-container-id-2 div.sk-parallel-item::before {content: \"\";position: absolute;border-left: 1px solid gray;box-sizing: border-box;top: 0;bottom: 0;left: 50%;z-index: -1;}#sk-container-id-2 div.sk-parallel-item {display: flex;flex-direction: column;z-index: 1;position: relative;background-color: white;}#sk-container-id-2 div.sk-parallel-item:first-child::after {align-self: flex-end;width: 50%;}#sk-container-id-2 div.sk-parallel-item:last-child::after {align-self: flex-start;width: 50%;}#sk-container-id-2 div.sk-parallel-item:only-child::after {width: 0;}#sk-container-id-2 div.sk-dashed-wrapped {border: 1px dashed gray;margin: 0 0.4em 0.5em 0.4em;box-sizing: border-box;padding-bottom: 0.4em;background-color: white;}#sk-container-id-2 div.sk-label label {font-family: monospace;font-weight: bold;display: inline-block;line-height: 1.2em;}#sk-container-id-2 div.sk-label-container {text-align: center;}#sk-container-id-2 div.sk-container {/* jupyter's `normalize.less` sets `[hidden] { display: none; }` but bootstrap.min.css set `[hidden] { display: none !important; }` so we also need the `!important` here to be able to override the default hidden behavior on the sphinx rendered scikit-learn.org. See: https://github.com/scikit-learn/scikit-learn/issues/21755 */display: inline-block !important;position: relative;}#sk-container-id-2 div.sk-text-repr-fallback {display: none;}</style><div id=\"sk-container-id-2\" class=\"sk-top-container\"><div class=\"sk-text-repr-fallback\"><pre>KNeighborsClassifier()</pre><b>In a Jupyter environment, please rerun this cell to show the HTML representation or trust the notebook. <br />On GitHub, the HTML representation is unable to render, please try loading this page with nbviewer.org.</b></div><div class=\"sk-container\" hidden><div class=\"sk-item\"><div class=\"sk-estimator sk-toggleable\"><input class=\"sk-toggleable__control sk-hidden--visually\" id=\"sk-estimator-id-2\" type=\"checkbox\" checked><label for=\"sk-estimator-id-2\" class=\"sk-toggleable__label sk-toggleable__label-arrow\">KNeighborsClassifier</label><div class=\"sk-toggleable__content\"><pre>KNeighborsClassifier()</pre></div></div></div></div></div>"
      ],
      "text/plain": [
       "KNeighborsClassifier()"
      ]
     },
     "execution_count": 68,
     "metadata": {},
     "output_type": "execute_result"
    }
   ],
   "source": [
    "from sklearn.neighbors import KNeighborsClassifier\n",
    "\n",
    "# ваш код здесь\n",
    "model = KNeighborsClassifier()\n",
    "\n",
    "model.fit(X_train, y_train)"
   ]
  },
  {
   "cell_type": "markdown",
   "metadata": {
    "id": "E18N3QNMrQLw"
   },
   "source": [
    "Будем измерять качество модели по метрике weighted $f1$-score.\n",
    "\n",
    "Чтобы выбрать тип усреднения (micro, macro, weighted) в функции `f1_score` необходимо задать этот тип в гиперпараметре `average`.\n",
    "\n",
    "Вычислите $f1$-score на тестовых данных."
   ]
  },
  {
   "cell_type": "markdown",
   "metadata": {
    "id": "aLaSCeCf0uPd"
   },
   "source": [
    "**Вопрос:**\n",
    "\n",
    "Чему равен $f1$-score на тестовых данных?"
   ]
  },
  {
   "cell_type": "code",
   "execution_count": 69,
   "metadata": {
    "id": "TdhIWbULrnPv"
   },
   "outputs": [
    {
     "name": "stdout",
     "output_type": "stream",
     "text": [
      "0.9550512333965844\n"
     ]
    }
   ],
   "source": [
    "from sklearn.metrics import f1_score\n",
    "\n",
    "# ваш код здесь\n",
    "pred = model.predict(X_test)\n",
    "\n",
    "f1_weighted = f1_score(y_test, pred, average='weighted')\n",
    "print(f1_weighted)"
   ]
  },
  {
   "cell_type": "markdown",
   "metadata": {
    "id": "kco77ab200s9"
   },
   "source": [
    "## Задание 4"
   ]
  },
  {
   "cell_type": "markdown",
   "metadata": {
    "id": "BONbGWi1yVIQ"
   },
   "source": [
    "Попробуем улучшить модель.\n",
    "\n",
    "Подберите оптимальное количество соседей (`n_neighbors`) из диапазона *от 3 до 30 с шагом 2* и веса соседей (`weights`):  \n",
    "`uniform`, `distance` по кросс-валидации с тремя фолдами на тренировочных данных.\n",
    "\n",
    "Используйте `GridSearchCV` и метрику `f1_weighted`."
   ]
  },
  {
   "cell_type": "code",
   "execution_count": 70,
   "metadata": {
    "id": "6nM_wc6iydB-"
   },
   "outputs": [
    {
     "name": "stdout",
     "output_type": "stream",
     "text": [
      "0.9623290498688744\n",
      "{'n_neighbors': 19, 'weights': 'distance'}\n"
     ]
    }
   ],
   "source": [
    "from sklearn.model_selection import GridSearchCV\n",
    "\n",
    "# ваш код здесь\n",
    "params = {'n_neighbors' : np.arange(3, 30, 2), 'weights': ['uniform', 'distance']} \n",
    "\n",
    "gs = GridSearchCV(KNeighborsClassifier(), params, cv=3, scoring='f1_weighted')\n",
    "\n",
    "gs.fit(X_train, y_train)\n",
    "\n",
    "print(gs.best_score_) \n",
    "print(gs.best_params_) "
   ]
  },
  {
   "cell_type": "markdown",
   "metadata": {
    "id": "b6mM-XXps5Af"
   },
   "source": [
    "Возьмите best_estimator_, полученный при обучении GridSearchCV и с помощью него  \n",
    "сделайте предсказание на тесте и вычислите метрику `f1_weighted`."
   ]
  },
  {
   "cell_type": "code",
   "execution_count": 71,
   "metadata": {
    "id": "6Sn00daNtGWd"
   },
   "outputs": [
    {
     "name": "stdout",
     "output_type": "stream",
     "text": [
      "0.9550512333965844\n"
     ]
    }
   ],
   "source": [
    "# ваш код здесь\n",
    "model2 = KNeighborsClassifier(n_neighbors=19, weights='distance')\n",
    "\n",
    "model2.fit(X_train, y_train)\n",
    "\n",
    "pred = model2.predict(X_test)\n",
    "\n",
    "f1_weighted2 = f1_score(y_test, pred, average='weighted')\n",
    "print(f1_weighted2)"
   ]
  },
  {
   "cell_type": "markdown",
   "metadata": {
    "id": "HzAQzK3JtT7h"
   },
   "source": [
    "**Вопрос:**\n",
    "\n",
    "Удалось ли при помощи подбора гиперпараметров улучшить качество модели на тестовых данных?"
   ]
  },
  {
   "cell_type": "markdown",
   "metadata": {
    "id": "iLzHwlkj1cjs"
   },
   "source": [
    "## Задание 5"
   ]
  },
  {
   "cell_type": "markdown",
   "metadata": {
    "id": "tdm2A5SSylYQ"
   },
   "source": [
    "Выведите на экран матрицу ошибок.\n",
    "\n",
    "Используйте модель с подобранными при помощи `GridSearch` гиперпараметрами.\n"
   ]
  },
  {
   "cell_type": "markdown",
   "metadata": {
    "id": "FHgD2EQG1i1V"
   },
   "source": [
    "**Вопрос:**  \n",
    "По этой матрице определите, какие классы между собой путает модель?"
   ]
  },
  {
   "cell_type": "code",
   "execution_count": 72,
   "metadata": {
    "id": "I5u0A5a0yqge"
   },
   "outputs": [
    {
     "name": "stdout",
     "output_type": "stream",
     "text": [
      "[[15  0  0]\n",
      " [ 1 16  1]\n",
      " [ 0  0 12]]\n"
     ]
    }
   ],
   "source": [
    "from sklearn.metrics import confusion_matrix\n",
    "\n",
    "# ваш код здесь\n",
    "print(confusion_matrix(y_test, pred))"
   ]
  },
  {
   "cell_type": "markdown",
   "metadata": {},
   "source": [
    "Столбцы - реальные значения классов 0, 1, 2. Строки - прогноз. Из второго столбца видим, что все реальные объекты класса 1 были отнесены к классу 1. Из 1-го столбца видим, что 1 объект класса 0 был ошибочно отнесен к классу 1, а из 3-го столбца видим, что 1 объект класса 2 был ошибочно отнесен к классу 1. Итого модель путает классы 0 и 1, а также 2 и 1"
   ]
  },
  {
   "cell_type": "code",
   "execution_count": 73,
   "metadata": {},
   "outputs": [
    {
     "name": "stdout",
     "output_type": "stream",
     "text": [
      "              precision    recall  f1-score   support\n",
      "\n",
      "           0       0.94      1.00      0.97        15\n",
      "           1       1.00      0.89      0.94        18\n",
      "           2       0.92      1.00      0.96        12\n",
      "\n",
      "    accuracy                           0.96        45\n",
      "   macro avg       0.95      0.96      0.96        45\n",
      "weighted avg       0.96      0.96      0.96        45\n",
      "\n"
     ]
    }
   ],
   "source": [
    "from sklearn.metrics import classification_report\n",
    "\n",
    "print(classification_report(y_test, pred))"
   ]
  },
  {
   "cell_type": "markdown",
   "metadata": {
    "id": "9qKKGd2eyq6E"
   },
   "source": [
    "## Бонус (эксперименты с LSH)"
   ]
  },
  {
   "cell_type": "markdown",
   "metadata": {
    "id": "l-_YTZzg1qnq"
   },
   "source": [
    "Скопируйте все функции из [ноутбука в уроке \"Быстрый поиск соседей\"](https://colab.research.google.com/drive/181MMOcTnzdMVzJr0pWzqtEG0-BV9BIHH)."
   ]
  },
  {
   "cell_type": "code",
   "execution_count": 74,
   "metadata": {},
   "outputs": [],
   "source": [
    "# обычный поиск с KNN\n",
    "def knn_search(query, data, k=5):\n",
    "\n",
    "    dists = np.sqrt(np.sum((data - query) ** 2, axis=1))  # вычисляем расстояния от объекта query до всех точек датасета\n",
    "    inds = np.argsort(dists)  # сортируем по возрастанию расстояний\n",
    "    inds_k = inds[:k]         # берем top-k точек с наименьшими расстояниями\n",
    "    \n",
    "    return data[inds_k], dists[inds_k]"
   ]
  },
  {
   "cell_type": "code",
   "execution_count": 75,
   "metadata": {
    "id": "ia2GsrwKy5co"
   },
   "outputs": [],
   "source": [
    "# ваш код здесь\n",
    "def generate_hyperplanes(data, bucket_size=16):\n",
    "    m = data.shape[0]            # число объектов\n",
    "    n = data.shape[1]            # число признаков\n",
    "    b = m // bucket_size         # количество корзин\n",
    "    h = int(np.log2(b))          # количество гиперплоскостей\n",
    "    H = rng.normal(size=(h, n))  # гиперплоскости, заданные своими нормалями\n",
    "    return H"
   ]
  },
  {
   "cell_type": "code",
   "execution_count": 76,
   "metadata": {},
   "outputs": [],
   "source": [
    "def hamming_hash(data, hyperplanes):\n",
    "    b = len(hyperplanes)\n",
    "    hash_key = (data @ hyperplanes.T) >= 0\n",
    "    \n",
    "    dec_vals = np.array([2 ** i for i in range(b)], dtype=int)\n",
    "    hash_key = hash_key @ dec_vals\n",
    "    \n",
    "    return hash_key"
   ]
  },
  {
   "cell_type": "code",
   "execution_count": 77,
   "metadata": {},
   "outputs": [],
   "source": [
    "def locality_sensitive_hash(data, hyperplanes):\n",
    "    hash_vals = hamming_hash(data, hyperplanes)\n",
    "    hash_table = {}\n",
    "    for i, v in enumerate(hash_vals):\n",
    "        if v not in hash_table:\n",
    "            hash_table[v] = set()\n",
    "        hash_table[v].add(i)\n",
    "        \n",
    "    return hash_table"
   ]
  },
  {
   "cell_type": "code",
   "execution_count": 78,
   "metadata": {},
   "outputs": [],
   "source": [
    "def approx_knn_search(query, data, k=5, bucket_size=16):\n",
    "    candidates = set()\n",
    "\n",
    "    hyperplanes = generate_hyperplanes(data)\n",
    "    hash_table = locality_sensitive_hash(data, hyperplanes) # формируем хеш-таблицу по датасету\n",
    "\n",
    "    query_hash = hamming_hash(query, hyperplanes)\n",
    "    if query_hash in hash_table:\n",
    "        candidates = candidates.union(hash_table[query_hash])\n",
    "    candidates = np.stack([data[i] for i in candidates], axis=0) # находим кандидатов = объекты, попадающие с query в одну корзину\n",
    "\n",
    "    return knn_search(query, candidates, k=k) # с помощью KNN ищем ближайших соседей только из найденных кандидатов"
   ]
  },
  {
   "cell_type": "markdown",
   "metadata": {
    "id": "nYFSYav3vzVC"
   },
   "source": [
    "При помощи `knn_search` найдите ближайших соседей к вину `X_test.iloc[0]` в **тренировочных** данных.\n",
    "\n",
    "Обратите внимание, что функция `knn_search` принимает на вход `np.array`, а не `pd.DataFrame`. Поэтому переведите аргументы в `np.array`, приписав к необходимому объекту $X$: `X.values`."
   ]
  },
  {
   "cell_type": "code",
   "execution_count": 79,
   "metadata": {
    "id": "NB-UNOgUunot"
   },
   "outputs": [
    {
     "name": "stdout",
     "output_type": "stream",
     "text": [
      "top 1: dist = 1.7873320988662762\n",
      "top 2: dist = 1.9809624052592747\n",
      "top 3: dist = 2.1601016426727613\n",
      "top 4: dist = 2.270974564253457\n",
      "top 5: dist = 2.3117955237515453\n",
      "CPU times: total: 0 ns\n",
      "Wall time: 1 ms\n"
     ]
    }
   ],
   "source": [
    "%%time\n",
    "\n",
    "# ваш код здесь\n",
    "q = np.reshape(X_test.iloc[0], ((1, 13)))\n",
    "\n",
    "neighbors, dists = knn_search(q, X_train.values)  \n",
    "for i, (neighbor, dist) in enumerate(zip(neighbors, dists)):\n",
    "    print(f\"top {i + 1}: dist = {dist}\")"
   ]
  },
  {
   "cell_type": "markdown",
   "metadata": {
    "id": "y86BRzABvLHB"
   },
   "source": [
    "Выведите на экран признаки объекта `X_test.iloc[0]` и признаки ближайшего найденного соседа."
   ]
  },
  {
   "cell_type": "code",
   "execution_count": 80,
   "metadata": {
    "id": "Mi18Sp2WvQYE"
   },
   "outputs": [
    {
     "data": {
      "text/plain": [
       "alcohol                         0.806832\n",
       "malic_acid                      0.651425\n",
       "ash                             0.707637\n",
       "alcalinity_of_ash              -1.225688\n",
       "magnesium                       1.019911\n",
       "total_phenols                   0.657478\n",
       "flavanoids                      1.007035\n",
       "nonflavanoid_phenols           -1.530581\n",
       "proanthocyanins                 0.089343\n",
       "color_intensity                 0.037556\n",
       "hue                             0.002381\n",
       "od280/od315_of_diluted_wines    1.031337\n",
       "proline                         0.333672\n",
       "Name: 19, dtype: float64"
      ]
     },
     "execution_count": 80,
     "metadata": {},
     "output_type": "execute_result"
    }
   ],
   "source": [
    "# ваш код здесь\n",
    "X_test.iloc[0]"
   ]
  },
  {
   "cell_type": "code",
   "execution_count": 81,
   "metadata": {},
   "outputs": [
    {
     "data": {
      "text/plain": [
       "alcohol                         1.508275\n",
       "malic_acid                      1.464385\n",
       "ash                             0.528778\n",
       "alcalinity_of_ash              -1.804684\n",
       "magnesium                       1.822958\n",
       "total_phenols                   1.123849\n",
       "flavanoids                      1.017018\n",
       "nonflavanoid_phenols           -1.293323\n",
       "proanthocyanins                 0.820043\n",
       "color_intensity                 0.037556\n",
       "hue                            -0.297198\n",
       "od280/od315_of_diluted_wines    1.265107\n",
       "proline                         0.055633\n",
       "Name: 0, dtype: float64"
      ]
     },
     "execution_count": 81,
     "metadata": {},
     "output_type": "execute_result"
    }
   ],
   "source": [
    "pd.DataFrame(neighbors, columns=X_train.columns).iloc[0]"
   ]
  },
  {
   "cell_type": "markdown",
   "metadata": {
    "id": "3aeCTiYnx2_q"
   },
   "source": [
    "**Вопрос:**\n",
    "\n",
    "Можно ли сказать, что в тренировочных данных есть вино, почти такое же как `X_test.iloc[0]`? (все признаки почти одинаковые)\n",
    "\n",
    "Какое расстояние между объектом запроса и первым ближайшим соседом?"
   ]
  },
  {
   "cell_type": "markdown",
   "metadata": {},
   "source": [
    "**нет, расстояние не равно 0**\n",
    "\n",
    "**расстояние до ближайшего соседа равно 1,79**"
   ]
  },
  {
   "cell_type": "markdown",
   "metadata": {
    "id": "zWEBfyAay53O"
   },
   "source": [
    "Теперь найдите ближайшего соседа при помощи `approx_knn_search`."
   ]
  },
  {
   "cell_type": "code",
   "execution_count": 83,
   "metadata": {
    "id": "ezxEITyiy-1a"
   },
   "outputs": [
    {
     "ename": "TypeError",
     "evalue": "unhashable type: 'numpy.ndarray'",
     "output_type": "error",
     "traceback": [
      "\u001b[1;31m---------------------------------------------------------------------------\u001b[0m",
      "\u001b[1;31mTypeError\u001b[0m                                 Traceback (most recent call last)",
      "File \u001b[1;32m<timed exec>:5\u001b[0m\n",
      "Cell \u001b[1;32mIn[78], line 8\u001b[0m, in \u001b[0;36mapprox_knn_search\u001b[1;34m(query, data, k, bucket_size)\u001b[0m\n\u001b[0;32m      5\u001b[0m hash_table \u001b[38;5;241m=\u001b[39m locality_sensitive_hash(data, hyperplanes) \u001b[38;5;66;03m# формируем хеш-таблицу по датасету\u001b[39;00m\n\u001b[0;32m      7\u001b[0m query_hash \u001b[38;5;241m=\u001b[39m hamming_hash(query, hyperplanes)\n\u001b[1;32m----> 8\u001b[0m \u001b[38;5;28;01mif\u001b[39;00m \u001b[43mquery_hash\u001b[49m\u001b[43m \u001b[49m\u001b[38;5;129;43;01min\u001b[39;49;00m\u001b[43m \u001b[49m\u001b[43mhash_table\u001b[49m:\n\u001b[0;32m      9\u001b[0m     candidates \u001b[38;5;241m=\u001b[39m candidates\u001b[38;5;241m.\u001b[39munion(hash_table[query_hash])\n\u001b[0;32m     10\u001b[0m candidates \u001b[38;5;241m=\u001b[39m np\u001b[38;5;241m.\u001b[39mstack([data[i] \u001b[38;5;28;01mfor\u001b[39;00m i \u001b[38;5;129;01min\u001b[39;00m candidates], axis\u001b[38;5;241m=\u001b[39m\u001b[38;5;241m0\u001b[39m) \u001b[38;5;66;03m# находим кандидатов = объекты, попадающие с query в одну корзину\u001b[39;00m\n",
      "\u001b[1;31mTypeError\u001b[0m: unhashable type: 'numpy.ndarray'"
     ]
    }
   ],
   "source": [
    "%%time\n",
    "\n",
    "# ваш код здесь\n",
    "\n",
    "q = np.reshape(X_test.iloc[0].values, ((1, 13)))\n",
    "\n",
    "neighbors, dists = approx_knn_search(q, X_train.values)\n",
    "\n",
    "for i, (neighbor, dist) in enumerate(zip(neighbors, dists)):\n",
    "    print(f\"top {i + 1}: dist = {dist}\")"
   ]
  },
  {
   "cell_type": "markdown",
   "metadata": {
    "id": "sCPx6pgnwRqX"
   },
   "source": [
    "Ближайший сосед при помощи KNN+LSH может быть найден не точно или не с первого запуска.  \n",
    "Запустите последнюю ячейку несколько раз и убедитесь, что ближайший сосед находится верно за несколько запусков."
   ]
  },
  {
   "cell_type": "markdown",
   "metadata": {
    "id": "Rpj5qiwi2IJq"
   },
   "source": [
    "**Вопрос:**\n",
    "\n",
    "Запустите `knn_search` и `appox_knn_search` несколько раз и сравните время запусков. Какой из подходов в этой задаче работает быстрее?"
   ]
  }
 ],
 "metadata": {
  "colab": {
   "provenance": []
  },
  "kernelspec": {
   "display_name": "Python 3 (ipykernel)",
   "language": "python",
   "name": "python3"
  },
  "language_info": {
   "codemirror_mode": {
    "name": "ipython",
    "version": 3
   },
   "file_extension": ".py",
   "mimetype": "text/x-python",
   "name": "python",
   "nbconvert_exporter": "python",
   "pygments_lexer": "ipython3",
   "version": "3.10.11"
  }
 },
 "nbformat": 4,
 "nbformat_minor": 4
}
