{
 "cells": [
  {
   "cell_type": "markdown",
   "metadata": {
    "id": "MUZ6rDRxJX9P"
   },
   "source": [
    "# SVM. Метод опорных векторов + Кросс-валидация\n",
    "\n",
    "В этом задании вы попрактикуетесь в применении метода опорных векторов, а также примените кросс-валидацию для подбора гиперпараметров и оценки качества моделей!"
   ]
  },
  {
   "cell_type": "markdown",
   "metadata": {
    "id": "zUu_ftbUtaQ4"
   },
   "source": [
    "## Данные"
   ]
  },
  {
   "cell_type": "markdown",
   "metadata": {
    "id": "Hy5JxD0EJlcl"
   },
   "source": [
    "В этой практической работе мы будем обучать модели машинного обучения, ставить эксперименты, подбирать гиперпараметры и сравнивать модели. Вам предлагается решить задачу бинарной классификации, а именно построить алгоритм, определяющий превысит ли средний заработок человека порог $50k. Каждый объект выборки — человек, для которого известны следующие признаки:\n",
    " - `age`\n",
    " - `workclass`\n",
    " - `fnlwgt`\n",
    " - `education`\n",
    " - `education-num`\n",
    " - `marital-status`\n",
    " - `occupation`\n",
    " - `relationship`\n",
    " - `race`\n",
    " - `sex`\n",
    " - `capital-gain`\n",
    " - `capital-loss`\n",
    " - `hours-per-week`\n",
    "\n",
    "Более подробно про признаки можно почитать [здесь](http://archive.ics.uci.edu/ml/machine-learning-databases/adult/adult.names). Целевой признак записан в переменной *>50K,<=50K*."
   ]
  },
  {
   "cell_type": "markdown",
   "metadata": {
    "id": "LnMba-Q7F5gf"
   },
   "source": [
    "## Бонус ноутбука"
   ]
  },
  {
   "cell_type": "markdown",
   "metadata": {
    "id": "7ukkKGDYJwj2"
   },
   "source": [
    "Все исследователи данных знают, что SVM из библиотеки `sklearn` работает крайне медленно, поэтому на практике не могут его применять для решения задач.\n",
    "\n",
    "В этом ноутбуке мы используем средства библиотеки `sklearn intelex` для ускорения обучения SVM в 600 раз!\n",
    "\n",
    "Ради интереса попробуйте после завершения выполнения заданий в ноутбуке удалить ячейки, связанные с установкой и импортом `sklearn intelex` и засечь время работы методов :)"
   ]
  },
  {
   "cell_type": "code",
   "execution_count": null,
   "metadata": {
    "colab": {
     "base_uri": "https://localhost:8080/"
    },
    "id": "mBdub6Wkwf30",
    "outputId": "25cb5aa9-675f-4712-d2fd-a5a285548a76"
   },
   "outputs": [
    {
     "name": "stdout",
     "output_type": "stream",
     "text": [
      "Python 3.10.12\n"
     ]
    }
   ],
   "source": [
    "# убедимся, что версия python <= 3.10\n",
    "!python --version"
   ]
  },
  {
   "cell_type": "code",
   "execution_count": null,
   "metadata": {
    "id": "T22iTCsq2eQ_"
   },
   "outputs": [],
   "source": [
    "%%capture\n",
    "!python -m pip install --upgrade pip\n",
    "!pip install --upgrade scikit-learn-intelex"
   ]
  },
  {
   "cell_type": "code",
   "execution_count": null,
   "metadata": {
    "colab": {
     "base_uri": "https://localhost:8080/"
    },
    "id": "vXCU3KNXwm9x",
    "outputId": "235d817f-7038-4713-82ae-8a507fe0a7aa"
   },
   "outputs": [
    {
     "name": "stderr",
     "output_type": "stream",
     "text": [
      "Intel(R) Extension for Scikit-learn* enabled (https://github.com/intel/scikit-learn-intelex)\n"
     ]
    }
   ],
   "source": [
    "from sklearnex import patch_sklearn\n",
    "patch_sklearn()"
   ]
  },
  {
   "cell_type": "code",
   "execution_count": null,
   "metadata": {
    "id": "28pC0ajQt7QF"
   },
   "outputs": [],
   "source": [
    "import pandas as pd\n",
    "import numpy as np\n",
    "import sys\n",
    "import os\n",
    "import site\n",
    "\n",
    "from sklearn.linear_model import LogisticRegression\n",
    "from sklearn.svm import SVC\n",
    "from matplotlib import pyplot as plt\n",
    "\n",
    "sys.path.append(os.path.join(os.path.dirname(site.getsitepackages()[0]), \"site-packages\"))"
   ]
  },
  {
   "cell_type": "markdown",
   "metadata": {
    "id": "_yBbivcOtaQ5"
   },
   "source": [
    "## Метрика качества"
   ]
  },
  {
   "cell_type": "markdown",
   "metadata": {
    "id": "GA5Z7L3JJRn2"
   },
   "source": [
    "В задании мы будем оценивать качество моделей с помощью метрики *AUC-ROC*."
   ]
  },
  {
   "cell_type": "markdown",
   "metadata": {
    "id": "sUj902IjtaQ7"
   },
   "source": [
    "Загрузим набор данных `data.adult.csv`."
   ]
  },
  {
   "cell_type": "code",
   "execution_count": null,
   "metadata": {
    "colab": {
     "base_uri": "https://localhost:8080/",
     "height": 206
    },
    "collapsed": true,
    "id": "o42lJKF0taQ8",
    "jupyter": {
     "outputs_hidden": true
    },
    "outputId": "3cec3b38-ad89-4472-a494-a3610310f7a4"
   },
   "outputs": [
    {
     "data": {
      "text/html": [
       "\n",
       "  <div id=\"df-1b62e3ae-34e4-4f59-a778-b2869aa3cab1\" class=\"colab-df-container\">\n",
       "    <div>\n",
       "<style scoped>\n",
       "    .dataframe tbody tr th:only-of-type {\n",
       "        vertical-align: middle;\n",
       "    }\n",
       "\n",
       "    .dataframe tbody tr th {\n",
       "        vertical-align: top;\n",
       "    }\n",
       "\n",
       "    .dataframe thead th {\n",
       "        text-align: right;\n",
       "    }\n",
       "</style>\n",
       "<table border=\"1\" class=\"dataframe\">\n",
       "  <thead>\n",
       "    <tr style=\"text-align: right;\">\n",
       "      <th></th>\n",
       "      <th>age</th>\n",
       "      <th>workclass</th>\n",
       "      <th>fnlwgt</th>\n",
       "      <th>education</th>\n",
       "      <th>education-num</th>\n",
       "      <th>marital-status</th>\n",
       "      <th>occupation</th>\n",
       "      <th>relationship</th>\n",
       "      <th>race</th>\n",
       "      <th>sex</th>\n",
       "      <th>capital-gain</th>\n",
       "      <th>capital-loss</th>\n",
       "      <th>hours-per-week</th>\n",
       "      <th>&gt;50K,&lt;=50K</th>\n",
       "    </tr>\n",
       "  </thead>\n",
       "  <tbody>\n",
       "    <tr>\n",
       "      <th>0</th>\n",
       "      <td>34</td>\n",
       "      <td>Local-gov</td>\n",
       "      <td>284843</td>\n",
       "      <td>HS-grad</td>\n",
       "      <td>9</td>\n",
       "      <td>Never-married</td>\n",
       "      <td>Farming-fishing</td>\n",
       "      <td>Not-in-family</td>\n",
       "      <td>Black</td>\n",
       "      <td>Male</td>\n",
       "      <td>594</td>\n",
       "      <td>0</td>\n",
       "      <td>60</td>\n",
       "      <td>&lt;=50K</td>\n",
       "    </tr>\n",
       "    <tr>\n",
       "      <th>1</th>\n",
       "      <td>40</td>\n",
       "      <td>Private</td>\n",
       "      <td>190290</td>\n",
       "      <td>Some-college</td>\n",
       "      <td>10</td>\n",
       "      <td>Divorced</td>\n",
       "      <td>Sales</td>\n",
       "      <td>Not-in-family</td>\n",
       "      <td>White</td>\n",
       "      <td>Male</td>\n",
       "      <td>0</td>\n",
       "      <td>0</td>\n",
       "      <td>40</td>\n",
       "      <td>&lt;=50K</td>\n",
       "    </tr>\n",
       "    <tr>\n",
       "      <th>2</th>\n",
       "      <td>36</td>\n",
       "      <td>Local-gov</td>\n",
       "      <td>177858</td>\n",
       "      <td>Bachelors</td>\n",
       "      <td>13</td>\n",
       "      <td>Married-civ-spouse</td>\n",
       "      <td>Prof-specialty</td>\n",
       "      <td>Own-child</td>\n",
       "      <td>White</td>\n",
       "      <td>Male</td>\n",
       "      <td>0</td>\n",
       "      <td>0</td>\n",
       "      <td>40</td>\n",
       "      <td>&lt;=50K</td>\n",
       "    </tr>\n",
       "    <tr>\n",
       "      <th>3</th>\n",
       "      <td>22</td>\n",
       "      <td>Private</td>\n",
       "      <td>184756</td>\n",
       "      <td>Some-college</td>\n",
       "      <td>10</td>\n",
       "      <td>Never-married</td>\n",
       "      <td>Sales</td>\n",
       "      <td>Own-child</td>\n",
       "      <td>White</td>\n",
       "      <td>Female</td>\n",
       "      <td>0</td>\n",
       "      <td>0</td>\n",
       "      <td>30</td>\n",
       "      <td>&lt;=50K</td>\n",
       "    </tr>\n",
       "    <tr>\n",
       "      <th>4</th>\n",
       "      <td>47</td>\n",
       "      <td>Private</td>\n",
       "      <td>149700</td>\n",
       "      <td>Bachelors</td>\n",
       "      <td>13</td>\n",
       "      <td>Married-civ-spouse</td>\n",
       "      <td>Tech-support</td>\n",
       "      <td>Husband</td>\n",
       "      <td>White</td>\n",
       "      <td>Male</td>\n",
       "      <td>15024</td>\n",
       "      <td>0</td>\n",
       "      <td>40</td>\n",
       "      <td>&gt;50K</td>\n",
       "    </tr>\n",
       "  </tbody>\n",
       "</table>\n",
       "</div>\n",
       "    <div class=\"colab-df-buttons\">\n",
       "\n",
       "  <div class=\"colab-df-container\">\n",
       "    <button class=\"colab-df-convert\" onclick=\"convertToInteractive('df-1b62e3ae-34e4-4f59-a778-b2869aa3cab1')\"\n",
       "            title=\"Convert this dataframe to an interactive table.\"\n",
       "            style=\"display:none;\">\n",
       "\n",
       "  <svg xmlns=\"http://www.w3.org/2000/svg\" height=\"24px\" viewBox=\"0 -960 960 960\">\n",
       "    <path d=\"M120-120v-720h720v720H120Zm60-500h600v-160H180v160Zm220 220h160v-160H400v160Zm0 220h160v-160H400v160ZM180-400h160v-160H180v160Zm440 0h160v-160H620v160ZM180-180h160v-160H180v160Zm440 0h160v-160H620v160Z\"/>\n",
       "  </svg>\n",
       "    </button>\n",
       "\n",
       "  <style>\n",
       "    .colab-df-container {\n",
       "      display:flex;\n",
       "      gap: 12px;\n",
       "    }\n",
       "\n",
       "    .colab-df-convert {\n",
       "      background-color: #E8F0FE;\n",
       "      border: none;\n",
       "      border-radius: 50%;\n",
       "      cursor: pointer;\n",
       "      display: none;\n",
       "      fill: #1967D2;\n",
       "      height: 32px;\n",
       "      padding: 0 0 0 0;\n",
       "      width: 32px;\n",
       "    }\n",
       "\n",
       "    .colab-df-convert:hover {\n",
       "      background-color: #E2EBFA;\n",
       "      box-shadow: 0px 1px 2px rgba(60, 64, 67, 0.3), 0px 1px 3px 1px rgba(60, 64, 67, 0.15);\n",
       "      fill: #174EA6;\n",
       "    }\n",
       "\n",
       "    .colab-df-buttons div {\n",
       "      margin-bottom: 4px;\n",
       "    }\n",
       "\n",
       "    [theme=dark] .colab-df-convert {\n",
       "      background-color: #3B4455;\n",
       "      fill: #D2E3FC;\n",
       "    }\n",
       "\n",
       "    [theme=dark] .colab-df-convert:hover {\n",
       "      background-color: #434B5C;\n",
       "      box-shadow: 0px 1px 3px 1px rgba(0, 0, 0, 0.15);\n",
       "      filter: drop-shadow(0px 1px 2px rgba(0, 0, 0, 0.3));\n",
       "      fill: #FFFFFF;\n",
       "    }\n",
       "  </style>\n",
       "\n",
       "    <script>\n",
       "      const buttonEl =\n",
       "        document.querySelector('#df-1b62e3ae-34e4-4f59-a778-b2869aa3cab1 button.colab-df-convert');\n",
       "      buttonEl.style.display =\n",
       "        google.colab.kernel.accessAllowed ? 'block' : 'none';\n",
       "\n",
       "      async function convertToInteractive(key) {\n",
       "        const element = document.querySelector('#df-1b62e3ae-34e4-4f59-a778-b2869aa3cab1');\n",
       "        const dataTable =\n",
       "          await google.colab.kernel.invokeFunction('convertToInteractive',\n",
       "                                                    [key], {});\n",
       "        if (!dataTable) return;\n",
       "\n",
       "        const docLinkHtml = 'Like what you see? Visit the ' +\n",
       "          '<a target=\"_blank\" href=https://colab.research.google.com/notebooks/data_table.ipynb>data table notebook</a>'\n",
       "          + ' to learn more about interactive tables.';\n",
       "        element.innerHTML = '';\n",
       "        dataTable['output_type'] = 'display_data';\n",
       "        await google.colab.output.renderOutput(dataTable, element);\n",
       "        const docLink = document.createElement('div');\n",
       "        docLink.innerHTML = docLinkHtml;\n",
       "        element.appendChild(docLink);\n",
       "      }\n",
       "    </script>\n",
       "  </div>\n",
       "\n",
       "\n",
       "<div id=\"df-47d50432-f5fe-4cba-b420-f3fff2cb3e36\">\n",
       "  <button class=\"colab-df-quickchart\" onclick=\"quickchart('df-47d50432-f5fe-4cba-b420-f3fff2cb3e36')\"\n",
       "            title=\"Suggest charts\"\n",
       "            style=\"display:none;\">\n",
       "\n",
       "<svg xmlns=\"http://www.w3.org/2000/svg\" height=\"24px\"viewBox=\"0 0 24 24\"\n",
       "     width=\"24px\">\n",
       "    <g>\n",
       "        <path d=\"M19 3H5c-1.1 0-2 .9-2 2v14c0 1.1.9 2 2 2h14c1.1 0 2-.9 2-2V5c0-1.1-.9-2-2-2zM9 17H7v-7h2v7zm4 0h-2V7h2v10zm4 0h-2v-4h2v4z\"/>\n",
       "    </g>\n",
       "</svg>\n",
       "  </button>\n",
       "\n",
       "<style>\n",
       "  .colab-df-quickchart {\n",
       "      --bg-color: #E8F0FE;\n",
       "      --fill-color: #1967D2;\n",
       "      --hover-bg-color: #E2EBFA;\n",
       "      --hover-fill-color: #174EA6;\n",
       "      --disabled-fill-color: #AAA;\n",
       "      --disabled-bg-color: #DDD;\n",
       "  }\n",
       "\n",
       "  [theme=dark] .colab-df-quickchart {\n",
       "      --bg-color: #3B4455;\n",
       "      --fill-color: #D2E3FC;\n",
       "      --hover-bg-color: #434B5C;\n",
       "      --hover-fill-color: #FFFFFF;\n",
       "      --disabled-bg-color: #3B4455;\n",
       "      --disabled-fill-color: #666;\n",
       "  }\n",
       "\n",
       "  .colab-df-quickchart {\n",
       "    background-color: var(--bg-color);\n",
       "    border: none;\n",
       "    border-radius: 50%;\n",
       "    cursor: pointer;\n",
       "    display: none;\n",
       "    fill: var(--fill-color);\n",
       "    height: 32px;\n",
       "    padding: 0;\n",
       "    width: 32px;\n",
       "  }\n",
       "\n",
       "  .colab-df-quickchart:hover {\n",
       "    background-color: var(--hover-bg-color);\n",
       "    box-shadow: 0 1px 2px rgba(60, 64, 67, 0.3), 0 1px 3px 1px rgba(60, 64, 67, 0.15);\n",
       "    fill: var(--button-hover-fill-color);\n",
       "  }\n",
       "\n",
       "  .colab-df-quickchart-complete:disabled,\n",
       "  .colab-df-quickchart-complete:disabled:hover {\n",
       "    background-color: var(--disabled-bg-color);\n",
       "    fill: var(--disabled-fill-color);\n",
       "    box-shadow: none;\n",
       "  }\n",
       "\n",
       "  .colab-df-spinner {\n",
       "    border: 2px solid var(--fill-color);\n",
       "    border-color: transparent;\n",
       "    border-bottom-color: var(--fill-color);\n",
       "    animation:\n",
       "      spin 1s steps(1) infinite;\n",
       "  }\n",
       "\n",
       "  @keyframes spin {\n",
       "    0% {\n",
       "      border-color: transparent;\n",
       "      border-bottom-color: var(--fill-color);\n",
       "      border-left-color: var(--fill-color);\n",
       "    }\n",
       "    20% {\n",
       "      border-color: transparent;\n",
       "      border-left-color: var(--fill-color);\n",
       "      border-top-color: var(--fill-color);\n",
       "    }\n",
       "    30% {\n",
       "      border-color: transparent;\n",
       "      border-left-color: var(--fill-color);\n",
       "      border-top-color: var(--fill-color);\n",
       "      border-right-color: var(--fill-color);\n",
       "    }\n",
       "    40% {\n",
       "      border-color: transparent;\n",
       "      border-right-color: var(--fill-color);\n",
       "      border-top-color: var(--fill-color);\n",
       "    }\n",
       "    60% {\n",
       "      border-color: transparent;\n",
       "      border-right-color: var(--fill-color);\n",
       "    }\n",
       "    80% {\n",
       "      border-color: transparent;\n",
       "      border-right-color: var(--fill-color);\n",
       "      border-bottom-color: var(--fill-color);\n",
       "    }\n",
       "    90% {\n",
       "      border-color: transparent;\n",
       "      border-bottom-color: var(--fill-color);\n",
       "    }\n",
       "  }\n",
       "</style>\n",
       "\n",
       "  <script>\n",
       "    async function quickchart(key) {\n",
       "      const quickchartButtonEl =\n",
       "        document.querySelector('#' + key + ' button');\n",
       "      quickchartButtonEl.disabled = true;  // To prevent multiple clicks.\n",
       "      quickchartButtonEl.classList.add('colab-df-spinner');\n",
       "      try {\n",
       "        const charts = await google.colab.kernel.invokeFunction(\n",
       "            'suggestCharts', [key], {});\n",
       "      } catch (error) {\n",
       "        console.error('Error during call to suggestCharts:', error);\n",
       "      }\n",
       "      quickchartButtonEl.classList.remove('colab-df-spinner');\n",
       "      quickchartButtonEl.classList.add('colab-df-quickchart-complete');\n",
       "    }\n",
       "    (() => {\n",
       "      let quickchartButtonEl =\n",
       "        document.querySelector('#df-47d50432-f5fe-4cba-b420-f3fff2cb3e36 button');\n",
       "      quickchartButtonEl.style.display =\n",
       "        google.colab.kernel.accessAllowed ? 'block' : 'none';\n",
       "    })();\n",
       "  </script>\n",
       "</div>\n",
       "    </div>\n",
       "  </div>\n"
      ],
      "text/plain": [
       "   age  workclass  fnlwgt     education  education-num      marital-status  \\\n",
       "0   34  Local-gov  284843       HS-grad              9       Never-married   \n",
       "1   40    Private  190290  Some-college             10            Divorced   \n",
       "2   36  Local-gov  177858     Bachelors             13  Married-civ-spouse   \n",
       "3   22    Private  184756  Some-college             10       Never-married   \n",
       "4   47    Private  149700     Bachelors             13  Married-civ-spouse   \n",
       "\n",
       "        occupation   relationship   race     sex  capital-gain  capital-loss  \\\n",
       "0  Farming-fishing  Not-in-family  Black    Male           594             0   \n",
       "1            Sales  Not-in-family  White    Male             0             0   \n",
       "2   Prof-specialty      Own-child  White    Male             0             0   \n",
       "3            Sales      Own-child  White  Female             0             0   \n",
       "4     Tech-support        Husband  White    Male         15024             0   \n",
       "\n",
       "   hours-per-week >50K,<=50K  \n",
       "0              60      <=50K  \n",
       "1              40      <=50K  \n",
       "2              40      <=50K  \n",
       "3              30      <=50K  \n",
       "4              40       >50K  "
      ]
     },
     "execution_count": 5,
     "metadata": {},
     "output_type": "execute_result"
    }
   ],
   "source": [
    "df = pd.read_csv(\"https://raw.githubusercontent.com/evgpat/edu_stepik_practical_ml/main/datasets/data.adult.csv\")\n",
    "\n",
    "df.head()"
   ]
  },
  {
   "cell_type": "markdown",
   "metadata": {
    "id": "kH9mGBEKtaQ9"
   },
   "source": [
    "Иногда в данных встречаются пропуски. Как задаются пропуски обычно либо прописывается в описании к данным, либо просто на месте пропуска после чтения данных оказывается значение `numpy.nan`.  \n",
    "Более подробно о работе с пропусками в Pandas можно прочитать например [здесь](http://pandas.pydata.org/pandas-docs/stable/missing_data.html).\n",
    "\n",
    "В данном датасете пропущенные значения обозначены как \"?\"."
   ]
  },
  {
   "cell_type": "markdown",
   "metadata": {
    "id": "2VZ0C1KfKDZ2"
   },
   "source": [
    "### Задание"
   ]
  },
  {
   "cell_type": "markdown",
   "metadata": {
    "id": "t9HQxsauKGAH"
   },
   "source": [
    "Найдите все признаки, имеющие пропущенные значения.\n",
    "\n",
    "Затем удалите из выборки все объекты с пропусками."
   ]
  },
  {
   "cell_type": "code",
   "execution_count": null,
   "metadata": {
    "colab": {
     "base_uri": "https://localhost:8080/"
    },
    "collapsed": true,
    "id": "sDsgwXUktaQ-",
    "jupyter": {
     "outputs_hidden": true
    },
    "outputId": "2214c4c9-e46d-45b5-8b58-270a0ca4403f"
   },
   "outputs": [
    {
     "name": "stdout",
     "output_type": "stream",
     "text": [
      "age 0\n",
      "workclass 929\n",
      "fnlwgt 0\n",
      "education 0\n",
      "education-num 0\n",
      "marital-status 0\n",
      "occupation 933\n",
      "relationship 0\n",
      "race 0\n",
      "sex 0\n",
      "capital-gain 0\n",
      "capital-loss 0\n",
      "hours-per-week 0\n",
      ">50K,<=50K 0\n"
     ]
    }
   ],
   "source": [
    "# your code here\n",
    "for c in df.columns:\n",
    "    print(c, len(df[df[c] == '?']))"
   ]
  },
  {
   "cell_type": "code",
   "execution_count": null,
   "metadata": {
    "colab": {
     "base_uri": "https://localhost:8080/"
    },
    "id": "SIM1uPTbNCGL",
    "outputId": "a5e42e0e-fefb-4558-a67e-07d4e09d78bc"
   },
   "outputs": [
    {
     "data": {
      "text/plain": [
       "(16280, 14)"
      ]
     },
     "execution_count": 7,
     "metadata": {},
     "output_type": "execute_result"
    }
   ],
   "source": [
    "# проверим, сколько объектов в датафрейме\n",
    "df.shape"
   ]
  },
  {
   "cell_type": "code",
   "execution_count": null,
   "metadata": {
    "colab": {
     "base_uri": "https://localhost:8080/"
    },
    "id": "3FLxyOo6v7Ej",
    "outputId": "14d7d540-2e21-45df-9d2d-d07296a22ad3"
   },
   "outputs": [
    {
     "data": {
      "text/plain": [
       "(15347, 14)"
      ]
     },
     "execution_count": 8,
     "metadata": {},
     "output_type": "execute_result"
    }
   ],
   "source": [
    "# your code here\n",
    "indexes = df[(df['workclass'] == '?') | (df['occupation'] == '?')].index\n",
    "df.drop(index=indexes, inplace=True)\n",
    "# смотрим, сколько объектов стало\n",
    "df.shape"
   ]
  },
  {
   "cell_type": "markdown",
   "metadata": {
    "id": "nCAoxs8ItaQ_"
   },
   "source": [
    "Обычно после загрузки датасета всегда необходима его некоторая предобработка.  \n",
    "В данном случае она будет заключаться в следующем:\n",
    "\n",
    " - Выделите целевую переменную y в отдельную переменную и преобразуйте к бинарному формату по правилу:  \n",
    " '>50K' - 1, '<=50K' - 0.\n",
    " - Выделите матрицу объект-признак `X`, содержащую только вещественные столбцы (числовые) и не содержащую целевой переменной\n",
    " - Обратите внимание, что не все признаки являются вещественными. В начале мы будем работать только с вещественными признаками. Выделите их отдельно."
   ]
  },
  {
   "cell_type": "code",
   "execution_count": null,
   "metadata": {
    "collapsed": true,
    "id": "L3ktg3zUtaQ_",
    "jupyter": {
     "outputs_hidden": true
    }
   },
   "outputs": [],
   "source": [
    "# your code here\n",
    "y = df['>50K,<=50K'].map({'>50K': 1, '<=50K': 0})"
   ]
  },
  {
   "cell_type": "code",
   "execution_count": null,
   "metadata": {
    "colab": {
     "base_uri": "https://localhost:8080/"
    },
    "id": "O6qa9zrpRCbq",
    "outputId": "b00428e6-32d9-4a60-9b47-b8a00bbca114"
   },
   "outputs": [
    {
     "data": {
      "text/plain": [
       "age                int64\n",
       "workclass         object\n",
       "fnlwgt             int64\n",
       "education         object\n",
       "education-num      int64\n",
       "marital-status    object\n",
       "occupation        object\n",
       "relationship      object\n",
       "race              object\n",
       "sex               object\n",
       "capital-gain       int64\n",
       "capital-loss       int64\n",
       "hours-per-week     int64\n",
       ">50K,<=50K        object\n",
       "dtype: object"
      ]
     },
     "execution_count": 10,
     "metadata": {},
     "output_type": "execute_result"
    }
   ],
   "source": [
    "# your code here проверяем типы переменных\n",
    "df.dtypes"
   ]
  },
  {
   "cell_type": "code",
   "execution_count": null,
   "metadata": {
    "colab": {
     "base_uri": "https://localhost:8080/"
    },
    "id": "moJd3KhXRYrO",
    "outputId": "d303c5aa-5944-49b9-e96a-ed7f0fe5217c"
   },
   "outputs": [
    {
     "data": {
      "text/plain": [
       "(15347, 6)"
      ]
     },
     "execution_count": 11,
     "metadata": {},
     "output_type": "execute_result"
    }
   ],
   "source": [
    "# your code here\n",
    "num_features = ['age', 'fnlwgt', 'education-num', 'capital-gain', 'capital-loss', 'hours-per-week']\n",
    "x = df[num_features]\n",
    "x.shape"
   ]
  },
  {
   "cell_type": "markdown",
   "metadata": {
    "id": "5z1ZtHu1x7ns"
   },
   "source": [
    "### Задание"
   ]
  },
  {
   "cell_type": "markdown",
   "metadata": {
    "id": "uDEOHieNKJ6J"
   },
   "source": [
    "Cколько столбцов содержит матрица `X`?"
   ]
  },
  {
   "cell_type": "markdown",
   "metadata": {
    "id": "wsVm_R2p8TEp"
   },
   "source": [
    "Постройте гистограммы для признаков `age`, `fnlwgt`, `capital-gain`. Глядя на получившиеся графики в чем заключается особенность данных? На какие алгоритмы это может повлиять? Может ли масшитабирование повлиять на работу этих алгоритмов?\n",
    "\n",
    "Ответьте на этот вопрос для себя устно."
   ]
  },
  {
   "cell_type": "code",
   "execution_count": null,
   "metadata": {
    "colab": {
     "base_uri": "https://localhost:8080/",
     "height": 409
    },
    "collapsed": true,
    "id": "tZXDMgki8TEw",
    "jupyter": {
     "outputs_hidden": true
    },
    "outputId": "147b5e2d-b747-4626-e90b-38b7f136d097"
   },
   "outputs": [
    {
     "data": {
      "image/png": "[encoded data removed]",
      "text/plain": [
       "<Figure size 1200x400 with 3 Axes>"
      ]
     },
     "metadata": {},
     "output_type": "display_data"
    }
   ],
   "source": [
    "# your code here\n",
    "check_cols = ['age', 'fnlwgt', 'capital-gain']\n",
    "\n",
    "fig, a = plt.subplots(1, 3, figsize=(12, 4))\n",
    "plt.subplots_adjust(wspace=0.2)\n",
    "\n",
    "for i in range(3):\n",
    "    a[i].set_title(check_cols[i])\n",
    "    a[i].hist(x[check_cols[i]])"
   ]
  },
  {
   "cell_type": "markdown",
   "metadata": {
    "id": "jZSCrpH_fwhX"
   },
   "source": [
    "**Из нижней оси видим, что масштаб очень сильно отличается. Линейные модели чувствительны к масштабу. Нужно нормировать**"
   ]
  },
  {
   "cell_type": "markdown",
   "metadata": {
    "id": "-YoOuaWe8TEw"
   },
   "source": [
    "Масштабируйте все вещественные признаки (масштабированную матрицу назовите, как и раньше, `X`)."
   ]
  },
  {
   "cell_type": "code",
   "execution_count": null,
   "metadata": {
    "collapsed": true,
    "id": "iQSk7m9W8TEw",
    "jupyter": {
     "outputs_hidden": true
    }
   },
   "outputs": [],
   "source": [
    "from sklearn.preprocessing import StandardScaler\n",
    "\n",
    "# your code here\n",
    "scaler = StandardScaler()\n",
    "x = pd.DataFrame(scaler.fit_transform(x), columns=x.columns, index=x.index)"
   ]
  },
  {
   "cell_type": "code",
   "execution_count": null,
   "metadata": {
    "colab": {
     "base_uri": "https://localhost:8080/",
     "height": 391
    },
    "id": "XcpuJ_xJat7v",
    "outputId": "95289305-97e2-4177-e663-2b122e457b7d"
   },
   "outputs": [
    {
     "data": {
      "image/png": "[encoded data removed]",
      "text/plain": [
       "<Figure size 1200x400 with 3 Axes>"
      ]
     },
     "metadata": {},
     "output_type": "display_data"
    }
   ],
   "source": [
    "# проверяем, что масштаб изменился (смотрим по нижней оси, где величины, т.к. по вертикальной оси - количество объектов)\n",
    "\n",
    "check_cols = ['age', 'fnlwgt', 'capital-gain']\n",
    "\n",
    "fig, a = plt.subplots(1, 3, figsize=(12, 4))\n",
    "plt.subplots_adjust(wspace=0.2)\n",
    "\n",
    "for i in range(3):\n",
    "    a[i].set_title(check_cols[i])\n",
    "    a[i].hist(x[check_cols[i]])\n",
    "fig.show()"
   ]
  },
  {
   "cell_type": "markdown",
   "metadata": {
    "id": "YMfzsmqdtaQ_"
   },
   "source": [
    "## Обучение классификаторов на вещественных признаках"
   ]
  },
  {
   "cell_type": "markdown",
   "metadata": {
    "id": "2o8oDDCB_gcz"
   },
   "source": [
    "В данном разделе необходимо будет работать только с вещественными признаками и целевой переменной.\n",
    "\n",
    "В этом задании необходимо проверять качество алгоритмов по кросс-валидации. Напомним, что это за процесс.\n"
   ]
  },
  {
   "cell_type": "markdown",
   "metadata": {
    "id": "dXumzL4xKdq2"
   },
   "source": [
    "### Кросс-валидация [обучающий текст]\n",
    "\n",
    "Разбивать данные на train-test как мы делали раньше - неплохой подход. Однако при этом подходе мы привязываем и обучение модели, и оценку качества к конкретному разбиению, а для другого разбиения можем получить модель совершенно другого качества, что плохо.\n",
    "\n",
    "Поэтому хочется оценить качество модели без привязки к конкретному разбиению на train-test. Для этого все обучающие данные разбиваются на несколько равных блоков (фолдов), и затем модель обучается несколько раз:\n",
    "* первый раз - на всех блоках, кроме 1-го, а качество оценивается на 1-м блоке\n",
    "* второй раз - на всех блоках, кроме 2-го, а качество оценивается на 2-м блоке и так далее\n",
    "Для оценки качества модели полученные значения метрик на тестовых блоках усредняются - это называется *k-fold кросс-валидацией*."
   ]
  },
  {
   "cell_type": "markdown",
   "metadata": {
    "id": "sulPZ0Pa-b8o"
   },
   "source": [
    "![image.png](data:image/png;base64,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)"
   ]
  },
  {
   "cell_type": "markdown",
   "metadata": {
    "id": "8zj5gcfa_WRP"
   },
   "source": [
    "Сначала обучите по кросс-валидации c **тремя** фолдами и метрикой **roc_auc** алгоритмы:\n",
    "*  LogisticRegression\n",
    "*  SVC(kernel='linear')\n",
    "\n",
    "Остальные параметры оставьте по умолчанию."
   ]
  },
  {
   "cell_type": "code",
   "execution_count": null,
   "metadata": {
    "colab": {
     "base_uri": "https://localhost:8080/"
    },
    "id": "qTidKGjbySO7",
    "outputId": "8282d7e0-fafb-49a0-df87-c834172b8cac"
   },
   "outputs": [
    {
     "name": "stdout",
     "output_type": "stream",
     "text": [
      "[CV] END .................................................... total time=   0.0s\n",
      "[CV] END .................................................... total time=   0.0s\n",
      "[CV] END .................................................... total time=   0.0s\n"
     ]
    },
    {
     "data": {
      "text/plain": [
       "0.8250515880497281"
      ]
     },
     "execution_count": 15,
     "metadata": {},
     "output_type": "execute_result"
    }
   ],
   "source": [
    "from sklearn.model_selection import cross_val_score\n",
    "from sklearn.metrics import roc_auc_score\n",
    "\n",
    "# пример для логистической регрессии. verbose отвечает за детализацию выводимой информации. verbose=2 значит, что будет выводится score\n",
    "\n",
    "model = LogisticRegression()\n",
    "cross_val_score(model, x, y, cv=3, scoring='roc_auc', verbose=2).mean()"
   ]
  },
  {
   "cell_type": "code",
   "execution_count": null,
   "metadata": {
    "colab": {
     "base_uri": "https://localhost:8080/"
    },
    "id": "IQ9ggGNmyowF",
    "outputId": "7ebe41bd-dbab-4868-d2f4-41ebbd20f188"
   },
   "outputs": [
    {
     "name": "stdout",
     "output_type": "stream",
     "text": [
      "[CV] END .................................................... total time=   3.7s\n",
      "[CV] END .................................................... total time=   6.9s\n",
      "[CV] END .................................................... total time=   6.1s\n"
     ]
    },
    {
     "data": {
      "text/plain": [
       "0.8075427740991511"
      ]
     },
     "execution_count": 16,
     "metadata": {},
     "output_type": "execute_result"
    }
   ],
   "source": [
    "# посмотрите на среднее качество SVM с линейным ядром\n",
    "\n",
    "# your code here\n",
    "\n",
    "cross_val_score(SVC(kernel='linear'), x, y, cv=3, scoring='roc_auc', verbose=2).mean()"
   ]
  },
  {
   "cell_type": "markdown",
   "metadata": {
    "id": "9UKxMEwULOQK"
   },
   "source": [
    "### Задание"
   ]
  },
  {
   "cell_type": "markdown",
   "metadata": {
    "id": "tAr8yuShLx9d"
   },
   "source": [
    "Чему равно качество наилучшей из этих моделей?  \n",
    "Ответ округлите до десятых."
   ]
  },
  {
   "cell_type": "markdown",
   "metadata": {
    "id": "7EMO4IzuyCha"
   },
   "source": [
    "Теперь посмотрим как влияет подбор гиперпараметров на качество предсказания моделей. Сейчас и далее будем рассматривать два алгоритма:\n",
    " - Logistic Regression\n",
    " - SVC (Support Vector Classifier)\n",
    "\n",
    "У обоих алгоритмов будем оптимизировать гиперпараметр С, а у SVC - ещё гиперпараметр kernel.\n",
    "\n",
    "*  Ищите C в диапазоне от 0.01 до 10.01 с шагом 0.25\n",
    "*  Перебирайте ядра из списка ['rbf','poly','sigmoid','linear']"
   ]
  },
  {
   "cell_type": "markdown",
   "metadata": {
    "id": "2NdTbJTW_p3V"
   },
   "source": [
    "### Подбор гиперпараметров по сетке (GridSearchCV) [обучающий текст]\n",
    "\n",
    "Раз уж мы начали использовать кросс-валидацию, то будем использовать ее по-максимуму. Для подбора гиперпараметров модели также можно применить этот подход вместо разбиения на train и test.\n",
    "\n",
    "Идея подбора гиперпараметров по сетке:\n",
    "\n",
    "* задаем список перебираемых значений гиперпараметров (можно подбирать одновременно несколько гиперпараметров)\n",
    "\n",
    "* для каждого набора значений гиперпараметров вычисляем качество модели по кросс-валидации\n",
    "\n",
    "* итоговый ответ - это набор значений гиперпараметров, для которого модель имеет наибольшее качество на кросс-валидации.\n",
    "\n",
    "Метод, реализующий эту схему, называется GridSearchCV."
   ]
  },
  {
   "cell_type": "markdown",
   "metadata": {
    "id": "ZC4vyS73CO-g"
   },
   "source": [
    "![image.png](data:image/png;base64,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)"
   ]
  },
  {
   "cell_type": "markdown",
   "metadata": {
    "id": "-PZUk0l-AqPq"
   },
   "source": [
    "Для подбора гиперпараметров воспользуйтесь перебором по сетке, который реализован в классе GridSearchCV. В качестве схемы кросс-валидации используйте 3-fold cv.\n",
    "\n",
    "Покажем пример использования GridSearchCV."
   ]
  },
  {
   "cell_type": "code",
   "execution_count": null,
   "metadata": {
    "colab": {
     "base_uri": "https://localhost:8080/"
    },
    "collapsed": true,
    "id": "1ClHRH2ftaRA",
    "jupyter": {
     "outputs_hidden": true
    },
    "outputId": "bb816fd6-eeda-4f11-d08c-81c08aef6f9f"
   },
   "outputs": [
    {
     "name": "stdout",
     "output_type": "stream",
     "text": [
      "0.825109999279449\n",
      "{'C': 0.26}\n"
     ]
    }
   ],
   "source": [
    "# подберите C у логистической регрессии\n",
    "\n",
    "from sklearn.model_selection import GridSearchCV\n",
    "\n",
    "params = {'C' : np.arange(0.01, 10.01, 0.25)} # задаем словарь параметров и список перебираемых значений - в данном случае ищем C из списка [1,2,3]\n",
    "\n",
    "gs = GridSearchCV(LogisticRegression(), params, cv=3, scoring='roc_auc')\n",
    "# первый параметр - модель, второй - словарь параметров, третий - число фолдов, четвертый - метрика\n",
    "\n",
    "gs.fit(x, y) # применяем метод к данным X, y (GridSearchCV сам разобъет данные на фолды)\n",
    "\n",
    "print(gs.best_score_) # качество наилучшей модели (с оптимальными гиперпараметрами)\n",
    "print(gs.best_params_) # оптимальные гиперпараметры"
   ]
  },
  {
   "cell_type": "code",
   "execution_count": null,
   "metadata": {
    "colab": {
     "base_uri": "https://localhost:8080/"
    },
    "id": "qdDqwUCxB2Q0",
    "outputId": "4c016650-bd91-4ea8-871c-dee5746c2af6"
   },
   "outputs": [
    {
     "name": "stdout",
     "output_type": "stream",
     "text": [
      "0.8075427740991511\n",
      "{'kernel': 'linear'}\n"
     ]
    }
   ],
   "source": [
    "# your code here\n",
    "# так как SVM работает долго, то:\n",
    "# сначала первым gridsearch подберите у метода только kernel\n",
    "\n",
    "params2 = {'kernel' : ['rbf', 'poly', 'sigmoid', 'linear']}\n",
    "\n",
    "gs2 = GridSearchCV(SVC(), params2, cv=3, scoring='roc_auc')\n",
    "\n",
    "gs2.fit(x, y)\n",
    "\n",
    "print(gs2.best_score_) # качество наилучшей модели (с оптимальными гиперпараметрами)\n",
    "print(gs2.best_params_) # оптимальные гиперпараметры"
   ]
  },
  {
   "cell_type": "code",
   "execution_count": null,
   "metadata": {
    "colab": {
     "base_uri": "https://localhost:8080/"
    },
    "collapsed": true,
    "id": "xMMtQOn0taRB",
    "jupyter": {
     "outputs_hidden": true
    },
    "outputId": "1cd533d0-9ac4-447b-df45-b92c26704127"
   },
   "outputs": [
    {
     "name": "stdout",
     "output_type": "stream",
     "text": [
      "0.8117119347552277\n",
      "{'C': 0.01}\n"
     ]
    }
   ],
   "source": [
    "# вторым gridsearch для найденного ядра подберите C в диапазане от 0.01 до 2.01 с шагом 0.25\n",
    "# your code here\n",
    "params3 = {'C' : np.arange(0.01, 2.01, 0.25)}\n",
    "\n",
    "gs3 = GridSearchCV(SVC(kernel='linear'), params3, cv=3, scoring='roc_auc')\n",
    "\n",
    "gs3.fit(x, y)\n",
    "\n",
    "print(gs3.best_score_) # качество наилучшей модели (с оптимальными гиперпараметрами)\n",
    "print(gs3.best_params_) # оптимальные гиперпараметры"
   ]
  },
  {
   "cell_type": "markdown",
   "metadata": {
    "id": "NNmvwB2DtaRD"
   },
   "source": [
    "### Задание"
   ]
  },
  {
   "cell_type": "markdown",
   "metadata": {
    "id": "x62Qlcg2Kjhx"
   },
   "source": [
    "Какой из алгоритмов имеет наилучшее качество?\n",
    "\n",
    "Сравните алгоритмы с точки зрения времени обучения. Обучение какого из алгоритмов работает дольше всего и, как вы думаете, почему?"
   ]
  },
  {
   "cell_type": "markdown",
   "metadata": {
    "id": "w99DPaUOtaRD"
   },
   "source": [
    "## Добавление категориальных признаков в модели"
   ]
  },
  {
   "cell_type": "markdown",
   "metadata": {
    "id": "-vgwDFrwKl4a"
   },
   "source": [
    "Пока мы не использовали нечисловые признаки, которые есть в датасете. Давайте посмотрим, правильно ли мы сделали и увеличится ли качество моделей после добавлениях этих признаков.\n",
    "\n",
    "*  Преобразуйте все категориальные признаки (исходной матрицы df) с помощью метода one-hot-encoding (например, это можно сделать с помощью функции [`pandas.get_dummies`](http://pandas.pydata.org/pandas-docs/stable/generated/pandas.get_dummies.html). Чтобы избежать переобучения, в `get_dummies` поставьте гиперпараметр **`drop_first=True`**.\n",
    "\n",
    "*  Заново масштабируйте данные"
   ]
  },
  {
   "cell_type": "code",
   "execution_count": null,
   "metadata": {
    "colab": {
     "base_uri": "https://localhost:8080/",
     "height": 273
    },
    "collapsed": true,
    "id": "9XsO_AC_taRD",
    "jupyter": {
     "outputs_hidden": true
    },
    "outputId": "9c98a3e4-2bcc-4f8d-be3a-236847e1a247"
   },
   "outputs": [
    {
     "data": {
      "text/html": [
       "\n",
       "  <div id=\"df-a9b5472d-fa77-4ec4-afc5-00876ca826be\" class=\"colab-df-container\">\n",
       "    <div>\n",
       "<style scoped>\n",
       "    .dataframe tbody tr th:only-of-type {\n",
       "        vertical-align: middle;\n",
       "    }\n",
       "\n",
       "    .dataframe tbody tr th {\n",
       "        vertical-align: top;\n",
       "    }\n",
       "\n",
       "    .dataframe thead th {\n",
       "        text-align: right;\n",
       "    }\n",
       "</style>\n",
       "<table border=\"1\" class=\"dataframe\">\n",
       "  <thead>\n",
       "    <tr style=\"text-align: right;\">\n",
       "      <th></th>\n",
       "      <th>onehotencoder__workclass_Local-gov</th>\n",
       "      <th>onehotencoder__workclass_Private</th>\n",
       "      <th>onehotencoder__workclass_Self-emp-inc</th>\n",
       "      <th>onehotencoder__workclass_Self-emp-not-inc</th>\n",
       "      <th>onehotencoder__workclass_State-gov</th>\n",
       "      <th>onehotencoder__workclass_Without-pay</th>\n",
       "      <th>onehotencoder__education_11th</th>\n",
       "      <th>onehotencoder__education_12th</th>\n",
       "      <th>onehotencoder__education_1st-4th</th>\n",
       "      <th>onehotencoder__education_5th-6th</th>\n",
       "      <th>...</th>\n",
       "      <th>onehotencoder__race_Black</th>\n",
       "      <th>onehotencoder__race_Other</th>\n",
       "      <th>onehotencoder__race_White</th>\n",
       "      <th>onehotencoder__sex_Male</th>\n",
       "      <th>remainder__age</th>\n",
       "      <th>remainder__fnlwgt</th>\n",
       "      <th>remainder__education-num</th>\n",
       "      <th>remainder__capital-gain</th>\n",
       "      <th>remainder__capital-loss</th>\n",
       "      <th>remainder__hours-per-week</th>\n",
       "    </tr>\n",
       "  </thead>\n",
       "  <tbody>\n",
       "    <tr>\n",
       "      <th>0</th>\n",
       "      <td>3.658322</td>\n",
       "      <td>-1.665953</td>\n",
       "      <td>-0.194785</td>\n",
       "      <td>-0.307272</td>\n",
       "      <td>-0.209455</td>\n",
       "      <td>-0.021362</td>\n",
       "      <td>-0.188017</td>\n",
       "      <td>-0.110762</td>\n",
       "      <td>-0.066712</td>\n",
       "      <td>-0.096639</td>\n",
       "      <td>...</td>\n",
       "      <td>3.101735</td>\n",
       "      <td>-0.08727</td>\n",
       "      <td>-2.443271</td>\n",
       "      <td>0.686401</td>\n",
       "      <td>-0.342919</td>\n",
       "      <td>0.900258</td>\n",
       "      <td>-0.450788</td>\n",
       "      <td>-0.065600</td>\n",
       "      <td>-0.21874</td>\n",
       "      <td>1.588223</td>\n",
       "    </tr>\n",
       "    <tr>\n",
       "      <th>1</th>\n",
       "      <td>-0.273349</td>\n",
       "      <td>0.600257</td>\n",
       "      <td>-0.194785</td>\n",
       "      <td>-0.307272</td>\n",
       "      <td>-0.209455</td>\n",
       "      <td>-0.021362</td>\n",
       "      <td>-0.188017</td>\n",
       "      <td>-0.110762</td>\n",
       "      <td>-0.066712</td>\n",
       "      <td>-0.096639</td>\n",
       "      <td>...</td>\n",
       "      <td>-0.322400</td>\n",
       "      <td>-0.08727</td>\n",
       "      <td>0.409287</td>\n",
       "      <td>0.686401</td>\n",
       "      <td>0.114760</td>\n",
       "      <td>0.010683</td>\n",
       "      <td>-0.059086</td>\n",
       "      <td>-0.150439</td>\n",
       "      <td>-0.21874</td>\n",
       "      <td>-0.074178</td>\n",
       "    </tr>\n",
       "    <tr>\n",
       "      <th>2</th>\n",
       "      <td>3.658322</td>\n",
       "      <td>-1.665953</td>\n",
       "      <td>-0.194785</td>\n",
       "      <td>-0.307272</td>\n",
       "      <td>-0.209455</td>\n",
       "      <td>-0.021362</td>\n",
       "      <td>-0.188017</td>\n",
       "      <td>-0.110762</td>\n",
       "      <td>-0.066712</td>\n",
       "      <td>-0.096639</td>\n",
       "      <td>...</td>\n",
       "      <td>-0.322400</td>\n",
       "      <td>-0.08727</td>\n",
       "      <td>0.409287</td>\n",
       "      <td>0.686401</td>\n",
       "      <td>-0.190359</td>\n",
       "      <td>-0.106280</td>\n",
       "      <td>1.116020</td>\n",
       "      <td>-0.150439</td>\n",
       "      <td>-0.21874</td>\n",
       "      <td>-0.074178</td>\n",
       "    </tr>\n",
       "    <tr>\n",
       "      <th>3</th>\n",
       "      <td>-0.273349</td>\n",
       "      <td>0.600257</td>\n",
       "      <td>-0.194785</td>\n",
       "      <td>-0.307272</td>\n",
       "      <td>-0.209455</td>\n",
       "      <td>-0.021362</td>\n",
       "      <td>-0.188017</td>\n",
       "      <td>-0.110762</td>\n",
       "      <td>-0.066712</td>\n",
       "      <td>-0.096639</td>\n",
       "      <td>...</td>\n",
       "      <td>-0.322400</td>\n",
       "      <td>-0.08727</td>\n",
       "      <td>0.409287</td>\n",
       "      <td>-1.456874</td>\n",
       "      <td>-1.258276</td>\n",
       "      <td>-0.041382</td>\n",
       "      <td>-0.059086</td>\n",
       "      <td>-0.150439</td>\n",
       "      <td>-0.21874</td>\n",
       "      <td>-0.905379</td>\n",
       "    </tr>\n",
       "    <tr>\n",
       "      <th>4</th>\n",
       "      <td>-0.273349</td>\n",
       "      <td>0.600257</td>\n",
       "      <td>-0.194785</td>\n",
       "      <td>-0.307272</td>\n",
       "      <td>-0.209455</td>\n",
       "      <td>-0.021362</td>\n",
       "      <td>-0.188017</td>\n",
       "      <td>-0.110762</td>\n",
       "      <td>-0.066712</td>\n",
       "      <td>-0.096639</td>\n",
       "      <td>...</td>\n",
       "      <td>-0.322400</td>\n",
       "      <td>-0.08727</td>\n",
       "      <td>0.409287</td>\n",
       "      <td>0.686401</td>\n",
       "      <td>0.648719</td>\n",
       "      <td>-0.371197</td>\n",
       "      <td>1.116020</td>\n",
       "      <td>1.995391</td>\n",
       "      <td>-0.21874</td>\n",
       "      <td>-0.074178</td>\n",
       "    </tr>\n",
       "  </tbody>\n",
       "</table>\n",
       "<p>5 rows × 56 columns</p>\n",
       "</div>\n",
       "    <div class=\"colab-df-buttons\">\n",
       "\n",
       "  <div class=\"colab-df-container\">\n",
       "    <button class=\"colab-df-convert\" onclick=\"convertToInteractive('df-a9b5472d-fa77-4ec4-afc5-00876ca826be')\"\n",
       "            title=\"Convert this dataframe to an interactive table.\"\n",
       "            style=\"display:none;\">\n",
       "\n",
       "  <svg xmlns=\"http://www.w3.org/2000/svg\" height=\"24px\" viewBox=\"0 -960 960 960\">\n",
       "    <path d=\"M120-120v-720h720v720H120Zm60-500h600v-160H180v160Zm220 220h160v-160H400v160Zm0 220h160v-160H400v160ZM180-400h160v-160H180v160Zm440 0h160v-160H620v160ZM180-180h160v-160H180v160Zm440 0h160v-160H620v160Z\"/>\n",
       "  </svg>\n",
       "    </button>\n",
       "\n",
       "  <style>\n",
       "    .colab-df-container {\n",
       "      display:flex;\n",
       "      gap: 12px;\n",
       "    }\n",
       "\n",
       "    .colab-df-convert {\n",
       "      background-color: #E8F0FE;\n",
       "      border: none;\n",
       "      border-radius: 50%;\n",
       "      cursor: pointer;\n",
       "      display: none;\n",
       "      fill: #1967D2;\n",
       "      height: 32px;\n",
       "      padding: 0 0 0 0;\n",
       "      width: 32px;\n",
       "    }\n",
       "\n",
       "    .colab-df-convert:hover {\n",
       "      background-color: #E2EBFA;\n",
       "      box-shadow: 0px 1px 2px rgba(60, 64, 67, 0.3), 0px 1px 3px 1px rgba(60, 64, 67, 0.15);\n",
       "      fill: #174EA6;\n",
       "    }\n",
       "\n",
       "    .colab-df-buttons div {\n",
       "      margin-bottom: 4px;\n",
       "    }\n",
       "\n",
       "    [theme=dark] .colab-df-convert {\n",
       "      background-color: #3B4455;\n",
       "      fill: #D2E3FC;\n",
       "    }\n",
       "\n",
       "    [theme=dark] .colab-df-convert:hover {\n",
       "      background-color: #434B5C;\n",
       "      box-shadow: 0px 1px 3px 1px rgba(0, 0, 0, 0.15);\n",
       "      filter: drop-shadow(0px 1px 2px rgba(0, 0, 0, 0.3));\n",
       "      fill: #FFFFFF;\n",
       "    }\n",
       "  </style>\n",
       "\n",
       "    <script>\n",
       "      const buttonEl =\n",
       "        document.querySelector('#df-a9b5472d-fa77-4ec4-afc5-00876ca826be button.colab-df-convert');\n",
       "      buttonEl.style.display =\n",
       "        google.colab.kernel.accessAllowed ? 'block' : 'none';\n",
       "\n",
       "      async function convertToInteractive(key) {\n",
       "        const element = document.querySelector('#df-a9b5472d-fa77-4ec4-afc5-00876ca826be');\n",
       "        const dataTable =\n",
       "          await google.colab.kernel.invokeFunction('convertToInteractive',\n",
       "                                                    [key], {});\n",
       "        if (!dataTable) return;\n",
       "\n",
       "        const docLinkHtml = 'Like what you see? Visit the ' +\n",
       "          '<a target=\"_blank\" href=https://colab.research.google.com/notebooks/data_table.ipynb>data table notebook</a>'\n",
       "          + ' to learn more about interactive tables.';\n",
       "        element.innerHTML = '';\n",
       "        dataTable['output_type'] = 'display_data';\n",
       "        await google.colab.output.renderOutput(dataTable, element);\n",
       "        const docLink = document.createElement('div');\n",
       "        docLink.innerHTML = docLinkHtml;\n",
       "        element.appendChild(docLink);\n",
       "      }\n",
       "    </script>\n",
       "  </div>\n",
       "\n",
       "\n",
       "<div id=\"df-aa0dc5d1-f0bc-459a-8360-540718307b44\">\n",
       "  <button class=\"colab-df-quickchart\" onclick=\"quickchart('df-aa0dc5d1-f0bc-459a-8360-540718307b44')\"\n",
       "            title=\"Suggest charts\"\n",
       "            style=\"display:none;\">\n",
       "\n",
       "<svg xmlns=\"http://www.w3.org/2000/svg\" height=\"24px\"viewBox=\"0 0 24 24\"\n",
       "     width=\"24px\">\n",
       "    <g>\n",
       "        <path d=\"M19 3H5c-1.1 0-2 .9-2 2v14c0 1.1.9 2 2 2h14c1.1 0 2-.9 2-2V5c0-1.1-.9-2-2-2zM9 17H7v-7h2v7zm4 0h-2V7h2v10zm4 0h-2v-4h2v4z\"/>\n",
       "    </g>\n",
       "</svg>\n",
       "  </button>\n",
       "\n",
       "<style>\n",
       "  .colab-df-quickchart {\n",
       "      --bg-color: #E8F0FE;\n",
       "      --fill-color: #1967D2;\n",
       "      --hover-bg-color: #E2EBFA;\n",
       "      --hover-fill-color: #174EA6;\n",
       "      --disabled-fill-color: #AAA;\n",
       "      --disabled-bg-color: #DDD;\n",
       "  }\n",
       "\n",
       "  [theme=dark] .colab-df-quickchart {\n",
       "      --bg-color: #3B4455;\n",
       "      --fill-color: #D2E3FC;\n",
       "      --hover-bg-color: #434B5C;\n",
       "      --hover-fill-color: #FFFFFF;\n",
       "      --disabled-bg-color: #3B4455;\n",
       "      --disabled-fill-color: #666;\n",
       "  }\n",
       "\n",
       "  .colab-df-quickchart {\n",
       "    background-color: var(--bg-color);\n",
       "    border: none;\n",
       "    border-radius: 50%;\n",
       "    cursor: pointer;\n",
       "    display: none;\n",
       "    fill: var(--fill-color);\n",
       "    height: 32px;\n",
       "    padding: 0;\n",
       "    width: 32px;\n",
       "  }\n",
       "\n",
       "  .colab-df-quickchart:hover {\n",
       "    background-color: var(--hover-bg-color);\n",
       "    box-shadow: 0 1px 2px rgba(60, 64, 67, 0.3), 0 1px 3px 1px rgba(60, 64, 67, 0.15);\n",
       "    fill: var(--button-hover-fill-color);\n",
       "  }\n",
       "\n",
       "  .colab-df-quickchart-complete:disabled,\n",
       "  .colab-df-quickchart-complete:disabled:hover {\n",
       "    background-color: var(--disabled-bg-color);\n",
       "    fill: var(--disabled-fill-color);\n",
       "    box-shadow: none;\n",
       "  }\n",
       "\n",
       "  .colab-df-spinner {\n",
       "    border: 2px solid var(--fill-color);\n",
       "    border-color: transparent;\n",
       "    border-bottom-color: var(--fill-color);\n",
       "    animation:\n",
       "      spin 1s steps(1) infinite;\n",
       "  }\n",
       "\n",
       "  @keyframes spin {\n",
       "    0% {\n",
       "      border-color: transparent;\n",
       "      border-bottom-color: var(--fill-color);\n",
       "      border-left-color: var(--fill-color);\n",
       "    }\n",
       "    20% {\n",
       "      border-color: transparent;\n",
       "      border-left-color: var(--fill-color);\n",
       "      border-top-color: var(--fill-color);\n",
       "    }\n",
       "    30% {\n",
       "      border-color: transparent;\n",
       "      border-left-color: var(--fill-color);\n",
       "      border-top-color: var(--fill-color);\n",
       "      border-right-color: var(--fill-color);\n",
       "    }\n",
       "    40% {\n",
       "      border-color: transparent;\n",
       "      border-right-color: var(--fill-color);\n",
       "      border-top-color: var(--fill-color);\n",
       "    }\n",
       "    60% {\n",
       "      border-color: transparent;\n",
       "      border-right-color: var(--fill-color);\n",
       "    }\n",
       "    80% {\n",
       "      border-color: transparent;\n",
       "      border-right-color: var(--fill-color);\n",
       "      border-bottom-color: var(--fill-color);\n",
       "    }\n",
       "    90% {\n",
       "      border-color: transparent;\n",
       "      border-bottom-color: var(--fill-color);\n",
       "    }\n",
       "  }\n",
       "</style>\n",
       "\n",
       "  <script>\n",
       "    async function quickchart(key) {\n",
       "      const quickchartButtonEl =\n",
       "        document.querySelector('#' + key + ' button');\n",
       "      quickchartButtonEl.disabled = true;  // To prevent multiple clicks.\n",
       "      quickchartButtonEl.classList.add('colab-df-spinner');\n",
       "      try {\n",
       "        const charts = await google.colab.kernel.invokeFunction(\n",
       "            'suggestCharts', [key], {});\n",
       "      } catch (error) {\n",
       "        console.error('Error during call to suggestCharts:', error);\n",
       "      }\n",
       "      quickchartButtonEl.classList.remove('colab-df-spinner');\n",
       "      quickchartButtonEl.classList.add('colab-df-quickchart-complete');\n",
       "    }\n",
       "    (() => {\n",
       "      let quickchartButtonEl =\n",
       "        document.querySelector('#df-aa0dc5d1-f0bc-459a-8360-540718307b44 button');\n",
       "      quickchartButtonEl.style.display =\n",
       "        google.colab.kernel.accessAllowed ? 'block' : 'none';\n",
       "    })();\n",
       "  </script>\n",
       "</div>\n",
       "    </div>\n",
       "  </div>\n"
      ],
      "text/plain": [
       "   onehotencoder__workclass_Local-gov  onehotencoder__workclass_Private  \\\n",
       "0                            3.658322                         -1.665953   \n",
       "1                           -0.273349                          0.600257   \n",
       "2                            3.658322                         -1.665953   \n",
       "3                           -0.273349                          0.600257   \n",
       "4                           -0.273349                          0.600257   \n",
       "\n",
       "   onehotencoder__workclass_Self-emp-inc  \\\n",
       "0                              -0.194785   \n",
       "1                              -0.194785   \n",
       "2                              -0.194785   \n",
       "3                              -0.194785   \n",
       "4                              -0.194785   \n",
       "\n",
       "   onehotencoder__workclass_Self-emp-not-inc  \\\n",
       "0                                  -0.307272   \n",
       "1                                  -0.307272   \n",
       "2                                  -0.307272   \n",
       "3                                  -0.307272   \n",
       "4                                  -0.307272   \n",
       "\n",
       "   onehotencoder__workclass_State-gov  onehotencoder__workclass_Without-pay  \\\n",
       "0                           -0.209455                             -0.021362   \n",
       "1                           -0.209455                             -0.021362   \n",
       "2                           -0.209455                             -0.021362   \n",
       "3                           -0.209455                             -0.021362   \n",
       "4                           -0.209455                             -0.021362   \n",
       "\n",
       "   onehotencoder__education_11th  onehotencoder__education_12th  \\\n",
       "0                      -0.188017                      -0.110762   \n",
       "1                      -0.188017                      -0.110762   \n",
       "2                      -0.188017                      -0.110762   \n",
       "3                      -0.188017                      -0.110762   \n",
       "4                      -0.188017                      -0.110762   \n",
       "\n",
       "   onehotencoder__education_1st-4th  onehotencoder__education_5th-6th  ...  \\\n",
       "0                         -0.066712                         -0.096639  ...   \n",
       "1                         -0.066712                         -0.096639  ...   \n",
       "2                         -0.066712                         -0.096639  ...   \n",
       "3                         -0.066712                         -0.096639  ...   \n",
       "4                         -0.066712                         -0.096639  ...   \n",
       "\n",
       "   onehotencoder__race_Black  onehotencoder__race_Other  \\\n",
       "0                   3.101735                   -0.08727   \n",
       "1                  -0.322400                   -0.08727   \n",
       "2                  -0.322400                   -0.08727   \n",
       "3                  -0.322400                   -0.08727   \n",
       "4                  -0.322400                   -0.08727   \n",
       "\n",
       "   onehotencoder__race_White  onehotencoder__sex_Male  remainder__age  \\\n",
       "0                  -2.443271                 0.686401       -0.342919   \n",
       "1                   0.409287                 0.686401        0.114760   \n",
       "2                   0.409287                 0.686401       -0.190359   \n",
       "3                   0.409287                -1.456874       -1.258276   \n",
       "4                   0.409287                 0.686401        0.648719   \n",
       "\n",
       "   remainder__fnlwgt  remainder__education-num  remainder__capital-gain  \\\n",
       "0           0.900258                 -0.450788                -0.065600   \n",
       "1           0.010683                 -0.059086                -0.150439   \n",
       "2          -0.106280                  1.116020                -0.150439   \n",
       "3          -0.041382                 -0.059086                -0.150439   \n",
       "4          -0.371197                  1.116020                 1.995391   \n",
       "\n",
       "   remainder__capital-loss  remainder__hours-per-week  \n",
       "0                 -0.21874                   1.588223  \n",
       "1                 -0.21874                  -0.074178  \n",
       "2                 -0.21874                  -0.074178  \n",
       "3                 -0.21874                  -0.905379  \n",
       "4                 -0.21874                  -0.074178  \n",
       "\n",
       "[5 rows x 56 columns]"
      ]
     },
     "execution_count": 20,
     "metadata": {},
     "output_type": "execute_result"
    }
   ],
   "source": [
    "X_old = df.drop('>50K,<=50K', axis=1)\n",
    "\n",
    "from sklearn.preprocessing import OneHotEncoder\n",
    "from sklearn.compose import make_column_transformer\n",
    "from sklearn.preprocessing import StandardScaler\n",
    "\n",
    "categorical = ['workclass', 'education', 'marital-status', 'occupation', 'relationship', 'race', 'sex']\n",
    "\n",
    "transformer=make_column_transformer((OneHotEncoder(drop='first'), categorical), remainder=\"passthrough\")\n",
    "transformed=transformer.fit_transform(X_old).toarray()\n",
    "transformed_df=pd.DataFrame(transformed, columns=transformer.get_feature_names_out())\n",
    "\n",
    "scaler = StandardScaler()\n",
    "\n",
    "X_new = pd.DataFrame(scaler.fit_transform(transformed_df), columns=transformed_df.columns, index=transformed_df.index)\n",
    "X_new.head()"
   ]
  },
  {
   "cell_type": "markdown",
   "metadata": {
    "id": "svY78nPytaRD"
   },
   "source": [
    "Так как после кодирования признаков получилось достаточно много, в этой работе мы не будем добавлять их и подбирать заново оптимальные гиперпараметры.\n",
    "\n",
    "Обучите алгоритмы с наилучшими гиперпараметрами из предыдущего пункта. Дало ли добавление новых признаков прирост качества? Измеряйте качество как и раньше используя 3-Fold CV в функции `cross_val_score`."
   ]
  },
  {
   "cell_type": "code",
   "execution_count": null,
   "metadata": {
    "colab": {
     "base_uri": "https://localhost:8080/"
    },
    "collapsed": true,
    "id": "8l2SvJXotaRE",
    "jupyter": {
     "outputs_hidden": true
    },
    "outputId": "197067c2-5ccb-4c90-956d-dae8a24851bf"
   },
   "outputs": [
    {
     "name": "stdout",
     "output_type": "stream",
     "text": [
      "[CV] END .................................................... total time=   0.1s\n",
      "[CV] END .................................................... total time=   0.1s\n",
      "[CV] END .................................................... total time=   0.1s\n"
     ]
    },
    {
     "data": {
      "text/plain": [
       "0.9027489658933026"
      ]
     },
     "execution_count": 21,
     "metadata": {},
     "output_type": "execute_result"
    }
   ],
   "source": [
    "#your code here\n",
    "\n",
    "model2 = LogisticRegression(C=0.26)\n",
    "cross_val_score(model2, X_new, y, cv=3, scoring='roc_auc', verbose=2).mean()"
   ]
  },
  {
   "cell_type": "code",
   "execution_count": null,
   "metadata": {
    "colab": {
     "base_uri": "https://localhost:8080/"
    },
    "id": "Swt0CjWpHX9i",
    "outputId": "18fb2e3c-d19b-4fb1-bd3c-b535dc270b53"
   },
   "outputs": [
    {
     "name": "stdout",
     "output_type": "stream",
     "text": [
      "[CV] END .................................................... total time=   2.4s\n",
      "[CV] END .................................................... total time=   2.4s\n",
      "[CV] END .................................................... total time=   2.8s\n"
     ]
    },
    {
     "data": {
      "text/plain": [
       "0.8981783460544577"
      ]
     },
     "execution_count": 22,
     "metadata": {},
     "output_type": "execute_result"
    }
   ],
   "source": [
    "#your code here\n",
    "\n",
    "model3 = SVC(kernel='linear', C=0.01)\n",
    "cross_val_score(model3, X_new, y, cv=3, scoring='roc_auc', verbose=2).mean()"
   ]
  },
  {
   "cell_type": "markdown",
   "metadata": {
    "id": "ZpGHTswwtaRE"
   },
   "source": [
    "Отличается ли теперь наилучший классификатор от наилучшего в предыдущем пункте?"
   ]
  },
  {
   "cell_type": "markdown",
   "metadata": {
    "id": "6NKTAZHoCwKW"
   },
   "source": [
    "### Задание"
   ]
  },
  {
   "cell_type": "markdown",
   "metadata": {
    "id": "i17m0fSgKrQD"
   },
   "source": [
    "*  Разбейте данные на тренировочную и тестовую часть (либо данные только с числовыми признаками, либо данные после OneHot-кодировки - в зависимости от того, на каких данных модели лучше отработали).\n",
    "\n",
    "**Вопрос:**  \n",
    "стали ли модели лучше решать задачу при добавлении закодированных категориальных признаков?\n",
    "\n",
    "*test_size = 0.25, random_state = 42*\n",
    "\n",
    "* Cреди всех обученных в работе моделей возьмите наилучшую (по roc-auc).\n",
    "Заново обучите эту модель на тренировочных данных, сделайте предсказание на тесте.\n",
    "\n",
    "* Постройте roc-кривую и отметьте на ней значение roc-auc - по тестовым данным."
   ]
  },
  {
   "cell_type": "code",
   "execution_count": null,
   "metadata": {
    "collapsed": true,
    "id": "Dda7kAMZtaRF",
    "jupyter": {
     "outputs_hidden": true
    }
   },
   "outputs": [],
   "source": [
    "from sklearn.model_selection import train_test_split\n",
    "\n",
    "#your code here\n",
    "X_train, X_test, y_train, y_test = train_test_split(X_new, y, test_size=0.25, random_state=42)"
   ]
  },
  {
   "cell_type": "code",
   "execution_count": null,
   "metadata": {
    "colab": {
     "base_uri": "https://localhost:8080/",
     "height": 74
    },
    "id": "ZuLVQcHGpIYh",
    "outputId": "31566461-482f-4d32-a01d-4dcfc10303fc"
   },
   "outputs": [
    {
     "data": {
      "text/html": [
       "<style>#sk-container-id-1 {color: black;background-color: white;}#sk-container-id-1 pre{padding: 0;}#sk-container-id-1 div.sk-toggleable {background-color: white;}#sk-container-id-1 label.sk-toggleable__label {cursor: pointer;display: block;width: 100%;margin-bottom: 0;padding: 0.3em;box-sizing: border-box;text-align: center;}#sk-container-id-1 label.sk-toggleable__label-arrow:before {content: \"▸\";float: left;margin-right: 0.25em;color: #696969;}#sk-container-id-1 label.sk-toggleable__label-arrow:hover:before {color: black;}#sk-container-id-1 div.sk-estimator:hover label.sk-toggleable__label-arrow:before {color: black;}#sk-container-id-1 div.sk-toggleable__content {max-height: 0;max-width: 0;overflow: hidden;text-align: left;background-color: #f0f8ff;}#sk-container-id-1 div.sk-toggleable__content pre {margin: 0.2em;color: black;border-radius: 0.25em;background-color: #f0f8ff;}#sk-container-id-1 input.sk-toggleable__control:checked~div.sk-toggleable__content {max-height: 200px;max-width: 100%;overflow: auto;}#sk-container-id-1 input.sk-toggleable__control:checked~label.sk-toggleable__label-arrow:before {content: \"▾\";}#sk-container-id-1 div.sk-estimator input.sk-toggleable__control:checked~label.sk-toggleable__label {background-color: #d4ebff;}#sk-container-id-1 div.sk-label input.sk-toggleable__control:checked~label.sk-toggleable__label {background-color: #d4ebff;}#sk-container-id-1 input.sk-hidden--visually {border: 0;clip: rect(1px 1px 1px 1px);clip: rect(1px, 1px, 1px, 1px);height: 1px;margin: -1px;overflow: hidden;padding: 0;position: absolute;width: 1px;}#sk-container-id-1 div.sk-estimator {font-family: monospace;background-color: #f0f8ff;border: 1px dotted black;border-radius: 0.25em;box-sizing: border-box;margin-bottom: 0.5em;}#sk-container-id-1 div.sk-estimator:hover {background-color: #d4ebff;}#sk-container-id-1 div.sk-parallel-item::after {content: \"\";width: 100%;border-bottom: 1px solid gray;flex-grow: 1;}#sk-container-id-1 div.sk-label:hover label.sk-toggleable__label {background-color: #d4ebff;}#sk-container-id-1 div.sk-serial::before {content: \"\";position: absolute;border-left: 1px solid gray;box-sizing: border-box;top: 0;bottom: 0;left: 50%;z-index: 0;}#sk-container-id-1 div.sk-serial {display: flex;flex-direction: column;align-items: center;background-color: white;padding-right: 0.2em;padding-left: 0.2em;position: relative;}#sk-container-id-1 div.sk-item {position: relative;z-index: 1;}#sk-container-id-1 div.sk-parallel {display: flex;align-items: stretch;justify-content: center;background-color: white;position: relative;}#sk-container-id-1 div.sk-item::before, #sk-container-id-1 div.sk-parallel-item::before {content: \"\";position: absolute;border-left: 1px solid gray;box-sizing: border-box;top: 0;bottom: 0;left: 50%;z-index: -1;}#sk-container-id-1 div.sk-parallel-item {display: flex;flex-direction: column;z-index: 1;position: relative;background-color: white;}#sk-container-id-1 div.sk-parallel-item:first-child::after {align-self: flex-end;width: 50%;}#sk-container-id-1 div.sk-parallel-item:last-child::after {align-self: flex-start;width: 50%;}#sk-container-id-1 div.sk-parallel-item:only-child::after {width: 0;}#sk-container-id-1 div.sk-dashed-wrapped {border: 1px dashed gray;margin: 0 0.4em 0.5em 0.4em;box-sizing: border-box;padding-bottom: 0.4em;background-color: white;}#sk-container-id-1 div.sk-label label {font-family: monospace;font-weight: bold;display: inline-block;line-height: 1.2em;}#sk-container-id-1 div.sk-label-container {text-align: center;}#sk-container-id-1 div.sk-container {/* jupyter's `normalize.less` sets `[hidden] { display: none; }` but bootstrap.min.css set `[hidden] { display: none !important; }` so we also need the `!important` here to be able to override the default hidden behavior on the sphinx rendered scikit-learn.org. See: https://github.com/scikit-learn/scikit-learn/issues/21755 */display: inline-block !important;position: relative;}#sk-container-id-1 div.sk-text-repr-fallback {display: none;}</style><div id=\"sk-container-id-1\" class=\"sk-top-container\"><div class=\"sk-text-repr-fallback\"><pre>LogisticRegression(C=0.26)</pre><b>In a Jupyter environment, please rerun this cell to show the HTML representation or trust the notebook. <br />On GitHub, the HTML representation is unable to render, please try loading this page with nbviewer.org.</b></div><div class=\"sk-container\" hidden><div class=\"sk-item\"><div class=\"sk-estimator sk-toggleable\"><input class=\"sk-toggleable__control sk-hidden--visually\" id=\"sk-estimator-id-1\" type=\"checkbox\" checked><label for=\"sk-estimator-id-1\" class=\"sk-toggleable__label sk-toggleable__label-arrow\">LogisticRegression</label><div class=\"sk-toggleable__content\"><pre>LogisticRegression(C=0.26)</pre></div></div></div></div></div>"
      ],
      "text/plain": [
       "LogisticRegression(C=0.26)"
      ]
     },
     "execution_count": 24,
     "metadata": {},
     "output_type": "execute_result"
    }
   ],
   "source": [
    "model_total = LogisticRegression(C=0.26)\n",
    "model_total.fit(X_train, y_train)"
   ]
  },
  {
   "cell_type": "code",
   "execution_count": null,
   "metadata": {
    "colab": {
     "base_uri": "https://localhost:8080/"
    },
    "id": "urE5iHKdpLQm",
    "outputId": "ce86c01c-215e-4a81-94b3-70409167a73e"
   },
   "outputs": [
    {
     "name": "stdout",
     "output_type": "stream",
     "text": [
      "0.9046191595294051\n"
     ]
    }
   ],
   "source": [
    "pred = model_total.predict_proba(X_test)[:,1]\n",
    "\n",
    "roc_auc_total = roc_auc_score(y_test, pred)\n",
    "print(roc_auc_total)"
   ]
  },
  {
   "cell_type": "code",
   "execution_count": null,
   "metadata": {
    "colab": {
     "base_uri": "https://localhost:8080/",
     "height": 472
    },
    "id": "LlDJSKAVDxY_",
    "outputId": "04d0d728-94b0-4ef8-a4e5-2a9ad3991383"
   },
   "outputs": [
    {
     "data": {
      "image/png": "[encoded data removed]",
      "text/plain": [
       "<Figure size 640x480 with 1 Axes>"
      ]
     },
     "metadata": {},
     "output_type": "display_data"
    }
   ],
   "source": [
    "from sklearn.metrics import roc_curve, auc\n",
    "\n",
    "#your code here\n",
    "\n",
    "fpr, tpr, threshold = roc_curve(y_test, pred)\n",
    "roc_auc = auc(fpr, tpr)\n",
    "\n",
    "plt.title('Receiver Operating Characteristic')\n",
    "plt.plot(fpr, tpr, 'b', label = 'AUC = %0.2f' % roc_auc)\n",
    "plt.legend(loc = 'lower right')\n",
    "plt.plot([0, 1], [0, 1],'r--')\n",
    "plt.xlim([0, 1])\n",
    "plt.ylim([0, 1])\n",
    "plt.ylabel('True Positive Rate')\n",
    "plt.xlabel('False Positive Rate')\n",
    "plt.show();"
   ]
  },
  {
   "cell_type": "markdown",
   "metadata": {
    "id": "DNk8pYi1HqKk"
   },
   "source": [
    "### Задание"
   ]
  },
  {
   "cell_type": "markdown",
   "metadata": {
    "id": "iNwCd0ObKuyt"
   },
   "source": [
    "Чему равен `roc-auc` наилучшей модели на тестовых данных?"
   ]
  }
 ],
 "metadata": {
  "colab": {
   "provenance": []
  },
  "kernelspec": {
   "display_name": "Python 3 (ipykernel)",
   "language": "python",
   "name": "python3"
  },
  "language_info": {
   "codemirror_mode": {
    "name": "ipython",
    "version": 3
   },
   "file_extension": ".py",
   "mimetype": "text/x-python",
   "name": "python",
   "nbconvert_exporter": "python",
   "pygments_lexer": "ipython3",
   "version": "3.10.9"
  }
 },
 "nbformat": 4,
 "nbformat_minor": 4
}
