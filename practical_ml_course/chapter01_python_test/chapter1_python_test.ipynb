{
 "cells": [
  {
   "cell_type": "code",
   "execution_count": null,
   "id": "bee863ea-8be1-4340-b516-d249c2363d62",
   "metadata": {},
   "outputs": [],
   "source": [
    "#Task1\n",
    "\n",
    "# put your python code here\n",
    "s = input().split()\n",
    "result = int(s[0])\n",
    "for i in s:\n",
    "    x = int(i)\n",
    "    if x > result:\n",
    "        result = x\n",
    "print(result)"
   ]
  },
  {
   "cell_type": "code",
   "execution_count": null,
   "id": "af734c0c-14d5-4c23-8596-5d7a25c53035",
   "metadata": {},
   "outputs": [],
   "source": [
    "#Task2\n",
    "\n",
    "def solution(year: int) -> bool:\n",
    "    if year % 400 == 0:\n",
    "        return True\n",
    "    elif year % 100 == 0:\n",
    "        return False\n",
    "    elif year % 4 == 0:\n",
    "        return True\n",
    "    else:\n",
    "        return False\n",
    "\n",
    "print(solution(int(input())))"
   ]
  },
  {
   "cell_type": "code",
   "execution_count": null,
   "id": "186e7fe1-e3cb-463b-9ddc-1b7e1e8504ae",
   "metadata": {},
   "outputs": [],
   "source": [
    "#Task3\n",
    "\n",
    "def solution(n: int) -> int:\n",
    "    s1 = 0\n",
    "    s2 = 1\n",
    "    for i in range(n):\n",
    "        s = s1 + s2\n",
    "        s1 = s2\n",
    "        s2 = s\n",
    "    return s1\n",
    "\n",
    "print(solution(int(input())))"
   ]
  },
  {
   "cell_type": "code",
   "execution_count": 1,
   "id": "32c398a5-8c60-4722-ae0d-323a1e6094b9",
   "metadata": {},
   "outputs": [
    {
     "name": "stdin",
     "output_type": "stream",
     "text": [
      " 3\n",
      " python.exe X\n",
      " book.txt R W\n",
      " notebook.exe R W X\n",
      " 5\n",
      " read python.exe\n",
      " read book.txt\n",
      " write notebook.exe\n",
      " execute notebook.exe\n",
      " write book.txt\n"
     ]
    },
    {
     "name": "stdout",
     "output_type": "stream",
     "text": [
      "Access denied\n",
      "OK\n",
      "OK\n",
      "OK\n",
      "OK\n"
     ]
    }
   ],
   "source": [
    "#Task4\n",
    "\n",
    "def solution(permissions: list, actions:list) -> None:\n",
    "    perm_dict = {}\n",
    "    for a in permissions:\n",
    "        s = a.split()\n",
    "        perm_dict[s[0]] = set(s[1:])\n",
    "    for a in actions:\n",
    "        s = a.split()\n",
    "        if s[0] == 'read' and ('R' in perm_dict[s[1]]):\n",
    "            print('OK')\n",
    "        elif s[0] == 'execute' and ('X' in perm_dict[s[1]]):\n",
    "            print('OK')\n",
    "        elif s[0] == 'write' and ('W' in perm_dict[s[1]]):\n",
    "            print('OK')\n",
    "        else:\n",
    "            print('Access denied')\n",
    "\n",
    "permissions = []\n",
    "actions = []\n",
    "\n",
    "n = int(input())\n",
    "for _ in range(n):\n",
    "    permissions.append(input())\n",
    "\n",
    "m = int(input())\n",
    "for _ in range(m):\n",
    "    actions.append(input())\n",
    "\n",
    "solution(permissions, actions)"
   ]
  },
  {
   "cell_type": "code",
   "execution_count": 6,
   "id": "9a2ed405-4933-4f2b-9a73-aed65f49a896",
   "metadata": {},
   "outputs": [
    {
     "name": "stdin",
     "output_type": "stream",
     "text": [
      " то   пот\n"
     ]
    },
    {
     "name": "stdout",
     "output_type": "stream",
     "text": [
      "True\n"
     ]
    }
   ],
   "source": [
    "# Task 5\n",
    "\n",
    "import string\n",
    "\n",
    "def solution(a_string: str) -> bool:\n",
    "    translating = str.maketrans('', '', string.punctuation)\n",
    "    result = a_string.lower().replace(\" \", \"\").translate(translating)\n",
    "    if result == result[::-1]:\n",
    "        return True\n",
    "    else:\n",
    "        return False\n",
    "\n",
    "print(solution(input()))"
   ]
  },
  {
   "cell_type": "code",
   "execution_count": null,
   "id": "911ce7fd-3b36-4a07-95d4-85db54adcdd5",
   "metadata": {},
   "outputs": [],
   "source": []
  }
 ],
 "metadata": {
  "kernelspec": {
   "display_name": "Python 3 (ipykernel)",
   "language": "python",
   "name": "python3"
  },
  "language_info": {
   "codemirror_mode": {
    "name": "ipython",
    "version": 3
   },
   "file_extension": ".py",
   "mimetype": "text/x-python",
   "name": "python",
   "nbconvert_exporter": "python",
   "pygments_lexer": "ipython3",
   "version": "3.10.9"
  }
 },
 "nbformat": 4,
 "nbformat_minor": 5
}
