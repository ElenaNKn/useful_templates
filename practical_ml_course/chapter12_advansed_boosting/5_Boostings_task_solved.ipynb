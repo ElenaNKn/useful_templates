{
 "cells": [
  {
   "cell_type": "markdown",
   "metadata": {
    "id": "8bieQL5lwfBD"
   },
   "source": [
    "# Прогнозируем задержки самолетов"
   ]
  },
  {
   "cell_type": "code",
   "execution_count": null,
   "metadata": {
    "colab": {
     "base_uri": "https://localhost:8080/"
    },
    "id": "DARqocv0wz0z",
    "outputId": "6a67a371-88dc-4e02-8724-55b02e0e65f7"
   },
   "outputs": [
    {
     "metadata": {
      "tags": null
     },
     "name": "stdout",
     "output_type": "stream",
     "text": [
      "\u001b[2K     \u001b[90m━━━━━━━━━━━━━━━━━━━━━━━━━━━━━━━━━━━━━━━━\u001b[0m \u001b[32m76.6/76.6 MB\u001b[0m \u001b[31m11.6 MB/s\u001b[0m eta \u001b[36m0:00:00\u001b[0m\n",
      "\u001b[2K     \u001b[90m━━━━━━━━━━━━━━━━━━━━━━━━━━━━━━━━━━━━━━\u001b[0m \u001b[32m365.3/365.3 KB\u001b[0m \u001b[31m26.2 MB/s\u001b[0m eta \u001b[36m0:00:00\u001b[0m\n",
      "\u001b[2K     \u001b[90m━━━━━━━━━━━━━━━━━━━━━━━━━━━━━━━━━━━━━━\u001b[0m \u001b[32m210.5/210.5 KB\u001b[0m \u001b[31m17.4 MB/s\u001b[0m eta \u001b[36m0:00:00\u001b[0m\n",
      "\u001b[2K     \u001b[90m━━━━━━━━━━━━━━━━━━━━━━━━━━━━━━━━━━━━━━━━\u001b[0m \u001b[32m78.7/78.7 KB\u001b[0m \u001b[31m8.0 MB/s\u001b[0m eta \u001b[36m0:00:00\u001b[0m\n",
      "\u001b[?25h"
     ]
    }
   ],
   "source": [
    "#!pip install catboost lightgbm optuna -q"
   ]
  },
  {
   "cell_type": "code",
   "execution_count": 6,
   "metadata": {
    "id": "U-gc09zSwvyF"
   },
   "outputs": [],
   "source": [
    "from sklearn.model_selection import train_test_split, cross_val_score\n",
    "from sklearn.metrics import roc_auc_score\n",
    "import pandas as pd\n",
    "import numpy as np\n",
    "\n",
    "from catboost import CatBoostClassifier\n",
    "from lightgbm import LGBMClassifier"
   ]
  },
  {
   "cell_type": "code",
   "execution_count": 2,
   "metadata": {
    "id": "C4LFGZPXweF2"
   },
   "outputs": [],
   "source": [
    "RANDOM_STATE = 111\n",
    "#DATASET_PATH = 'https://raw.githubusercontent.com/evgpat/edu_stepik_practical_ml/main/datasets/flight_delays_train.csv'"
   ]
  },
  {
   "cell_type": "code",
   "execution_count": 3,
   "metadata": {
    "colab": {
     "base_uri": "https://localhost:8080/",
     "height": 228
    },
    "id": "m788vNOUxBNU",
    "outputId": "42974e99-32f3-45ff-fb4e-54c588d902e5"
   },
   "outputs": [
    {
     "data": {
      "text/html": [
       "<div>\n",
       "<style scoped>\n",
       "    .dataframe tbody tr th:only-of-type {\n",
       "        vertical-align: middle;\n",
       "    }\n",
       "\n",
       "    .dataframe tbody tr th {\n",
       "        vertical-align: top;\n",
       "    }\n",
       "\n",
       "    .dataframe thead th {\n",
       "        text-align: right;\n",
       "    }\n",
       "</style>\n",
       "<table border=\"1\" class=\"dataframe\">\n",
       "  <thead>\n",
       "    <tr style=\"text-align: right;\">\n",
       "      <th></th>\n",
       "      <th>Month</th>\n",
       "      <th>DayofMonth</th>\n",
       "      <th>DayOfWeek</th>\n",
       "      <th>DepTime</th>\n",
       "      <th>UniqueCarrier</th>\n",
       "      <th>Origin</th>\n",
       "      <th>Dest</th>\n",
       "      <th>Distance</th>\n",
       "    </tr>\n",
       "  </thead>\n",
       "  <tbody>\n",
       "    <tr>\n",
       "      <th>0</th>\n",
       "      <td>c-8</td>\n",
       "      <td>c-21</td>\n",
       "      <td>c-7</td>\n",
       "      <td>1934</td>\n",
       "      <td>AA</td>\n",
       "      <td>ATL</td>\n",
       "      <td>DFW</td>\n",
       "      <td>732</td>\n",
       "    </tr>\n",
       "    <tr>\n",
       "      <th>1</th>\n",
       "      <td>c-4</td>\n",
       "      <td>c-20</td>\n",
       "      <td>c-3</td>\n",
       "      <td>1548</td>\n",
       "      <td>US</td>\n",
       "      <td>PIT</td>\n",
       "      <td>MCO</td>\n",
       "      <td>834</td>\n",
       "    </tr>\n",
       "    <tr>\n",
       "      <th>2</th>\n",
       "      <td>c-9</td>\n",
       "      <td>c-2</td>\n",
       "      <td>c-5</td>\n",
       "      <td>1422</td>\n",
       "      <td>XE</td>\n",
       "      <td>RDU</td>\n",
       "      <td>CLE</td>\n",
       "      <td>416</td>\n",
       "    </tr>\n",
       "    <tr>\n",
       "      <th>3</th>\n",
       "      <td>c-11</td>\n",
       "      <td>c-25</td>\n",
       "      <td>c-6</td>\n",
       "      <td>1015</td>\n",
       "      <td>OO</td>\n",
       "      <td>DEN</td>\n",
       "      <td>MEM</td>\n",
       "      <td>872</td>\n",
       "    </tr>\n",
       "    <tr>\n",
       "      <th>4</th>\n",
       "      <td>c-10</td>\n",
       "      <td>c-7</td>\n",
       "      <td>c-6</td>\n",
       "      <td>1828</td>\n",
       "      <td>WN</td>\n",
       "      <td>MDW</td>\n",
       "      <td>OMA</td>\n",
       "      <td>423</td>\n",
       "    </tr>\n",
       "  </tbody>\n",
       "</table>\n",
       "</div>"
      ],
      "text/plain": [
       "  Month DayofMonth DayOfWeek  DepTime UniqueCarrier Origin Dest  Distance\n",
       "0   c-8       c-21       c-7     1934            AA    ATL  DFW       732\n",
       "1   c-4       c-20       c-3     1548            US    PIT  MCO       834\n",
       "2   c-9        c-2       c-5     1422            XE    RDU  CLE       416\n",
       "3  c-11       c-25       c-6     1015            OO    DEN  MEM       872\n",
       "4  c-10        c-7       c-6     1828            WN    MDW  OMA       423"
      ]
     },
     "execution_count": 3,
     "metadata": {},
     "output_type": "execute_result"
    }
   ],
   "source": [
    "data = pd.read_csv('flight_delays_train.csv')\n",
    "\n",
    "X = data.drop('dep_delayed_15min', axis=1)\n",
    "y = data['dep_delayed_15min'] == 'Y'\n",
    "\n",
    "X.head()"
   ]
  },
  {
   "cell_type": "markdown",
   "metadata": {
    "id": "WoeAqm7x7Of9"
   },
   "source": [
    "Создайте список номеров колонок с категориальными признаками для бустингов\n",
    "\n",
    "## Quiz\n",
    "Какой длины получился список?\n",
    "\n",
    "(подсказка: колонка `DepTime` числовая)"
   ]
  },
  {
   "cell_type": "code",
   "execution_count": 4,
   "metadata": {},
   "outputs": [
    {
     "data": {
      "text/plain": [
       "Month            object\n",
       "DayofMonth       object\n",
       "DayOfWeek        object\n",
       "DepTime           int64\n",
       "UniqueCarrier    object\n",
       "Origin           object\n",
       "Dest             object\n",
       "Distance          int64\n",
       "dtype: object"
      ]
     },
     "execution_count": 4,
     "metadata": {},
     "output_type": "execute_result"
    }
   ],
   "source": [
    "X.dtypes"
   ]
  },
  {
   "cell_type": "code",
   "execution_count": 23,
   "metadata": {
    "id": "f2_RDMSdxgtC"
   },
   "outputs": [
    {
     "data": {
      "text/plain": [
       "6"
      ]
     },
     "execution_count": 23,
     "metadata": {},
     "output_type": "execute_result"
    }
   ],
   "source": [
    "# your code here\n",
    "cat_features = np.where(X.dtypes != np.int64)[0]\n",
    "cat_features.shape[0]"
   ]
  },
  {
   "cell_type": "markdown",
   "metadata": {
    "id": "AFUsTHb_7Tm0"
   },
   "source": [
    "Разобъем данные на обучение и контроль"
   ]
  },
  {
   "cell_type": "code",
   "execution_count": 20,
   "metadata": {
    "id": "b5hPnUwvwu_Z"
   },
   "outputs": [],
   "source": [
    "Xtrain, Xtest, ytrain, ytest = train_test_split(X, y, test_size=0.25, random_state=RANDOM_STATE)"
   ]
  },
  {
   "cell_type": "code",
   "execution_count": 21,
   "metadata": {
    "colab": {
     "base_uri": "https://localhost:8080/",
     "height": 228
    },
    "id": "EysJWEMy00fZ",
    "outputId": "ffdf59e5-f8b5-4c50-ac46-d52b0ef29503"
   },
   "outputs": [
    {
     "data": {
      "text/html": [
       "<div>\n",
       "<style scoped>\n",
       "    .dataframe tbody tr th:only-of-type {\n",
       "        vertical-align: middle;\n",
       "    }\n",
       "\n",
       "    .dataframe tbody tr th {\n",
       "        vertical-align: top;\n",
       "    }\n",
       "\n",
       "    .dataframe thead th {\n",
       "        text-align: right;\n",
       "    }\n",
       "</style>\n",
       "<table border=\"1\" class=\"dataframe\">\n",
       "  <thead>\n",
       "    <tr style=\"text-align: right;\">\n",
       "      <th></th>\n",
       "      <th>Month</th>\n",
       "      <th>DayofMonth</th>\n",
       "      <th>DayOfWeek</th>\n",
       "      <th>DepTime</th>\n",
       "      <th>UniqueCarrier</th>\n",
       "      <th>Origin</th>\n",
       "      <th>Dest</th>\n",
       "      <th>Distance</th>\n",
       "    </tr>\n",
       "  </thead>\n",
       "  <tbody>\n",
       "    <tr>\n",
       "      <th>41207</th>\n",
       "      <td>c-4</td>\n",
       "      <td>c-18</td>\n",
       "      <td>c-1</td>\n",
       "      <td>1457</td>\n",
       "      <td>CO</td>\n",
       "      <td>EWR</td>\n",
       "      <td>TPA</td>\n",
       "      <td>998</td>\n",
       "    </tr>\n",
       "    <tr>\n",
       "      <th>28283</th>\n",
       "      <td>c-11</td>\n",
       "      <td>c-1</td>\n",
       "      <td>c-2</td>\n",
       "      <td>1225</td>\n",
       "      <td>UA</td>\n",
       "      <td>DEN</td>\n",
       "      <td>BOS</td>\n",
       "      <td>1754</td>\n",
       "    </tr>\n",
       "    <tr>\n",
       "      <th>34619</th>\n",
       "      <td>c-6</td>\n",
       "      <td>c-16</td>\n",
       "      <td>c-5</td>\n",
       "      <td>1650</td>\n",
       "      <td>YV</td>\n",
       "      <td>IAD</td>\n",
       "      <td>CAE</td>\n",
       "      <td>401</td>\n",
       "    </tr>\n",
       "    <tr>\n",
       "      <th>8789</th>\n",
       "      <td>c-5</td>\n",
       "      <td>c-18</td>\n",
       "      <td>c-4</td>\n",
       "      <td>923</td>\n",
       "      <td>AA</td>\n",
       "      <td>SLC</td>\n",
       "      <td>DFW</td>\n",
       "      <td>988</td>\n",
       "    </tr>\n",
       "    <tr>\n",
       "      <th>38315</th>\n",
       "      <td>c-2</td>\n",
       "      <td>c-14</td>\n",
       "      <td>c-2</td>\n",
       "      <td>1839</td>\n",
       "      <td>AA</td>\n",
       "      <td>STL</td>\n",
       "      <td>SAN</td>\n",
       "      <td>1558</td>\n",
       "    </tr>\n",
       "  </tbody>\n",
       "</table>\n",
       "</div>"
      ],
      "text/plain": [
       "      Month DayofMonth DayOfWeek  DepTime UniqueCarrier Origin Dest  Distance\n",
       "41207   c-4       c-18       c-1     1457            CO    EWR  TPA       998\n",
       "28283  c-11        c-1       c-2     1225            UA    DEN  BOS      1754\n",
       "34619   c-6       c-16       c-5     1650            YV    IAD  CAE       401\n",
       "8789    c-5       c-18       c-4      923            AA    SLC  DFW       988\n",
       "38315   c-2       c-14       c-2     1839            AA    STL  SAN      1558"
      ]
     },
     "execution_count": 21,
     "metadata": {},
     "output_type": "execute_result"
    }
   ],
   "source": [
    "Xtrain.head()"
   ]
  },
  {
   "cell_type": "markdown",
   "metadata": {
    "id": "8E9ZC9UXymeu"
   },
   "source": [
    "## Модели с параметрами по умолчанию"
   ]
  },
  {
   "cell_type": "markdown",
   "metadata": {
    "id": "BiT-smHxypQx"
   },
   "source": [
    "Обучите CatBoost с гиперпараметрами по умолчанию.\n",
    "\n",
    "## Quiz\n",
    "Чему равен ROC-AUC на тестовых данных? Ответ округлите до сотых."
   ]
  },
  {
   "cell_type": "code",
   "execution_count": 25,
   "metadata": {
    "id": "vdjpjT1Gw8ff"
   },
   "outputs": [
    {
     "data": {
      "text/plain": [
       "<catboost.core.CatBoostClassifier at 0x1c9cd06b850>"
      ]
     },
     "execution_count": 25,
     "metadata": {},
     "output_type": "execute_result"
    }
   ],
   "source": [
    "# your code here\n",
    "model = CatBoostClassifier(random_seed=RANDOM_STATE, logging_level='Silent')\n",
    "model.fit(Xtrain, ytrain, cat_features=cat_features)"
   ]
  },
  {
   "cell_type": "code",
   "execution_count": 32,
   "metadata": {},
   "outputs": [
    {
     "name": "stdout",
     "output_type": "stream",
     "text": [
      "0.7669105405775934\n"
     ]
    }
   ],
   "source": [
    "pred = model.predict_proba(Xtest)\n",
    "print(roc_auc_score(ytest, pred[:, 1]))"
   ]
  },
  {
   "cell_type": "markdown",
   "metadata": {
    "id": "fBO2HEaAy61O"
   },
   "source": [
    "Обучите LightGBM с гиперпараметрами по умолчанию.\n",
    "\n",
    "## Quiz\n",
    "Чему равен ROC-AUC на тестовых данных? Ответ округлите до сотых."
   ]
  },
  {
   "cell_type": "code",
   "execution_count": 33,
   "metadata": {
    "id": "G_g3Ead3yZ5v"
   },
   "outputs": [],
   "source": [
    "for c in X.columns:\n",
    "    col_type = X[c].dtype\n",
    "    if col_type == 'object' or col_type.name == 'category':\n",
    "        Xtrain[c] = Xtrain[c].astype('category')\n",
    "        Xtest[c] = Xtest[c].astype('category')"
   ]
  },
  {
   "cell_type": "code",
   "execution_count": 35,
   "metadata": {
    "id": "Z2jPIID3xUPw"
   },
   "outputs": [
    {
     "data": {
      "text/html": [
       "<style>#sk-container-id-1 {\n",
       "  /* Definition of color scheme common for light and dark mode */\n",
       "  --sklearn-color-text: black;\n",
       "  --sklearn-color-line: gray;\n",
       "  /* Definition of color scheme for unfitted estimators */\n",
       "  --sklearn-color-unfitted-level-0: #fff5e6;\n",
       "  --sklearn-color-unfitted-level-1: #f6e4d2;\n",
       "  --sklearn-color-unfitted-level-2: #ffe0b3;\n",
       "  --sklearn-color-unfitted-level-3: chocolate;\n",
       "  /* Definition of color scheme for fitted estimators */\n",
       "  --sklearn-color-fitted-level-0: #f0f8ff;\n",
       "  --sklearn-color-fitted-level-1: #d4ebff;\n",
       "  --sklearn-color-fitted-level-2: #b3dbfd;\n",
       "  --sklearn-color-fitted-level-3: cornflowerblue;\n",
       "\n",
       "  /* Specific color for light theme */\n",
       "  --sklearn-color-text-on-default-background: var(--sg-text-color, var(--theme-code-foreground, var(--jp-content-font-color1, black)));\n",
       "  --sklearn-color-background: var(--sg-background-color, var(--theme-background, var(--jp-layout-color0, white)));\n",
       "  --sklearn-color-border-box: var(--sg-text-color, var(--theme-code-foreground, var(--jp-content-font-color1, black)));\n",
       "  --sklearn-color-icon: #696969;\n",
       "\n",
       "  @media (prefers-color-scheme: dark) {\n",
       "    /* Redefinition of color scheme for dark theme */\n",
       "    --sklearn-color-text-on-default-background: var(--sg-text-color, var(--theme-code-foreground, var(--jp-content-font-color1, white)));\n",
       "    --sklearn-color-background: var(--sg-background-color, var(--theme-background, var(--jp-layout-color0, #111)));\n",
       "    --sklearn-color-border-box: var(--sg-text-color, var(--theme-code-foreground, var(--jp-content-font-color1, white)));\n",
       "    --sklearn-color-icon: #878787;\n",
       "  }\n",
       "}\n",
       "\n",
       "#sk-container-id-1 {\n",
       "  color: var(--sklearn-color-text);\n",
       "}\n",
       "\n",
       "#sk-container-id-1 pre {\n",
       "  padding: 0;\n",
       "}\n",
       "\n",
       "#sk-container-id-1 input.sk-hidden--visually {\n",
       "  border: 0;\n",
       "  clip: rect(1px 1px 1px 1px);\n",
       "  clip: rect(1px, 1px, 1px, 1px);\n",
       "  height: 1px;\n",
       "  margin: -1px;\n",
       "  overflow: hidden;\n",
       "  padding: 0;\n",
       "  position: absolute;\n",
       "  width: 1px;\n",
       "}\n",
       "\n",
       "#sk-container-id-1 div.sk-dashed-wrapped {\n",
       "  border: 1px dashed var(--sklearn-color-line);\n",
       "  margin: 0 0.4em 0.5em 0.4em;\n",
       "  box-sizing: border-box;\n",
       "  padding-bottom: 0.4em;\n",
       "  background-color: var(--sklearn-color-background);\n",
       "}\n",
       "\n",
       "#sk-container-id-1 div.sk-container {\n",
       "  /* jupyter's `normalize.less` sets `[hidden] { display: none; }`\n",
       "     but bootstrap.min.css set `[hidden] { display: none !important; }`\n",
       "     so we also need the `!important` here to be able to override the\n",
       "     default hidden behavior on the sphinx rendered scikit-learn.org.\n",
       "     See: https://github.com/scikit-learn/scikit-learn/issues/21755 */\n",
       "  display: inline-block !important;\n",
       "  position: relative;\n",
       "}\n",
       "\n",
       "#sk-container-id-1 div.sk-text-repr-fallback {\n",
       "  display: none;\n",
       "}\n",
       "\n",
       "div.sk-parallel-item,\n",
       "div.sk-serial,\n",
       "div.sk-item {\n",
       "  /* draw centered vertical line to link estimators */\n",
       "  background-image: linear-gradient(var(--sklearn-color-text-on-default-background), var(--sklearn-color-text-on-default-background));\n",
       "  background-size: 2px 100%;\n",
       "  background-repeat: no-repeat;\n",
       "  background-position: center center;\n",
       "}\n",
       "\n",
       "/* Parallel-specific style estimator block */\n",
       "\n",
       "#sk-container-id-1 div.sk-parallel-item::after {\n",
       "  content: \"\";\n",
       "  width: 100%;\n",
       "  border-bottom: 2px solid var(--sklearn-color-text-on-default-background);\n",
       "  flex-grow: 1;\n",
       "}\n",
       "\n",
       "#sk-container-id-1 div.sk-parallel {\n",
       "  display: flex;\n",
       "  align-items: stretch;\n",
       "  justify-content: center;\n",
       "  background-color: var(--sklearn-color-background);\n",
       "  position: relative;\n",
       "}\n",
       "\n",
       "#sk-container-id-1 div.sk-parallel-item {\n",
       "  display: flex;\n",
       "  flex-direction: column;\n",
       "}\n",
       "\n",
       "#sk-container-id-1 div.sk-parallel-item:first-child::after {\n",
       "  align-self: flex-end;\n",
       "  width: 50%;\n",
       "}\n",
       "\n",
       "#sk-container-id-1 div.sk-parallel-item:last-child::after {\n",
       "  align-self: flex-start;\n",
       "  width: 50%;\n",
       "}\n",
       "\n",
       "#sk-container-id-1 div.sk-parallel-item:only-child::after {\n",
       "  width: 0;\n",
       "}\n",
       "\n",
       "/* Serial-specific style estimator block */\n",
       "\n",
       "#sk-container-id-1 div.sk-serial {\n",
       "  display: flex;\n",
       "  flex-direction: column;\n",
       "  align-items: center;\n",
       "  background-color: var(--sklearn-color-background);\n",
       "  padding-right: 1em;\n",
       "  padding-left: 1em;\n",
       "}\n",
       "\n",
       "\n",
       "/* Toggleable style: style used for estimator/Pipeline/ColumnTransformer box that is\n",
       "clickable and can be expanded/collapsed.\n",
       "- Pipeline and ColumnTransformer use this feature and define the default style\n",
       "- Estimators will overwrite some part of the style using the `sk-estimator` class\n",
       "*/\n",
       "\n",
       "/* Pipeline and ColumnTransformer style (default) */\n",
       "\n",
       "#sk-container-id-1 div.sk-toggleable {\n",
       "  /* Default theme specific background. It is overwritten whether we have a\n",
       "  specific estimator or a Pipeline/ColumnTransformer */\n",
       "  background-color: var(--sklearn-color-background);\n",
       "}\n",
       "\n",
       "/* Toggleable label */\n",
       "#sk-container-id-1 label.sk-toggleable__label {\n",
       "  cursor: pointer;\n",
       "  display: block;\n",
       "  width: 100%;\n",
       "  margin-bottom: 0;\n",
       "  padding: 0.5em;\n",
       "  box-sizing: border-box;\n",
       "  text-align: center;\n",
       "}\n",
       "\n",
       "#sk-container-id-1 label.sk-toggleable__label-arrow:before {\n",
       "  /* Arrow on the left of the label */\n",
       "  content: \"▸\";\n",
       "  float: left;\n",
       "  margin-right: 0.25em;\n",
       "  color: var(--sklearn-color-icon);\n",
       "}\n",
       "\n",
       "#sk-container-id-1 label.sk-toggleable__label-arrow:hover:before {\n",
       "  color: var(--sklearn-color-text);\n",
       "}\n",
       "\n",
       "/* Toggleable content - dropdown */\n",
       "\n",
       "#sk-container-id-1 div.sk-toggleable__content {\n",
       "  max-height: 0;\n",
       "  max-width: 0;\n",
       "  overflow: hidden;\n",
       "  text-align: left;\n",
       "  /* unfitted */\n",
       "  background-color: var(--sklearn-color-unfitted-level-0);\n",
       "}\n",
       "\n",
       "#sk-container-id-1 div.sk-toggleable__content.fitted {\n",
       "  /* fitted */\n",
       "  background-color: var(--sklearn-color-fitted-level-0);\n",
       "}\n",
       "\n",
       "#sk-container-id-1 div.sk-toggleable__content pre {\n",
       "  margin: 0.2em;\n",
       "  border-radius: 0.25em;\n",
       "  color: var(--sklearn-color-text);\n",
       "  /* unfitted */\n",
       "  background-color: var(--sklearn-color-unfitted-level-0);\n",
       "}\n",
       "\n",
       "#sk-container-id-1 div.sk-toggleable__content.fitted pre {\n",
       "  /* unfitted */\n",
       "  background-color: var(--sklearn-color-fitted-level-0);\n",
       "}\n",
       "\n",
       "#sk-container-id-1 input.sk-toggleable__control:checked~div.sk-toggleable__content {\n",
       "  /* Expand drop-down */\n",
       "  max-height: 200px;\n",
       "  max-width: 100%;\n",
       "  overflow: auto;\n",
       "}\n",
       "\n",
       "#sk-container-id-1 input.sk-toggleable__control:checked~label.sk-toggleable__label-arrow:before {\n",
       "  content: \"▾\";\n",
       "}\n",
       "\n",
       "/* Pipeline/ColumnTransformer-specific style */\n",
       "\n",
       "#sk-container-id-1 div.sk-label input.sk-toggleable__control:checked~label.sk-toggleable__label {\n",
       "  color: var(--sklearn-color-text);\n",
       "  background-color: var(--sklearn-color-unfitted-level-2);\n",
       "}\n",
       "\n",
       "#sk-container-id-1 div.sk-label.fitted input.sk-toggleable__control:checked~label.sk-toggleable__label {\n",
       "  background-color: var(--sklearn-color-fitted-level-2);\n",
       "}\n",
       "\n",
       "/* Estimator-specific style */\n",
       "\n",
       "/* Colorize estimator box */\n",
       "#sk-container-id-1 div.sk-estimator input.sk-toggleable__control:checked~label.sk-toggleable__label {\n",
       "  /* unfitted */\n",
       "  background-color: var(--sklearn-color-unfitted-level-2);\n",
       "}\n",
       "\n",
       "#sk-container-id-1 div.sk-estimator.fitted input.sk-toggleable__control:checked~label.sk-toggleable__label {\n",
       "  /* fitted */\n",
       "  background-color: var(--sklearn-color-fitted-level-2);\n",
       "}\n",
       "\n",
       "#sk-container-id-1 div.sk-label label.sk-toggleable__label,\n",
       "#sk-container-id-1 div.sk-label label {\n",
       "  /* The background is the default theme color */\n",
       "  color: var(--sklearn-color-text-on-default-background);\n",
       "}\n",
       "\n",
       "/* On hover, darken the color of the background */\n",
       "#sk-container-id-1 div.sk-label:hover label.sk-toggleable__label {\n",
       "  color: var(--sklearn-color-text);\n",
       "  background-color: var(--sklearn-color-unfitted-level-2);\n",
       "}\n",
       "\n",
       "/* Label box, darken color on hover, fitted */\n",
       "#sk-container-id-1 div.sk-label.fitted:hover label.sk-toggleable__label.fitted {\n",
       "  color: var(--sklearn-color-text);\n",
       "  background-color: var(--sklearn-color-fitted-level-2);\n",
       "}\n",
       "\n",
       "/* Estimator label */\n",
       "\n",
       "#sk-container-id-1 div.sk-label label {\n",
       "  font-family: monospace;\n",
       "  font-weight: bold;\n",
       "  display: inline-block;\n",
       "  line-height: 1.2em;\n",
       "}\n",
       "\n",
       "#sk-container-id-1 div.sk-label-container {\n",
       "  text-align: center;\n",
       "}\n",
       "\n",
       "/* Estimator-specific */\n",
       "#sk-container-id-1 div.sk-estimator {\n",
       "  font-family: monospace;\n",
       "  border: 1px dotted var(--sklearn-color-border-box);\n",
       "  border-radius: 0.25em;\n",
       "  box-sizing: border-box;\n",
       "  margin-bottom: 0.5em;\n",
       "  /* unfitted */\n",
       "  background-color: var(--sklearn-color-unfitted-level-0);\n",
       "}\n",
       "\n",
       "#sk-container-id-1 div.sk-estimator.fitted {\n",
       "  /* fitted */\n",
       "  background-color: var(--sklearn-color-fitted-level-0);\n",
       "}\n",
       "\n",
       "/* on hover */\n",
       "#sk-container-id-1 div.sk-estimator:hover {\n",
       "  /* unfitted */\n",
       "  background-color: var(--sklearn-color-unfitted-level-2);\n",
       "}\n",
       "\n",
       "#sk-container-id-1 div.sk-estimator.fitted:hover {\n",
       "  /* fitted */\n",
       "  background-color: var(--sklearn-color-fitted-level-2);\n",
       "}\n",
       "\n",
       "/* Specification for estimator info (e.g. \"i\" and \"?\") */\n",
       "\n",
       "/* Common style for \"i\" and \"?\" */\n",
       "\n",
       ".sk-estimator-doc-link,\n",
       "a:link.sk-estimator-doc-link,\n",
       "a:visited.sk-estimator-doc-link {\n",
       "  float: right;\n",
       "  font-size: smaller;\n",
       "  line-height: 1em;\n",
       "  font-family: monospace;\n",
       "  background-color: var(--sklearn-color-background);\n",
       "  border-radius: 1em;\n",
       "  height: 1em;\n",
       "  width: 1em;\n",
       "  text-decoration: none !important;\n",
       "  margin-left: 1ex;\n",
       "  /* unfitted */\n",
       "  border: var(--sklearn-color-unfitted-level-1) 1pt solid;\n",
       "  color: var(--sklearn-color-unfitted-level-1);\n",
       "}\n",
       "\n",
       ".sk-estimator-doc-link.fitted,\n",
       "a:link.sk-estimator-doc-link.fitted,\n",
       "a:visited.sk-estimator-doc-link.fitted {\n",
       "  /* fitted */\n",
       "  border: var(--sklearn-color-fitted-level-1) 1pt solid;\n",
       "  color: var(--sklearn-color-fitted-level-1);\n",
       "}\n",
       "\n",
       "/* On hover */\n",
       "div.sk-estimator:hover .sk-estimator-doc-link:hover,\n",
       ".sk-estimator-doc-link:hover,\n",
       "div.sk-label-container:hover .sk-estimator-doc-link:hover,\n",
       ".sk-estimator-doc-link:hover {\n",
       "  /* unfitted */\n",
       "  background-color: var(--sklearn-color-unfitted-level-3);\n",
       "  color: var(--sklearn-color-background);\n",
       "  text-decoration: none;\n",
       "}\n",
       "\n",
       "div.sk-estimator.fitted:hover .sk-estimator-doc-link.fitted:hover,\n",
       ".sk-estimator-doc-link.fitted:hover,\n",
       "div.sk-label-container:hover .sk-estimator-doc-link.fitted:hover,\n",
       ".sk-estimator-doc-link.fitted:hover {\n",
       "  /* fitted */\n",
       "  background-color: var(--sklearn-color-fitted-level-3);\n",
       "  color: var(--sklearn-color-background);\n",
       "  text-decoration: none;\n",
       "}\n",
       "\n",
       "/* Span, style for the box shown on hovering the info icon */\n",
       ".sk-estimator-doc-link span {\n",
       "  display: none;\n",
       "  z-index: 9999;\n",
       "  position: relative;\n",
       "  font-weight: normal;\n",
       "  right: .2ex;\n",
       "  padding: .5ex;\n",
       "  margin: .5ex;\n",
       "  width: min-content;\n",
       "  min-width: 20ex;\n",
       "  max-width: 50ex;\n",
       "  color: var(--sklearn-color-text);\n",
       "  box-shadow: 2pt 2pt 4pt #999;\n",
       "  /* unfitted */\n",
       "  background: var(--sklearn-color-unfitted-level-0);\n",
       "  border: .5pt solid var(--sklearn-color-unfitted-level-3);\n",
       "}\n",
       "\n",
       ".sk-estimator-doc-link.fitted span {\n",
       "  /* fitted */\n",
       "  background: var(--sklearn-color-fitted-level-0);\n",
       "  border: var(--sklearn-color-fitted-level-3);\n",
       "}\n",
       "\n",
       ".sk-estimator-doc-link:hover span {\n",
       "  display: block;\n",
       "}\n",
       "\n",
       "/* \"?\"-specific style due to the `<a>` HTML tag */\n",
       "\n",
       "#sk-container-id-1 a.estimator_doc_link {\n",
       "  float: right;\n",
       "  font-size: 1rem;\n",
       "  line-height: 1em;\n",
       "  font-family: monospace;\n",
       "  background-color: var(--sklearn-color-background);\n",
       "  border-radius: 1rem;\n",
       "  height: 1rem;\n",
       "  width: 1rem;\n",
       "  text-decoration: none;\n",
       "  /* unfitted */\n",
       "  color: var(--sklearn-color-unfitted-level-1);\n",
       "  border: var(--sklearn-color-unfitted-level-1) 1pt solid;\n",
       "}\n",
       "\n",
       "#sk-container-id-1 a.estimator_doc_link.fitted {\n",
       "  /* fitted */\n",
       "  border: var(--sklearn-color-fitted-level-1) 1pt solid;\n",
       "  color: var(--sklearn-color-fitted-level-1);\n",
       "}\n",
       "\n",
       "/* On hover */\n",
       "#sk-container-id-1 a.estimator_doc_link:hover {\n",
       "  /* unfitted */\n",
       "  background-color: var(--sklearn-color-unfitted-level-3);\n",
       "  color: var(--sklearn-color-background);\n",
       "  text-decoration: none;\n",
       "}\n",
       "\n",
       "#sk-container-id-1 a.estimator_doc_link.fitted:hover {\n",
       "  /* fitted */\n",
       "  background-color: var(--sklearn-color-fitted-level-3);\n",
       "}\n",
       "</style><div id=\"sk-container-id-1\" class=\"sk-top-container\"><div class=\"sk-text-repr-fallback\"><pre>LGBMClassifier(random_seed=111, verbose=-1)</pre><b>In a Jupyter environment, please rerun this cell to show the HTML representation or trust the notebook. <br />On GitHub, the HTML representation is unable to render, please try loading this page with nbviewer.org.</b></div><div class=\"sk-container\" hidden><div class=\"sk-item\"><div class=\"sk-estimator fitted sk-toggleable\"><input class=\"sk-toggleable__control sk-hidden--visually\" id=\"sk-estimator-id-1\" type=\"checkbox\" checked><label for=\"sk-estimator-id-1\" class=\"sk-toggleable__label fitted sk-toggleable__label-arrow fitted\">&nbsp;LGBMClassifier<span class=\"sk-estimator-doc-link fitted\">i<span>Fitted</span></span></label><div class=\"sk-toggleable__content fitted\"><pre>LGBMClassifier(random_seed=111, verbose=-1)</pre></div> </div></div></div></div>"
      ],
      "text/plain": [
       "LGBMClassifier(random_seed=111, verbose=-1)"
      ]
     },
     "execution_count": 35,
     "metadata": {},
     "output_type": "execute_result"
    }
   ],
   "source": [
    "# your code here\n",
    "model = LGBMClassifier(random_seed=RANDOM_STATE, verbose=-1)\n",
    "model.fit(Xtrain, ytrain)"
   ]
  },
  {
   "cell_type": "code",
   "execution_count": 36,
   "metadata": {},
   "outputs": [
    {
     "name": "stdout",
     "output_type": "stream",
     "text": [
      "0.7341149074685321\n"
     ]
    }
   ],
   "source": [
    "pred = model.predict_proba(Xtest)\n",
    "print(roc_auc_score(ytest, pred[:, 1]))"
   ]
  },
  {
   "cell_type": "markdown",
   "metadata": {
    "id": "zazHv43vzn2e"
   },
   "source": [
    "## Optuna"
   ]
  },
  {
   "cell_type": "markdown",
   "metadata": {
    "id": "MGaTMoDr7cvz"
   },
   "source": [
    "Выделим дополнительную валидационную выборку."
   ]
  },
  {
   "cell_type": "code",
   "execution_count": 37,
   "metadata": {
    "id": "meyw3CyV1aF_"
   },
   "outputs": [],
   "source": [
    "Xtrain_new, Xval, ytrain_new, yval = train_test_split(Xtrain, ytrain, test_size=0.25, random_state=RANDOM_STATE)"
   ]
  },
  {
   "cell_type": "markdown",
   "metadata": {
    "id": "RatJBHjn1tq2"
   },
   "source": [
    "Создайте функцию objective_lgbm, в которой среди гиперпараметров\n",
    "\n",
    "* num_leaves = trial.suggest_int(\"num_leaves\", 10, 100)\n",
    "* n_estimators = trial.suggest_int(\"n_estimators\", 10, 1000)\n",
    "\n",
    "подберите оптимальные, обучая LGBM на Xtrain_new, ytrain_new и проверяя качество (ROC-AUC) на Xval.\n",
    "\n",
    "Используйте 30 эпох обучения Optuna.\n"
   ]
  },
  {
   "cell_type": "code",
   "execution_count": 39,
   "metadata": {},
   "outputs": [],
   "source": [
    "import optuna"
   ]
  },
  {
   "cell_type": "code",
   "execution_count": 41,
   "metadata": {
    "id": "YgOH1GMFzhW1"
   },
   "outputs": [
    {
     "name": "stderr",
     "output_type": "stream",
     "text": [
      "[I 2024-01-31 11:49:53,056] A new study created in memory with name: no-name-ab164459-19f0-42c1-89e1-eb0dc8813543\n",
      "[I 2024-01-31 11:49:57,711] Trial 0 finished with value: 0.7150459027687016 and parameters: {'num_leaves': 30, 'n_estimators': 623}. Best is trial 0 with value: 0.7150459027687016.\n",
      "[I 2024-01-31 11:50:03,788] Trial 1 finished with value: 0.7157546765075952 and parameters: {'num_leaves': 83, 'n_estimators': 513}. Best is trial 1 with value: 0.7157546765075952.\n",
      "[I 2024-01-31 11:50:11,732] Trial 2 finished with value: 0.7152861565798818 and parameters: {'num_leaves': 81, 'n_estimators': 814}. Best is trial 1 with value: 0.7157546765075952.\n",
      "[I 2024-01-31 11:50:18,956] Trial 3 finished with value: 0.7159246038892645 and parameters: {'num_leaves': 90, 'n_estimators': 537}. Best is trial 3 with value: 0.7159246038892645.\n",
      "[I 2024-01-31 11:50:23,802] Trial 4 finished with value: 0.714086980285169 and parameters: {'num_leaves': 95, 'n_estimators': 306}. Best is trial 3 with value: 0.7159246038892645.\n",
      "[I 2024-01-31 11:50:29,967] Trial 5 finished with value: 0.7134574832361554 and parameters: {'num_leaves': 40, 'n_estimators': 868}. Best is trial 3 with value: 0.7159246038892645.\n",
      "[I 2024-01-31 11:50:32,773] Trial 6 finished with value: 0.7172600406579024 and parameters: {'num_leaves': 84, 'n_estimators': 288}. Best is trial 6 with value: 0.7172600406579024.\n",
      "[I 2024-01-31 11:50:40,363] Trial 7 finished with value: 0.7146687989248436 and parameters: {'num_leaves': 48, 'n_estimators': 720}. Best is trial 6 with value: 0.7172600406579024.\n",
      "[I 2024-01-31 11:50:42,913] Trial 8 finished with value: 0.7182130485914877 and parameters: {'num_leaves': 64, 'n_estimators': 235}. Best is trial 8 with value: 0.7182130485914877.\n",
      "[I 2024-01-31 11:50:44,048] Trial 9 finished with value: 0.7211048980582583 and parameters: {'num_leaves': 32, 'n_estimators': 121}. Best is trial 9 with value: 0.7211048980582583.\n",
      "[I 2024-01-31 11:50:44,550] Trial 10 finished with value: 0.7242418419238663 and parameters: {'num_leaves': 16, 'n_estimators': 47}. Best is trial 10 with value: 0.7242418419238663.\n",
      "[I 2024-01-31 11:50:45,292] Trial 11 finished with value: 0.7243012701357241 and parameters: {'num_leaves': 16, 'n_estimators': 51}. Best is trial 11 with value: 0.7243012701357241.\n",
      "[I 2024-01-31 11:50:45,768] Trial 12 finished with value: 0.7247037801693591 and parameters: {'num_leaves': 11, 'n_estimators': 51}. Best is trial 12 with value: 0.7247037801693591.\n",
      "[I 2024-01-31 11:50:46,099] Trial 13 finished with value: 0.7158451875670485 and parameters: {'num_leaves': 16, 'n_estimators': 11}. Best is trial 12 with value: 0.7247037801693591.\n",
      "[I 2024-01-31 11:50:49,781] Trial 14 finished with value: 0.7128217906486659 and parameters: {'num_leaves': 10, 'n_estimators': 996}. Best is trial 12 with value: 0.7247037801693591.\n",
      "[I 2024-01-31 11:50:52,659] Trial 15 finished with value: 0.7175393139497173 and parameters: {'num_leaves': 24, 'n_estimators': 386}. Best is trial 12 with value: 0.7247037801693591.\n",
      "[I 2024-01-31 11:50:54,110] Trial 16 finished with value: 0.7211330675892081 and parameters: {'num_leaves': 66, 'n_estimators': 117}. Best is trial 12 with value: 0.7247037801693591.\n",
      "[I 2024-01-31 11:50:55,933] Trial 17 finished with value: 0.719355701371708 and parameters: {'num_leaves': 43, 'n_estimators': 192}. Best is trial 12 with value: 0.7247037801693591.\n",
      "[I 2024-01-31 11:50:58,028] Trial 18 finished with value: 0.7173662284638497 and parameters: {'num_leaves': 24, 'n_estimators': 400}. Best is trial 12 with value: 0.7247037801693591.\n",
      "[I 2024-01-31 11:50:59,984] Trial 19 finished with value: 0.7195608643700849 and parameters: {'num_leaves': 54, 'n_estimators': 139}. Best is trial 12 with value: 0.7247037801693591.\n",
      "[I 2024-01-31 11:51:01,878] Trial 20 finished with value: 0.7207024759412796 and parameters: {'num_leaves': 13, 'n_estimators': 391}. Best is trial 12 with value: 0.7247037801693591.\n",
      "[I 2024-01-31 11:51:02,330] Trial 21 finished with value: 0.7236237998979945 and parameters: {'num_leaves': 20, 'n_estimators': 27}. Best is trial 12 with value: 0.7247037801693591.\n",
      "[I 2024-01-31 11:51:02,694] Trial 22 finished with value: 0.7197668961918877 and parameters: {'num_leaves': 34, 'n_estimators': 14}. Best is trial 12 with value: 0.7247037801693591.\n",
      "[I 2024-01-31 11:51:03,578] Trial 23 finished with value: 0.7255268421135596 and parameters: {'num_leaves': 10, 'n_estimators': 145}. Best is trial 23 with value: 0.7255268421135596.\n",
      "[I 2024-01-31 11:51:04,472] Trial 24 finished with value: 0.7247261334101539 and parameters: {'num_leaves': 11, 'n_estimators': 168}. Best is trial 23 with value: 0.7255268421135596.\n",
      "[I 2024-01-31 11:51:06,315] Trial 25 finished with value: 0.720184784744928 and parameters: {'num_leaves': 27, 'n_estimators': 206}. Best is trial 23 with value: 0.7255268421135596.\n",
      "[I 2024-01-31 11:51:07,578] Trial 26 finished with value: 0.7237289137416519 and parameters: {'num_leaves': 10, 'n_estimators': 262}. Best is trial 23 with value: 0.7255268421135596.\n",
      "[I 2024-01-31 11:51:09,364] Trial 27 finished with value: 0.7206642063380061 and parameters: {'num_leaves': 37, 'n_estimators': 151}. Best is trial 23 with value: 0.7255268421135596.\n",
      "[I 2024-01-31 11:51:11,809] Trial 28 finished with value: 0.719877314340467 and parameters: {'num_leaves': 21, 'n_estimators': 340}. Best is trial 23 with value: 0.7255268421135596.\n",
      "[I 2024-01-31 11:51:15,744] Trial 29 finished with value: 0.7150960238819977 and parameters: {'num_leaves': 30, 'n_estimators': 582}. Best is trial 23 with value: 0.7255268421135596.\n"
     ]
    }
   ],
   "source": [
    "# your code here\n",
    "def objective_lgbm(trial):\n",
    "    num_leaves = trial.suggest_int(\"num_leaves\", 10, 100)\n",
    "    n_estimators = trial.suggest_int(\"n_estimators\", 10, 1000)\n",
    "\n",
    "    score = cross_val_score(LGBMClassifier(num_leaves=num_leaves, n_estimators=n_estimators),\n",
    "                            Xtrain, ytrain, cv=3, scoring='roc_auc', n_jobs=-1).mean()\n",
    "    return score\n",
    "\n",
    "\n",
    "study = optuna.create_study(direction=\"maximize\")\n",
    "study.optimize(objective_lgbm, n_trials=30)"
   ]
  },
  {
   "cell_type": "code",
   "execution_count": 42,
   "metadata": {
    "id": "fpPS4-E-2Ycm"
   },
   "outputs": [
    {
     "data": {
      "text/plain": [
       "{'num_leaves': 10, 'n_estimators': 145}"
      ]
     },
     "execution_count": 42,
     "metadata": {},
     "output_type": "execute_result"
    }
   ],
   "source": [
    "study.best_params"
   ]
  },
  {
   "cell_type": "markdown",
   "metadata": {
    "id": "VSWz4A5w7mpW"
   },
   "source": [
    "Обучите модель с найденными гиперпараметрами на Xtrain, ytrain и оцените ROC-AUC на тестовых данных."
   ]
  },
  {
   "cell_type": "code",
   "execution_count": 44,
   "metadata": {
    "id": "C2i6MY720D1Y"
   },
   "outputs": [
    {
     "name": "stdout",
     "output_type": "stream",
     "text": [
      "[LightGBM] [Info] Number of positive: 14346, number of negative: 60654\n",
      "[LightGBM] [Info] Auto-choosing col-wise multi-threading, the overhead of testing was 0.001670 seconds.\n",
      "You can set `force_col_wise=true` to remove the overhead.\n",
      "[LightGBM] [Info] Total Bins 1095\n",
      "[LightGBM] [Info] Number of data points in the train set: 75000, number of used features: 8\n",
      "[LightGBM] [Info] [binary:BoostFromScore]: pavg=0.191280 -> initscore=-1.441714\n",
      "[LightGBM] [Info] Start training from score -1.441714\n",
      "0.7345959892385305\n"
     ]
    }
   ],
   "source": [
    "# your code here\n",
    "model = LGBMClassifier(**study.best_params)\n",
    "model.fit(Xtrain, ytrain)\n",
    "\n",
    "pred = model.predict_proba(Xtest)\n",
    "print(roc_auc_score(ytest, pred[:, 1]))"
   ]
  },
  {
   "cell_type": "markdown",
   "metadata": {
    "id": "bP4nfUCA5gnm"
   },
   "source": [
    "## Quiz\n",
    "\n",
    "Чему равно количество деревьев в LGBM после подбора гиперпараметров?"
   ]
  },
  {
   "cell_type": "markdown",
   "metadata": {
    "id": "pPVSkXK76b17"
   },
   "source": [
    "## Работа над улучшением модели\n",
    "\n",
    "* Попробуйте при помощи Optuna подобрать и другие гиперпарамтеры\n",
    "* Также подберите гиперпараметры у CatBoost (а не только у LightGBM)"
   ]
  },
  {
   "cell_type": "code",
   "execution_count": 57,
   "metadata": {
    "id": "NTjHyWL-6lm-"
   },
   "outputs": [
    {
     "name": "stderr",
     "output_type": "stream",
     "text": [
      "[I 2024-01-31 12:33:04,871] A new study created in memory with name: no-name-abcae979-457c-4f8c-9381-ab1771b7b327\n",
      "[I 2024-01-31 12:33:06,951] Trial 0 finished with value: 0.7272018200827767 and parameters: {'learning_rate': 0.06963059801644719, 'max_depth': 16, 'n_estimators': 144, 'subsample': 0.3968627359163287, 'num_leaves': 290}. Best is trial 0 with value: 0.7272018200827767.\n",
      "[I 2024-01-31 12:33:10,028] Trial 1 finished with value: 0.710498053670397 and parameters: {'learning_rate': 0.3882345085021755, 'max_depth': 12, 'n_estimators': 338, 'subsample': 0.8892604117000764, 'num_leaves': 137}. Best is trial 0 with value: 0.7272018200827767.\n",
      "[I 2024-01-31 12:33:13,018] Trial 2 finished with value: 0.7189842458988785 and parameters: {'learning_rate': 0.06635075616466661, 'max_depth': 6, 'n_estimators': 509, 'subsample': 0.6626529456820859, 'num_leaves': 86}. Best is trial 0 with value: 0.7272018200827767.\n",
      "[I 2024-01-31 12:33:14,952] Trial 3 finished with value: 0.6970762150160631 and parameters: {'learning_rate': 0.5132552545214545, 'max_depth': 13, 'n_estimators': 194, 'subsample': 0.1798211941002949, 'num_leaves': 150}. Best is trial 0 with value: 0.7272018200827767.\n",
      "[I 2024-01-31 12:33:25,195] Trial 4 finished with value: 0.7309463556242698 and parameters: {'learning_rate': 0.4530688386724706, 'max_depth': 10, 'n_estimators': 913, 'subsample': 0.4123317021637469, 'num_leaves': 333}. Best is trial 4 with value: 0.7309463556242698.\n",
      "[I 2024-01-31 12:33:27,469] Trial 5 finished with value: 0.6949987559512603 and parameters: {'learning_rate': 0.677299836636979, 'max_depth': 2, 'n_estimators': 633, 'subsample': 0.9878326654279974, 'num_leaves': 183}. Best is trial 4 with value: 0.7309463556242698.\n",
      "[I 2024-01-31 12:33:30,601] Trial 6 finished with value: 0.682242688034093 and parameters: {'learning_rate': 0.7705283320150026, 'max_depth': 5, 'n_estimators': 560, 'subsample': 0.8024427439764273, 'num_leaves': 208}. Best is trial 4 with value: 0.7309463556242698.\n",
      "[I 2024-01-31 12:33:31,022] Trial 7 finished with value: 0.7208132789557826 and parameters: {'learning_rate': 0.06112243192038063, 'max_depth': 2, 'n_estimators': 99, 'subsample': 0.6310481254624701, 'num_leaves': 73}. Best is trial 4 with value: 0.7309463556242698.\n",
      "[I 2024-01-31 12:33:36,139] Trial 8 finished with value: 0.7212511629151264 and parameters: {'learning_rate': 0.6334120659667593, 'max_depth': 11, 'n_estimators': 466, 'subsample': 0.8463351286389557, 'num_leaves': 223}. Best is trial 4 with value: 0.7309463556242698.\n",
      "[I 2024-01-31 12:33:36,922] Trial 9 finished with value: 0.7242464185722589 and parameters: {'learning_rate': 0.12271261389104318, 'max_depth': 2, 'n_estimators': 206, 'subsample': 0.8605903881025476, 'num_leaves': 288}. Best is trial 4 with value: 0.7309463556242698.\n",
      "[I 2024-01-31 12:33:46,068] Trial 10 finished with value: 0.7164572993061394 and parameters: {'learning_rate': 0.8944676210077991, 'max_depth': 9, 'n_estimators': 938, 'subsample': 0.3916031520008829, 'num_leaves': 450}. Best is trial 4 with value: 0.7309463556242698.\n",
      "[I 2024-01-31 12:34:01,942] Trial 11 finished with value: 0.7385790916777671 and parameters: {'learning_rate': 0.29789871756548875, 'max_depth': 16, 'n_estimators': 993, 'subsample': 0.38674157928565983, 'num_leaves': 345}. Best is trial 11 with value: 0.7385790916777671.\n",
      "[I 2024-01-31 12:34:18,957] Trial 12 finished with value: 0.7348484073252396 and parameters: {'learning_rate': 0.3193687827889631, 'max_depth': 16, 'n_estimators': 973, 'subsample': 0.37306260101977295, 'num_leaves': 384}. Best is trial 11 with value: 0.7385790916777671.\n",
      "[I 2024-01-31 12:34:33,326] Trial 13 finished with value: 0.736027750180979 and parameters: {'learning_rate': 0.26459774748187015, 'max_depth': 16, 'n_estimators': 793, 'subsample': 0.1649393638778647, 'num_leaves': 398}. Best is trial 11 with value: 0.7385790916777671.\n",
      "[I 2024-01-31 12:34:48,917] Trial 14 finished with value: 0.7371697240638495 and parameters: {'learning_rate': 0.2549011423381928, 'max_depth': 14, 'n_estimators': 764, 'subsample': 0.13072412880371934, 'num_leaves': 490}. Best is trial 11 with value: 0.7385790916777671.\n",
      "[I 2024-01-31 12:35:04,283] Trial 15 finished with value: 0.7413176252322906 and parameters: {'learning_rate': 0.2089613462143135, 'max_depth': 14, 'n_estimators': 757, 'subsample': 0.2584543328511252, 'num_leaves': 482}. Best is trial 15 with value: 0.7413176252322906.\n",
      "[I 2024-01-31 12:35:17,285] Trial 16 finished with value: 0.7385941854536056 and parameters: {'learning_rate': 0.1975144184045392, 'max_depth': 14, 'n_estimators': 750, 'subsample': 0.2574200575473151, 'num_leaves': 397}. Best is trial 15 with value: 0.7413176252322906.\n",
      "[I 2024-01-31 12:35:26,162] Trial 17 finished with value: 0.716321108130202 and parameters: {'learning_rate': 0.1629941121930506, 'max_depth': 8, 'n_estimators': 725, 'subsample': 0.264745453445919, 'num_leaves': 491}. Best is trial 15 with value: 0.7413176252322906.\n",
      "[I 2024-01-31 12:35:37,964] Trial 18 finished with value: 0.7359296589113653 and parameters: {'learning_rate': 0.1913170708101981, 'max_depth': 14, 'n_estimators': 660, 'subsample': 0.5061918636101458, 'num_leaves': 427}. Best is trial 15 with value: 0.7413176252322906.\n",
      "[I 2024-01-31 12:35:49,210] Trial 19 finished with value: 0.7305671656213344 and parameters: {'learning_rate': 0.5060125175654664, 'max_depth': 14, 'n_estimators': 836, 'subsample': 0.26602010642739293, 'num_leaves': 354}. Best is trial 15 with value: 0.7413176252322906.\n",
      "[I 2024-01-31 12:35:55,542] Trial 20 finished with value: 0.7310503491815299 and parameters: {'learning_rate': 0.3795817446138262, 'max_depth': 12, 'n_estimators': 390, 'subsample': 0.26461667621888907, 'num_leaves': 445}. Best is trial 15 with value: 0.7413176252322906.\n",
      "[I 2024-01-31 12:36:08,441] Trial 21 finished with value: 0.7372457776898059 and parameters: {'learning_rate': 0.19997823697941336, 'max_depth': 15, 'n_estimators': 866, 'subsample': 0.30082853362783707, 'num_leaves': 327}. Best is trial 15 with value: 0.7413176252322906.\n",
      "[I 2024-01-31 12:36:19,786] Trial 22 finished with value: 0.7345965642034404 and parameters: {'learning_rate': 0.31438067036085837, 'max_depth': 13, 'n_estimators': 690, 'subsample': 0.32580338304406753, 'num_leaves': 394}. Best is trial 15 with value: 0.7413176252322906.\n",
      "[I 2024-01-31 12:36:33,066] Trial 23 finished with value: 0.7347556335965083 and parameters: {'learning_rate': 0.41668644833676605, 'max_depth': 15, 'n_estimators': 981, 'subsample': 0.5093530528022341, 'num_leaves': 277}. Best is trial 15 with value: 0.7413176252322906.\n",
      "[I 2024-01-31 12:36:43,306] Trial 24 finished with value: 0.737478159708375 and parameters: {'learning_rate': 0.27720754635221506, 'max_depth': 12, 'n_estimators': 583, 'subsample': 0.4734490858217971, 'num_leaves': 499}. Best is trial 15 with value: 0.7413176252322906.\n",
      "[I 2024-01-31 12:37:00,160] Trial 25 finished with value: 0.730260977597182 and parameters: {'learning_rate': 0.01848345038534588, 'max_depth': 15, 'n_estimators': 859, 'subsample': 0.19720901198560975, 'num_leaves': 370}. Best is trial 15 with value: 0.7413176252322906.\n",
      "[I 2024-01-31 12:37:03,994] Trial 26 finished with value: 0.7153040325013946 and parameters: {'learning_rate': 0.13406868365182054, 'max_depth': 10, 'n_estimators': 765, 'subsample': 0.22133496134233946, 'num_leaves': 23}. Best is trial 15 with value: 0.7413176252322906.\n",
      "[I 2024-01-31 12:37:21,129] Trial 27 finished with value: 0.7382906470632263 and parameters: {'learning_rate': 0.23508856497419392, 'max_depth': 13, 'n_estimators': 905, 'subsample': 0.10632658761125499, 'num_leaves': 425}. Best is trial 15 with value: 0.7413176252322906.\n",
      "[I 2024-01-31 12:37:33,244] Trial 28 finished with value: 0.7335996257913086 and parameters: {'learning_rate': 0.32440071630806117, 'max_depth': 16, 'n_estimators': 816, 'subsample': 0.5646497257336701, 'num_leaves': 321}. Best is trial 15 with value: 0.7413176252322906.\n",
      "[I 2024-01-31 12:37:41,149] Trial 29 finished with value: 0.7186959109243559 and parameters: {'learning_rate': 0.6101319804194908, 'max_depth': 7, 'n_estimators': 994, 'subsample': 0.4346977674305643, 'num_leaves': 457}. Best is trial 15 with value: 0.7413176252322906.\n"
     ]
    }
   ],
   "source": [
    "# your code here\n",
    "def objective_lgb(trial):\n",
    "    lgb_params = {\n",
    "        'learning_rate': trial.suggest_float(\"learning_rate\", 0.01, 1),\n",
    "        'max_depth': trial.suggest_int(\"max_depth\", 2, 16),\n",
    "        'n_estimators': trial.suggest_int(\"n_estimators\", 10, 1000),\n",
    "        'subsample': trial.suggest_float(\"subsample\", 0.1, 1),\n",
    "        'num_leaves': trial.suggest_int(\"num_leaves\", 10, 500),\n",
    "        'random_state': RANDOM_STATE, \n",
    "        'verbose': -1\n",
    "    }\n",
    "    \n",
    "    lgb=LGBMClassifier(**lgb_params)\n",
    "    lgb.fit(Xtrain_new, ytrain_new,\n",
    "        eval_set=[(Xval, yval)], eval_metric='auc')\n",
    "    \n",
    "    y_pred_val = lgb.predict_proba(Xval)[:,1]\n",
    "    auc_val = roc_auc_score(yval, y_pred_val)\n",
    "    return auc_val\n",
    "\n",
    "\n",
    "study = optuna.create_study(direction=\"maximize\")\n",
    "study.optimize(objective_lgb, n_trials=30)"
   ]
  },
  {
   "cell_type": "code",
   "execution_count": 58,
   "metadata": {},
   "outputs": [
    {
     "data": {
      "text/plain": [
       "{'learning_rate': 0.2089613462143135,\n",
       " 'max_depth': 14,\n",
       " 'n_estimators': 757,\n",
       " 'subsample': 0.2584543328511252,\n",
       " 'num_leaves': 482}"
      ]
     },
     "execution_count": 58,
     "metadata": {},
     "output_type": "execute_result"
    }
   ],
   "source": [
    "study.best_params"
   ]
  },
  {
   "cell_type": "code",
   "execution_count": 59,
   "metadata": {},
   "outputs": [
    {
     "name": "stdout",
     "output_type": "stream",
     "text": [
      "[LightGBM] [Info] Number of positive: 14346, number of negative: 60654\n",
      "[LightGBM] [Info] Auto-choosing col-wise multi-threading, the overhead of testing was 0.001642 seconds.\n",
      "You can set `force_col_wise=true` to remove the overhead.\n",
      "[LightGBM] [Info] Total Bins 1095\n",
      "[LightGBM] [Info] Number of data points in the train set: 75000, number of used features: 8\n",
      "[LightGBM] [Info] [binary:BoostFromScore]: pavg=0.191280 -> initscore=-1.441714\n",
      "[LightGBM] [Info] Start training from score -1.441714\n",
      "[LightGBM] [Warning] No further splits with positive gain, best gain: -inf\n",
      "[LightGBM] [Warning] No further splits with positive gain, best gain: -inf\n",
      "0.7506452587218652\n"
     ]
    }
   ],
   "source": [
    "model = LGBMClassifier(**study.best_params)\n",
    "model.fit(Xtrain, ytrain)\n",
    "\n",
    "pred = model.predict_proba(Xtest)\n",
    "print(roc_auc_score(ytest, pred[:, 1]))"
   ]
  },
  {
   "cell_type": "markdown",
   "metadata": {
    "id": "3kJk1Czm6nJg"
   },
   "source": [
    "## Quiz\n",
    "\n",
    "Поделитесь своими результатами!"
   ]
  }
 ],
 "metadata": {
  "colab": {
   "provenance": []
  },
  "kernelspec": {
   "display_name": "Python 3 (ipykernel)",
   "language": "python",
   "name": "python3"
  },
  "language_info": {
   "codemirror_mode": {
    "name": "ipython",
    "version": 3
   },
   "file_extension": ".py",
   "mimetype": "text/x-python",
   "name": "python",
   "nbconvert_exporter": "python",
   "pygments_lexer": "ipython3",
   "version": "3.10.9"
  }
 },
 "nbformat": 4,
 "nbformat_minor": 4
}
