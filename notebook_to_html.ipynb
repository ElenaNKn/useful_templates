{
 "cells": [
  {
   "cell_type": "markdown",
   "id": "a5e76aad-15a0-4e13-8769-99513228339a",
   "metadata": {},
   "source": [
    "## Convert jupyter notebook to html-file"
   ]
  },
  {
   "cell_type": "markdown",
   "id": "05236108-dee6-43a8-bd1e-6603872337ae",
   "metadata": {},
   "source": [
    "How to convert jupyter notebook to html-file and fide the code\n",
    "\n",
    "https://stackoverflow.com/questions/49907455/hide-code-when-exporting-jupyter-notebook-to-html"
   ]
  },
  {
   "cell_type": "code",
   "execution_count": null,
   "id": "4581e1e7-0f75-48e3-8cc0-d72aedfa07cf",
   "metadata": {},
   "outputs": [],
   "source": [
    "# in command window\n",
    "\n",
    "!pip install nbconvert\n",
    "\n",
    "!jupyter nbconvert yourNotebookName.ipynb --no-input"
   ]
  }
 ],
 "metadata": {
  "kernelspec": {
   "display_name": "Python 3 (ipykernel)",
   "language": "python",
   "name": "python3"
  },
  "language_info": {
   "codemirror_mode": {
    "name": "ipython",
    "version": 3
   },
   "file_extension": ".py",
   "mimetype": "text/x-python",
   "name": "python",
   "nbconvert_exporter": "python",
   "pygments_lexer": "ipython3",
   "version": "3.10.11"
  }
 },
 "nbformat": 4,
 "nbformat_minor": 5
}
