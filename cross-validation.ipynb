{
 "cells": [
  {
   "cell_type": "code",
   "execution_count": 1,
   "metadata": {
    "id": "28pC0ajQt7QF"
   },
   "outputs": [],
   "source": [
    "from sklearn.linear_model import LogisticRegression\n",
    "from sklearn.svm import SVC"
   ]
  },
  {
   "cell_type": "markdown",
   "metadata": {
    "id": "8zj5gcfa_WRP"
   },
   "source": [
    "Получение целевой метрики по кросс-валидации c **тремя** фолдами и метрикой **roc_auc** LogisticRegression"
   ]
  },
  {
   "cell_type": "code",
   "execution_count": 10,
   "metadata": {
    "colab": {
     "base_uri": "https://localhost:8080/"
    },
    "id": "qTidKGjbySO7",
    "outputId": "aa267f7a-fdd1-47b6-eb22-f586ee26dcdb"
   },
   "outputs": [
    {
     "name": "stdout",
     "output_type": "stream",
     "text": [
      "[CV] END .................................................... total time=   0.0s\n",
      "[CV] END .................................................... total time=   0.0s\n",
      "[CV] END .................................................... total time=   0.0s\n"
     ]
    },
    {
     "data": {
      "text/plain": [
       "0.8250515880497281"
      ]
     },
     "execution_count": 10,
     "metadata": {},
     "output_type": "execute_result"
    }
   ],
   "source": [
    "from sklearn.model_selection import cross_val_score\n",
    "from sklearn.metrics import roc_auc_score\n",
    "\n",
    "# verbose отвечает за детализацию выводимой информации. verbose=2 значит, что будет выводится score, а именно roc-auc-score\n",
    "\n",
    "cross_val_score(LogisticRegression(), x, y, cv=3, scoring='roc_auc', verbose=2).mean()"
   ]
  },
  {
   "cell_type": "markdown",
   "metadata": {
    "id": "2NdTbJTW_p3V"
   },
   "source": [
    "Подбор гиперпараметров по сетке **(GridSearchCV)**"
   ]
  },
  {
   "cell_type": "code",
   "execution_count": 11,
   "metadata": {
    "colab": {
     "base_uri": "https://localhost:8080/"
    },
    "id": "1ClHRH2ftaRA",
    "outputId": "eb4bd933-34e0-4b73-f931-143a33473674"
   },
   "outputs": [
    {
     "name": "stdout",
     "output_type": "stream",
     "text": [
      "0.825109999279449\n",
      "{'C': 0.26}\n"
     ]
    }
   ],
   "source": [
    "from sklearn.model_selection import GridSearchCV\n",
    "\n",
    "params = {'C' : np.arange(0.01, 10.01, 0.25)} \n",
    "\n",
    "gs = GridSearchCV(LogisticRegression(), params, cv=3, scoring='roc_auc')\n",
    "# первый параметр - модель, второй - словарь параметров, третий - число фолдов, четвертый - метрика\n",
    "\n",
    "gs.fit(x, y) # применяем метод к данным X, y (GridSearchCV сам разобъет данные на фолды)\n",
    "\n",
    "print(gs.best_score_) # качество наилучшей модели (с оптимальными гиперпараметрами)\n",
    "print(gs.best_params_) # оптимальные гиперпараметры"
   ]
  },
  {
   "cell_type": "code",
   "execution_count": 88,
   "metadata": {
    "colab": {
     "base_uri": "https://localhost:8080/"
    },
    "id": "qdDqwUCxB2Q0",
    "outputId": "c8f6b2ba-387c-49aa-c771-167388f36f2a"
   },
   "outputs": [
    {
     "name": "stdout",
     "output_type": "stream",
     "text": [
      "0.8057287165669725\n",
      "{'kernel': 'rbf'}\n"
     ]
    }
   ],
   "source": [
    "# перебор гиперпараметров из списка\n",
    "params2 = {'kernel' : ['rbf', 'poly', 'sigmoid', 'linear']}\n",
    "\n",
    "gs2 = GridSearchCV(SVC(), params2, cv=3, scoring='roc_auc')\n",
    "\n",
    "gs2.fit(x, y)\n",
    "\n",
    "print(gs2.best_score_) # качество наилучшей модели (с оптимальными гиперпараметрами)\n",
    "print(gs2.best_params_) # оптимальные гиперпараметры"
   ]
  },
  {
   "cell_type": "markdown",
   "metadata": {},
   "source": [
    "gs2.best_score_    # Это уже **обученная модель с наилучшими параметрами**. Ее можно использовать для получения предсказания"
   ]
  },
  {
   "cell_type": "code",
   "execution_count": null,
   "metadata": {},
   "outputs": [],
   "source": []
  }
 ],
 "metadata": {
  "colab": {
   "provenance": []
  },
  "kernelspec": {
   "display_name": "Python 3 (ipykernel)",
   "language": "python",
   "name": "python3"
  },
  "language_info": {
   "codemirror_mode": {
    "name": "ipython",
    "version": 3
   },
   "file_extension": ".py",
   "mimetype": "text/x-python",
   "name": "python",
   "nbconvert_exporter": "python",
   "pygments_lexer": "ipython3",
   "version": "3.10.11"
  }
 },
 "nbformat": 4,
 "nbformat_minor": 4
}
