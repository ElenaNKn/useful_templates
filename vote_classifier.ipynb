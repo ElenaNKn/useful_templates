{
 "cells": [
  {
   "cell_type": "markdown",
   "id": "1a6be361-4c2a-4a02-b31c-9320b2d0d6e6",
   "metadata": {},
   "source": [
    "# VotingClassifier"
   ]
  },
  {
   "cell_type": "markdown",
   "id": "913350ac-8f96-499a-a09e-1bbc922d6460",
   "metadata": {},
   "source": [
    "https://scikit-learn.org/stable/modules/generated/sklearn.ensemble.VotingClassifier.html"
   ]
  },
  {
   "cell_type": "code",
   "execution_count": null,
   "id": "e74e46e3-0338-4356-b7bd-39585cf7d614",
   "metadata": {},
   "outputs": [],
   "source": [
    "from sklearn.ensemble import VotingClassifier "
   ]
  },
  {
   "cell_type": "code",
   "execution_count": null,
   "id": "6342b00e-31b2-4ef4-940c-0529fd556154",
   "metadata": {},
   "outputs": [],
   "source": [
    "# create list of models with hyperparameters\n",
    "\n",
    "estimator = [] \n",
    "estimator.append(('logreg', LogisticRegression(C=9.26)))\n",
    "estimator.append(('knn', KNeighborsClassifier(n_neighbors=71)))\n",
    "\n",
    "vot_soft = VotingClassifier(estimators = estimator, voting ='soft')     # 'soft' - simple woting ;  'hard' - for good tuned models\n",
    "vot_soft.fit(Xtrain, y) \n",
    "\n",
    "# obtain prediction\n",
    "pred_soft = vot_soft.predict(Xtest)"
   ]
  }
 ],
 "metadata": {
  "kernelspec": {
   "display_name": "Python 3 (ipykernel)",
   "language": "python",
   "name": "python3"
  },
  "language_info": {
   "codemirror_mode": {
    "name": "ipython",
    "version": 3
   },
   "file_extension": ".py",
   "mimetype": "text/x-python",
   "name": "python",
   "nbconvert_exporter": "python",
   "pygments_lexer": "ipython3",
   "version": "3.10.9"
  }
 },
 "nbformat": 4,
 "nbformat_minor": 5
}
