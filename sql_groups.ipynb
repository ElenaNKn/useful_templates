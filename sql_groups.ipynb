{
 "cells": [
  {
   "cell_type": "code",
   "execution_count": null,
   "id": "0388aa01-0325-46f9-8b99-4d79a59529cf",
   "metadata": {},
   "outputs": [],
   "source": [
    "#Схема выделения групп и присвоения им меток\n",
    "SELECT\n",
    "*,\n",
    "MAX(CASE WHEN (there is element needed) THEN 1 ELSE 0 END)\n",
    "    OVER (PARTITION BY devision parameters, group) AS is_needed\n",
    "FROM\n",
    "(\n",
    "    SELECT parameters\n",
    "        countIf(border elements of the group)\n",
    "            OVER (PARTITION BY devision parameters ORDER BY element) AS group\n",
    "    FROM ...\n",
    "    WHERE ...\n",
    ")"
   ]
  }
 ],
 "metadata": {
  "kernelspec": {
   "display_name": "Python 3 (ipykernel)",
   "language": "python",
   "name": "python3"
  },
  "language_info": {
   "codemirror_mode": {
    "name": "ipython",
    "version": 3
   },
   "file_extension": ".py",
   "mimetype": "text/x-python",
   "name": "python",
   "nbconvert_exporter": "python",
   "pygments_lexer": "ipython3",
   "version": "3.10.9"
  }
 },
 "nbformat": 4,
 "nbformat_minor": 5
}
